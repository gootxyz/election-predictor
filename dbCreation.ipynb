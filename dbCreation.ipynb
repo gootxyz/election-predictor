{
 "cells": [
  {
   "cell_type": "markdown",
   "metadata": {},
   "source": [
    "# Building the dataset for the 2024 mexican election"
   ]
  },
  {
   "cell_type": "markdown",
   "metadata": {},
   "source": [
    "The purpose of this file is to translate the raw data, as included in the New_DB file, into a goup of datasets that resemble the sample photo included in the project. This sample is originated by the collection of the number of posts, and reactions to each one as for different social media profiles for each candidate, Xóchitl Gálvez, Claudia Sheinbaum, and Álvarez Mainez in this upcoming 2024 election.\n",
    "\n",
    "The New_DB file is updated on a daily basis to collect the presence of the candidates in different social media platforms, and the reponse from their audience to it."
   ]
  },
  {
   "cell_type": "code",
   "execution_count": 18,
   "metadata": {},
   "outputs": [],
   "source": [
    "# imports\n",
    "import os\n",
    "import pandas as pd\n",
    "import openpyxl"
   ]
  },
  {
   "cell_type": "code",
   "execution_count": 2,
   "metadata": {},
   "outputs": [],
   "source": [
    "# We will treat Claudia as candidate 1, Galvez as 2, and Mainez as 3"
   ]
  },
  {
   "cell_type": "code",
   "execution_count": 19,
   "metadata": {},
   "outputs": [],
   "source": [
    "# The days prior to a date for which we´ll sum the number of reactions\n",
    "days = [1,2,3,4,5,6,7,14,21,28]\n",
    "\n",
    "# Dates of published polls to read (as reported by Oraculus.mx)\n",
    "date_strings = [\n",
    "    \"2023-09-15\", \"2023-09-16\", \"2023-10-17\", \"2023-10-15\", \"2023-10-16\", \"2023-10-17\", \"2023-10-18\", \"2023-11-15\", \"2023-11-16\", \"2023-11-17\", \"2023-11-18\", \"2023-12-15\", \"2023-12-16\", \"2023-12-17\", \"2023-12-18\"\n",
    "]\n",
    "\n",
    "# Target variables for each polling release (reported share of preference)\n",
    "targets_claudia = [66, 60, 68, 55, 62, 65, 62, 54, 59, 63, 54, 59, 63, 66, 58]\n",
    "\n",
    "targets_xochitl = [26, 32, 26, 35, 31, 31, 34, 35, 28, 32, 39, 35, 32, 27, 36]\n",
    "\n",
    "# Polls correspoding to a date\n",
    "polls = [\"Enkoll\", \"GEA-ISA\", \"Covarrubias\", \"El FInanciero\", \"Enkoll\", \"Mendoza Blanco\", \"Simo\", \"El Financiero\", \"Enkoll\", \"Mendoza Blanco\", \"Reforma\", \"GEA-ISA\", \"Mendoza Blanco\", \"Simo\", \"El Financiero\"]\n",
    "\n",
    "#Setting columns to use (see New_DB)\n",
    "columns = ['XPosts', 'Xcomments', 'XRts', 'Xlikes', 'XCommsPPost', 'XRTsPPost', 'XlikesPPost', 'FBPosts', 'FBReactions', 'FBComments', 'FBShares', 'FBReactsPPost', 'FBCommsPPost', 'FBSharesPPost', 'IGPosts', 'IGLikes', 'IGLikesPPost', 'YTPosts', 'YTViews', 'YTViewsPPost']"
   ]
  },
  {
   "cell_type": "code",
   "execution_count": 30,
   "metadata": {},
   "outputs": [
    {
     "name": "stdout",
     "output_type": "stream",
     "text": [
      "Date: 2023-11-15, Poll: El Financiero, Result: 35\n",
      "Date: 2023-11-18, Poll: Reforma, Result: 39\n",
      "Date: 2023-10-18, Poll: Simo, Result: 34\n",
      "Date: 2023-11-17, Poll: Mendoza Blanco, Result: 32\n",
      "Date: 2023-11-16, Poll: Enkoll, Result: 28\n",
      "Date: 2023-10-16, Poll: Enkoll, Result: 31\n",
      "Date: 2023-12-15, Poll: GEA-ISA, Result: 35\n",
      "Date: 2023-10-17, Poll: Mendoza Blanco, Result: 31\n",
      "Date: 2023-12-17, Poll: Simo, Result: 27\n",
      "Date: 2023-10-15, Poll: El FInanciero, Result: 35\n",
      "Date: 2023-10-17, Poll: Covarrubias, Result: 26\n",
      "Date: 2023-12-16, Poll: Mendoza Blanco, Result: 32\n",
      "Date: 2023-12-18, Poll: El Financiero, Result: 36\n",
      "Date: 2023-09-15, Poll: Enkoll, Result: 26\n",
      "Date: 2023-09-16, Poll: GEA-ISA, Result: 32\n"
     ]
    }
   ],
   "source": [
    "# Create a set of tuples associating dates with corresponding polls\n",
    "date_poll_set = set(zip(date_strings, polls, targets_xochitl))\n",
    "for i, n, j in date_poll_set:\n",
    "  print(f\"Date: {i}, Poll: {n}, Result: {j}\")"
   ]
  },
  {
   "cell_type": "code",
   "execution_count": 31,
   "metadata": {},
   "outputs": [],
   "source": [
    "# File Path\n",
    "file_path = \"New_DB.xlsx\"\n",
    "# Read all sheets into a dictionary of DataFrames\n",
    "all_sheets = pd.read_excel(file_path, skiprows=1, sheet_name=None)\n",
    "\n",
    "# Access each DataFrame by sheet name\n",
    "galvez_df = all_sheets[\"Galvez\"]\n",
    "claudia_df = all_sheets[\"Claudia\"]\n",
    "\n",
    "# Convert 'Date' column to datetime if it's not already\n",
    "galvez_df['Date'] = pd.to_datetime(galvez_df['Date'])\n",
    "claudia_df['Date'] = pd.to_datetime(claudia_df['Date'])"
   ]
  },
  {
   "cell_type": "code",
   "execution_count": 32,
   "metadata": {},
   "outputs": [
    {
     "name": "stdout",
     "output_type": "stream",
     "text": [
      "1 2023-11-15 El Financiero 35\n",
      "1 2023-11-18 Reforma 39\n",
      "1 2023-10-18 Simo 34\n",
      "1 2023-11-17 Mendoza Blanco 32\n",
      "1 2023-11-16 Enkoll 28\n",
      "1 2023-10-16 Enkoll 31\n",
      "1 2023-12-15 GEA-ISA 35\n",
      "1 2023-10-17 Mendoza Blanco 31\n",
      "1 2023-12-17 Simo 27\n",
      "1 2023-10-15 El FInanciero 35\n",
      "1 2023-10-17 Covarrubias 26\n",
      "1 2023-12-16 Mendoza Blanco 32\n",
      "1 2023-12-18 El Financiero 36\n",
      "1 2023-09-15 Enkoll 26\n",
      "1 2023-09-16 GEA-ISA 32\n",
      "2 2023-11-15 El Financiero 35\n",
      "2 2023-11-18 Reforma 39\n",
      "2 2023-10-18 Simo 34\n",
      "2 2023-11-17 Mendoza Blanco 32\n",
      "2 2023-11-16 Enkoll 28\n",
      "2 2023-10-16 Enkoll 31\n",
      "2 2023-12-15 GEA-ISA 35\n",
      "2 2023-10-17 Mendoza Blanco 31\n",
      "2 2023-12-17 Simo 27\n",
      "2 2023-10-15 El FInanciero 35\n",
      "2 2023-10-17 Covarrubias 26\n",
      "2 2023-12-16 Mendoza Blanco 32\n",
      "2 2023-12-18 El Financiero 36\n",
      "2 2023-09-15 Enkoll 26\n",
      "2 2023-09-16 GEA-ISA 32\n",
      "3 2023-11-15 El Financiero 35\n",
      "3 2023-11-18 Reforma 39\n",
      "3 2023-10-18 Simo 34\n",
      "3 2023-11-17 Mendoza Blanco 32\n",
      "3 2023-11-16 Enkoll 28\n",
      "3 2023-10-16 Enkoll 31\n",
      "3 2023-12-15 GEA-ISA 35\n",
      "3 2023-10-17 Mendoza Blanco 31\n",
      "3 2023-12-17 Simo 27\n",
      "3 2023-10-15 El FInanciero 35\n",
      "3 2023-10-17 Covarrubias 26\n",
      "3 2023-12-16 Mendoza Blanco 32\n",
      "3 2023-12-18 El Financiero 36\n",
      "3 2023-09-15 Enkoll 26\n",
      "3 2023-09-16 GEA-ISA 32\n",
      "4 2023-11-15 El Financiero 35\n",
      "4 2023-11-18 Reforma 39\n",
      "4 2023-10-18 Simo 34\n",
      "4 2023-11-17 Mendoza Blanco 32\n",
      "4 2023-11-16 Enkoll 28\n",
      "4 2023-10-16 Enkoll 31\n",
      "4 2023-12-15 GEA-ISA 35\n",
      "4 2023-10-17 Mendoza Blanco 31\n",
      "4 2023-12-17 Simo 27\n",
      "4 2023-10-15 El FInanciero 35\n",
      "4 2023-10-17 Covarrubias 26\n",
      "4 2023-12-16 Mendoza Blanco 32\n",
      "4 2023-12-18 El Financiero 36\n",
      "4 2023-09-15 Enkoll 26\n",
      "4 2023-09-16 GEA-ISA 32\n",
      "5 2023-11-15 El Financiero 35\n",
      "5 2023-11-18 Reforma 39\n",
      "5 2023-10-18 Simo 34\n",
      "5 2023-11-17 Mendoza Blanco 32\n",
      "5 2023-11-16 Enkoll 28\n",
      "5 2023-10-16 Enkoll 31\n",
      "5 2023-12-15 GEA-ISA 35\n",
      "5 2023-10-17 Mendoza Blanco 31\n",
      "5 2023-12-17 Simo 27\n",
      "5 2023-10-15 El FInanciero 35\n",
      "5 2023-10-17 Covarrubias 26\n",
      "5 2023-12-16 Mendoza Blanco 32\n",
      "5 2023-12-18 El Financiero 36\n",
      "5 2023-09-15 Enkoll 26\n",
      "5 2023-09-16 GEA-ISA 32\n",
      "6 2023-11-15 El Financiero 35\n",
      "6 2023-11-18 Reforma 39\n",
      "6 2023-10-18 Simo 34\n",
      "6 2023-11-17 Mendoza Blanco 32\n",
      "6 2023-11-16 Enkoll 28\n",
      "6 2023-10-16 Enkoll 31\n",
      "6 2023-12-15 GEA-ISA 35\n",
      "6 2023-10-17 Mendoza Blanco 31\n",
      "6 2023-12-17 Simo 27\n",
      "6 2023-10-15 El FInanciero 35\n",
      "6 2023-10-17 Covarrubias 26\n",
      "6 2023-12-16 Mendoza Blanco 32\n",
      "6 2023-12-18 El Financiero 36\n",
      "6 2023-09-15 Enkoll 26\n",
      "6 2023-09-16 GEA-ISA 32\n",
      "7 2023-11-15 El Financiero 35\n",
      "7 2023-11-18 Reforma 39\n",
      "7 2023-10-18 Simo 34\n",
      "7 2023-11-17 Mendoza Blanco 32\n",
      "7 2023-11-16 Enkoll 28\n",
      "7 2023-10-16 Enkoll 31\n",
      "7 2023-12-15 GEA-ISA 35\n",
      "7 2023-10-17 Mendoza Blanco 31\n",
      "7 2023-12-17 Simo 27\n",
      "7 2023-10-15 El FInanciero 35\n",
      "7 2023-10-17 Covarrubias 26\n",
      "7 2023-12-16 Mendoza Blanco 32\n",
      "7 2023-12-18 El Financiero 36\n",
      "7 2023-09-15 Enkoll 26\n",
      "7 2023-09-16 GEA-ISA 32\n",
      "14 2023-11-15 El Financiero 35\n",
      "14 2023-11-18 Reforma 39\n",
      "14 2023-10-18 Simo 34\n",
      "14 2023-11-17 Mendoza Blanco 32\n",
      "14 2023-11-16 Enkoll 28\n",
      "14 2023-10-16 Enkoll 31\n",
      "14 2023-12-15 GEA-ISA 35\n",
      "14 2023-10-17 Mendoza Blanco 31\n",
      "14 2023-12-17 Simo 27\n",
      "14 2023-10-15 El FInanciero 35\n",
      "14 2023-10-17 Covarrubias 26\n",
      "14 2023-12-16 Mendoza Blanco 32\n",
      "14 2023-12-18 El Financiero 36\n",
      "14 2023-09-15 Enkoll 26\n",
      "14 2023-09-16 GEA-ISA 32\n",
      "21 2023-11-15 El Financiero 35\n",
      "21 2023-11-18 Reforma 39\n",
      "21 2023-10-18 Simo 34\n",
      "21 2023-11-17 Mendoza Blanco 32\n",
      "21 2023-11-16 Enkoll 28\n",
      "21 2023-10-16 Enkoll 31\n",
      "21 2023-12-15 GEA-ISA 35\n",
      "21 2023-10-17 Mendoza Blanco 31\n",
      "21 2023-12-17 Simo 27\n",
      "21 2023-10-15 El FInanciero 35\n",
      "21 2023-10-17 Covarrubias 26\n",
      "21 2023-12-16 Mendoza Blanco 32\n",
      "21 2023-12-18 El Financiero 36\n",
      "21 2023-09-15 Enkoll 26\n",
      "21 2023-09-16 GEA-ISA 32\n",
      "28 2023-11-15 El Financiero 35\n",
      "28 2023-11-18 Reforma 39\n",
      "28 2023-10-18 Simo 34\n",
      "28 2023-11-17 Mendoza Blanco 32\n",
      "28 2023-11-16 Enkoll 28\n",
      "28 2023-10-16 Enkoll 31\n",
      "28 2023-12-15 GEA-ISA 35\n",
      "28 2023-10-17 Mendoza Blanco 31\n",
      "28 2023-12-17 Simo 27\n",
      "28 2023-10-15 El FInanciero 35\n",
      "28 2023-10-17 Covarrubias 26\n",
      "28 2023-12-16 Mendoza Blanco 32\n",
      "28 2023-12-18 El Financiero 36\n",
      "28 2023-09-15 Enkoll 26\n",
      "28 2023-09-16 GEA-ISA 32\n"
     ]
    },
    {
     "data": {
      "text/plain": [
       "150"
      ]
     },
     "execution_count": 32,
     "metadata": {},
     "output_type": "execute_result"
    }
   ],
   "source": [
    "# How mauch data should we have? 10 dates * n number of poll releases\n",
    "count = 0\n",
    "for i in days:\n",
    "  for x, y, z in date_poll_set:\n",
    "    print(i, x, y, z)\n",
    "    count += 1\n",
    "count"
   ]
  },
  {
   "cell_type": "code",
   "execution_count": 33,
   "metadata": {},
   "outputs": [],
   "source": [
    "# Specify the directory where you want to save the CSV files\n",
    "output_directory = './galvez/'\n",
    "result_dataframes = {}\n",
    "for i in days:\n",
    "  for x, y, z in date_poll_set:\n",
    "    # Filter rows based on the established date and count the specified number of rows before that\n",
    "    filtered_df = galvez_df.loc[galvez_df['Date'] < x].iloc[-i:]\n",
    "    # Sum the data in the selected rows\n",
    "    sum_result = filtered_df[columns].sum()\n",
    "    # Turn result into a DF and Transpose\n",
    "    pd_result = sum_result.to_frame().T\n",
    "    #Adding metadata columns to the new sum dataframe\n",
    "    pd_result['Candidate'] = 'Galvez'\n",
    "    pd_result['Window'] = i\n",
    "    pd_result['Ref. Date'] = x\n",
    "    pd_result['Institute'] = y\n",
    "    pd_result['Target'] = z\n",
    "    # round the result and output\n",
    "    pd_result = pd_result.round()\n",
    "\n",
    "    # Store the dataframe in the dictionary with a meaningful key\n",
    "    key = f\"2_{i}_{x}_{y}\"\n",
    "    result_dataframes[key] = pd_result\n",
    "\n",
    "    # Save the dataframe to a CSV file in the specified directory\n",
    "    csv_filepath = os.path.join(output_directory, f\"{key}.csv\")\n",
    "    pd_result.to_csv(csv_filepath, index=False)\n"
   ]
  },
  {
   "cell_type": "markdown",
   "metadata": {},
   "source": [
    "We have now created single column files that correspond to each poll by a date, by candidate. We now need to join corresponding poll results categorized by window time."
   ]
  },
  {
   "cell_type": "code",
   "execution_count": 35,
   "metadata": {},
   "outputs": [
    {
     "name": "stdout",
     "output_type": "stream",
     "text": [
      "CSV files matching the pattern 2_1_ successfully combined. Output saved to: ./galvez/2_1.csv\n",
      "CSV files matching the pattern 2_2_ successfully combined. Output saved to: ./galvez/2_2.csv\n",
      "CSV files matching the pattern 2_3_ successfully combined. Output saved to: ./galvez/2_3.csv\n",
      "CSV files matching the pattern 2_4_ successfully combined. Output saved to: ./galvez/2_4.csv\n",
      "CSV files matching the pattern 2_5_ successfully combined. Output saved to: ./galvez/2_5.csv\n",
      "CSV files matching the pattern 2_6_ successfully combined. Output saved to: ./galvez/2_6.csv\n",
      "CSV files matching the pattern 2_7_ successfully combined. Output saved to: ./galvez/2_7.csv\n",
      "CSV files matching the pattern 2_14_ successfully combined. Output saved to: ./galvez/2_14.csv\n",
      "CSV files matching the pattern 2_21_ successfully combined. Output saved to: ./galvez/2_21.csv\n",
      "CSV files matching the pattern 2_28_ successfully combined. Output saved to: ./galvez/2_28.csv\n"
     ]
    }
   ],
   "source": [
    "# Set the directory where your CSV files are located\n",
    "directory = './galvez/'\n",
    "for i in days:\n",
    "\n",
    "    # Specify the pattern for file names to include\n",
    "    file_name_pattern = f'2_{i}_'\n",
    "\n",
    "    # Get a list of CSV files in the directory that match the pattern\n",
    "    csv_files = [file for file in os.listdir(directory) if file.endswith('.csv') and file.startswith(file_name_pattern)]\n",
    "\n",
    "    # Ensure there are matching CSV files in the directory\n",
    "    if not csv_files:\n",
    "        print(f\"No CSV files matching the pattern {file_name_pattern} found in the specified directory.\")\n",
    "    else:\n",
    "        # Read the first CSV file to get the header\n",
    "        first_file_path = os.path.join(directory, csv_files[0])\n",
    "        df_combined = pd.read_csv(first_file_path)\n",
    "\n",
    "        # Loop through the remaining CSV files and concatenate them\n",
    "        for csv_file in csv_files[1:]:\n",
    "            file_path = os.path.join(directory, csv_file)\n",
    "            df = pd.read_csv(file_path)\n",
    "            df_combined = pd.concat([df_combined, df], ignore_index=True)\n",
    "\n",
    "        # Write the combined DataFrame to a new CSV file\n",
    "        combined_output_path = f'./galvez/2_{i}.csv'\n",
    "        df_combined.to_csv(combined_output_path, index=False)\n",
    "\n",
    "        print(f\"CSV files matching the pattern {file_name_pattern} successfully combined. Output saved to: {combined_output_path}\")\n"
   ]
  },
  {
   "cell_type": "markdown",
   "metadata": {},
   "source": [
    "This process will be repeated to feed the regression models on multiple occasions (as new polls get released and as new posts get interactions on a daily basis). \n",
    "\n",
    "The release of this dataset belongs to the research effort performed by the author of this repository, which hopes to upbring new research based on it since similar databases have not been found."
   ]
  },
  {
   "cell_type": "markdown",
   "metadata": {},
   "source": []
  }
 ],
 "metadata": {
  "kernelspec": {
   "display_name": "venv",
   "language": "python",
   "name": "python3"
  },
  "language_info": {
   "codemirror_mode": {
    "name": "ipython",
    "version": 3
   },
   "file_extension": ".py",
   "mimetype": "text/x-python",
   "name": "python",
   "nbconvert_exporter": "python",
   "pygments_lexer": "ipython3",
   "version": "3.11.2"
  }
 },
 "nbformat": 4,
 "nbformat_minor": 2
}
