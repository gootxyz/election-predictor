{
 "cells": [
  {
   "cell_type": "markdown",
   "metadata": {},
   "source": [
    "# Measuring Correlations between SM and Polling Results"
   ]
  },
  {
   "cell_type": "code",
   "execution_count": 47,
   "metadata": {},
   "outputs": [],
   "source": [
    "# imports\n",
    "import os\n",
    "import pandas as pd\n",
    "import seaborn as sns\n",
    "import openpyxl\n",
    "from scipy.stats import pearsonr"
   ]
  },
  {
   "cell_type": "code",
   "execution_count": 39,
   "metadata": {},
   "outputs": [],
   "source": [
    "# The days prior to a date for which we´ll sum the number of reactions\n",
    "days = [1,2,3,4,5,6,7,14,21,28]\n",
    "\n",
    "# Dates of published polls to read (as reported by Oraculus.mx)\n",
    "date_strings = [\n",
    "    \"2023-09-15\", \"2023-09-16\", \"2023-10-15\", \"2023-10-16\", \"2023-10-17\", \"2023-10-18\", \"2023-10-19\", \"2023-10-20\", \"2023-10-21\", \"2023-11-15\", \"2023-11-16\", \"2023-11-17\", \"2023-11-18\", \"2023-11-19\", \"2023-11-20\", \"2023-11-21\", \"2023-11-22\", \"2023-11-23\", \"2023-12-15\", \"2023-12-16\", \"2023-12-17\", \"2023-12-18\", \"2023-12-19\", \"2023-12-20\", \"2023-12-21\", \"2023-12-22\", \"2023-12-23\", \"2023-12-24\", \"2024-01-15\", \"2024-01-16\", \"2024-01-17\", \"2024-01-18\", \"2024-01-19\", \"2024-01-20\", \"2024-01-21\", \"2024-01-22\"\n",
    "]\n",
    "\n",
    "# Target variables for each polling release (reported share of preference)\n",
    "targets_claudia = [49, 53, 59, 46, 50, 55, 48, 60, 57, 48, 57, 66, 50, 49, 54, 50, 52, 46, 51, 55, 65, 52, 52, 54, 50, 53, 57, 46, 54, 66, 48, 55, 61, 51, 63, 64]\n",
    "\n",
    "targets_galvez = [26, 34, 21, 28, 27, 24, 27, 17, 22, 24, 22, 14, 31, 23, 24, 27, 25, 25, 27, 22, 13, 30, 30, 23, 25, 26, 23, 24, 27, 14, 32, 27, 24, 27, 22, 30] \n",
    "\n",
    "targets_maynez = [18, 7, 5, 8, 15, 9, 10, 9, 7, 8, 7, 6, 7, 17, 8, 10, 10, 14, 3, 5, 6, 7, 10, 9, 6, 5, 9, 11, 3, 2, 10, 2, 5, 5, 4, 6]\n",
    "\n",
    "# Polls correspoding to a date\n",
    "polls = [\"Enkoll\", \"GEA-ISA\", \"Covarrubias\", \"El FInanciero\", \"Enkoll\", \"Mendoza Blanco\", \"Mitofsky\", \"Parametría\", \"Simo\", \"Buendía y Márquez\", \"Covarrubias\", \"Demotecnia\", \"El Financiero\", \"Enkoll\", \"Mendoza Blanco\", \"Mitofsky\", \"Parametría\", \"Reforma\", \"Berumen\", \"Covarrubias\", \"Demotecnia\", \"El Financiero\", \"GEA-ISA\", \"Mendoza Blanco\", \"Mitofsky\", \"Parametría\", \"Simo\", \"Citibanamex\", \"Berumen\", \"Demotecnia\", \"El Financiero\", \"Enkoll\", \"Mendoza Blanco\", \"Mitofsky\", \"Simo\", \"Actual Oraculus\"]"
   ]
  },
  {
   "cell_type": "code",
   "execution_count": 40,
   "metadata": {},
   "outputs": [
    {
     "data": {
      "text/html": [
       "<div>\n",
       "<style scoped>\n",
       "    .dataframe tbody tr th:only-of-type {\n",
       "        vertical-align: middle;\n",
       "    }\n",
       "\n",
       "    .dataframe tbody tr th {\n",
       "        vertical-align: top;\n",
       "    }\n",
       "\n",
       "    .dataframe thead th {\n",
       "        text-align: right;\n",
       "    }\n",
       "</style>\n",
       "<table border=\"1\" class=\"dataframe\">\n",
       "  <thead>\n",
       "    <tr style=\"text-align: right;\">\n",
       "      <th></th>\n",
       "      <th>Date</th>\n",
       "      <th>Claudia</th>\n",
       "      <th>Gálvez</th>\n",
       "      <th>Poll</th>\n",
       "      <th>month</th>\n",
       "    </tr>\n",
       "  </thead>\n",
       "  <tbody>\n",
       "    <tr>\n",
       "      <th>0</th>\n",
       "      <td>2023-09-15</td>\n",
       "      <td>49</td>\n",
       "      <td>26</td>\n",
       "      <td>Enkoll</td>\n",
       "      <td>9</td>\n",
       "    </tr>\n",
       "    <tr>\n",
       "      <th>1</th>\n",
       "      <td>2023-09-16</td>\n",
       "      <td>53</td>\n",
       "      <td>34</td>\n",
       "      <td>GEA-ISA</td>\n",
       "      <td>9</td>\n",
       "    </tr>\n",
       "    <tr>\n",
       "      <th>2</th>\n",
       "      <td>2023-10-15</td>\n",
       "      <td>59</td>\n",
       "      <td>21</td>\n",
       "      <td>Covarrubias</td>\n",
       "      <td>10</td>\n",
       "    </tr>\n",
       "    <tr>\n",
       "      <th>3</th>\n",
       "      <td>2023-10-16</td>\n",
       "      <td>46</td>\n",
       "      <td>28</td>\n",
       "      <td>El FInanciero</td>\n",
       "      <td>10</td>\n",
       "    </tr>\n",
       "    <tr>\n",
       "      <th>4</th>\n",
       "      <td>2023-10-17</td>\n",
       "      <td>50</td>\n",
       "      <td>27</td>\n",
       "      <td>Enkoll</td>\n",
       "      <td>10</td>\n",
       "    </tr>\n",
       "  </tbody>\n",
       "</table>\n",
       "</div>"
      ],
      "text/plain": [
       "         Date  Claudia  Gálvez           Poll  month\n",
       "0  2023-09-15       49      26         Enkoll      9\n",
       "1  2023-09-16       53      34        GEA-ISA      9\n",
       "2  2023-10-15       59      21    Covarrubias     10\n",
       "3  2023-10-16       46      28  El FInanciero     10\n",
       "4  2023-10-17       50      27         Enkoll     10"
      ]
     },
     "execution_count": 40,
     "metadata": {},
     "output_type": "execute_result"
    }
   ],
   "source": [
    "polls_dict = {\"Date\": date_strings, \"Claudia\": targets_claudia, \"Gálvez\": targets_galvez, \"Poll\": polls}\n",
    "polls_df = pd.DataFrame(polls_dict)\n",
    "polls_df['month'] = pd.DatetimeIndex(polls_df['Date']).month\n",
    "polls_df.head()\n"
   ]
  },
  {
   "cell_type": "code",
   "execution_count": 41,
   "metadata": {},
   "outputs": [
    {
     "data": {
      "text/plain": [
       "36"
      ]
     },
     "execution_count": 41,
     "metadata": {},
     "output_type": "execute_result"
    }
   ],
   "source": [
    "len(polls_df)"
   ]
  },
  {
   "cell_type": "code",
   "execution_count": 42,
   "metadata": {},
   "outputs": [
    {
     "data": {
      "text/plain": [
       "(36, 36, 36, 36, 36)"
      ]
     },
     "execution_count": 42,
     "metadata": {},
     "output_type": "execute_result"
    }
   ],
   "source": [
    "# Does every day have a poll? Does every poll have a percentage?\n",
    "len(date_strings), len(targets_claudia), len(targets_galvez), len(polls), len(targets_maynez)"
   ]
  },
  {
   "cell_type": "code",
   "execution_count": 45,
   "metadata": {},
   "outputs": [],
   "source": [
    "# File Path\n",
    "file_path = \"../New_DB.xlsx\"\n",
    "# Read all sheets into a dictionary of DataFrames\n",
    "all_sheets = pd.read_excel(file_path, skiprows=1, sheet_name=None)\n",
    "\n",
    "# Access each DataFrame by sheet name\n",
    "galvez_df = all_sheets[\"Galvez\"]\n",
    "claudia_df = all_sheets[\"Claudia\"]\n",
    "maynez_df = all_sheets[\"Maynez\"]\n",
    "\n",
    "# Convert 'Date' column to datetime if it's not already\n",
    "galvez_df['Date'] = pd.to_datetime(galvez_df['Date'])\n",
    "claudia_df['Date'] = pd.to_datetime(claudia_df['Date'])\n",
    "maynez_df['Date'] = pd.to_datetime(maynez_df['Date'])"
   ]
  },
  {
   "cell_type": "code",
   "execution_count": 46,
   "metadata": {},
   "outputs": [
    {
     "data": {
      "text/plain": [
       "190"
      ]
     },
     "execution_count": 46,
     "metadata": {},
     "output_type": "execute_result"
    }
   ],
   "source": [
    "len(galvez_df)"
   ]
  },
  {
   "cell_type": "code",
   "execution_count": null,
   "metadata": {},
   "outputs": [],
   "source": []
  }
 ],
 "metadata": {
  "kernelspec": {
   "display_name": "venv",
   "language": "python",
   "name": "python3"
  },
  "language_info": {
   "codemirror_mode": {
    "name": "ipython",
    "version": 3
   },
   "file_extension": ".py",
   "mimetype": "text/x-python",
   "name": "python",
   "nbconvert_exporter": "python",
   "pygments_lexer": "ipython3",
   "version": "3.11.2"
  }
 },
 "nbformat": 4,
 "nbformat_minor": 2
}
