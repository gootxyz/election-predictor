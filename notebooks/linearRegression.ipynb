{
 "cells": [
  {
   "cell_type": "markdown",
   "metadata": {},
   "source": [
    "# Implmenting Linear Regression"
   ]
  },
  {
   "cell_type": "markdown",
   "metadata": {},
   "source": [
    "The goal for this notebook is to see if social media other than facebook and Twitter influence over the predictions performed by a base-case linear regression algorithm. We will:\n",
    "\n",
    "1. Predict the voting preference with only Twitter and Facebook\n",
    "2. See the results\n",
    "3. Visualize the feature importance\n",
    "\n",
    "And we will do the same but with Instagram and Youtube added to the features.\n",
    "\n",
    "Will the same features remain important when YouTube and Instagram are added?"
   ]
  },
  {
   "cell_type": "code",
   "execution_count": 24,
   "metadata": {},
   "outputs": [],
   "source": [
    "import pandas as pd\n",
    "import os\n",
    "import numpy as np\n",
    "from sklearn.linear_model import LinearRegression\n",
    "import matplotlib.pyplot as plt\n",
    "from sklearn.preprocessing import StandardScaler\n",
    "from sklearn.metrics import mean_absolute_error\n",
    "import seaborn as sns\n",
    "plt.style.use('fivethirtyeight')"
   ]
  },
  {
   "cell_type": "code",
   "execution_count": 25,
   "metadata": {},
   "outputs": [],
   "source": [
    "# Utils\n",
    "def average(lst): \n",
    "    return sum(lst) / len(lst) \n",
    "days = [1,2,3,4,5,6,7,14,21,28]\n",
    "# IMPORTANT: Seeds to try\n",
    "seeds = [1,2,3,4,5]\n",
    "# Create a StandardScaler instance\n",
    "scaler = StandardScaler()"
   ]
  },
  {
   "cell_type": "markdown",
   "metadata": {},
   "source": [
    "### Columns Description\n",
    "\n",
    "*Corresponding to the number of instances before a certain polling release date (e.g 24 XPosts located on a 1_1_ file belong to the number of X posts for candidate 1 over a span of 1 day before a specified date)*\n",
    "\n",
    "* XPosts: Number of overall posts in X (Twitter)\n",
    "* Xcomments: Number of overall comments in X\n",
    "* XRts: Number of overall Rt´s in X\n",
    "* XLikes: Number of overall likes in X\n",
    "* XCommsPPost: Average number of comments per post for X\n",
    "* XRtsPPost: Average number of Rts per post for X\n",
    "* XLikesPPost: Average number of likes per post for X\n",
    "\n",
    "* FBPosts: Number of overall posts in Facebook\n",
    "* FBReactions: Number of overall reactions in Facebook\n",
    "* FBComments: Number of overall comments in Facebook\n",
    "* FBShares: Number of overall comments in Facebook\n",
    "* FBCommsPPost: Average number of comments per post for Facebook\n",
    "* FBReactsPPost: Average number of reactions per post for Facebook\n",
    "* FBLikesPPost: Average number of likes per post for Facebook\n",
    "\n",
    "* IGPosts: Number of overall posts in Instagram\n",
    "* IGLikes: Number of overall likes in Instagram\n",
    "* IGLikesPPost: Average number of likes per post for Instagram\n",
    "\n",
    "* YTPosts: Number of overall posts in YouTube\n",
    "* YTViews: Number of overall views in YouTube\n",
    "* YTViewsPPost: Average number of views per post for YouTube\n",
    "\n",
    "* Target: the reported vote share for the candidate\n"
   ]
  },
  {
   "cell_type": "code",
   "execution_count": 26,
   "metadata": {},
   "outputs": [],
   "source": [
    "#Setting columns to use (see New_DB)\n",
    "columns = ['XPosts', 'Xcomments', 'XRts', 'Xlikes', 'XCommsPPost', 'XRTsPPost', 'XlikesPPost', 'FBPosts', 'FBReactions', 'FBComments', 'FBShares', 'FBReactsPPost', 'FBCommsPPost', 'FBSharesPPost', 'IGPosts', 'IGLikes', 'IGLikesPPost', 'YTPosts', 'YTViews', 'YTViewsPPost', 'Target']\n",
    "\n",
    "target = ['Target']\n",
    "\n",
    "feature_columns_1 = ['XPosts', 'Xcomments', 'XRts', 'Xlikes', 'XCommsPPost', 'XRTsPPost', 'XlikesPPost', 'FBPosts', 'FBReactions', 'FBComments', 'FBShares', 'FBReactsPPost', 'FBCommsPPost', 'FBSharesPPost', 'IGPosts', 'IGLikes', 'IGLikesPPost', 'YTPosts', 'YTViews', 'YTViewsPPost']\n",
    "\n",
    "feature_columns_2 = ['XPosts', 'Xcomments', 'XRts', 'Xlikes', 'XCommsPPost', 'XRTsPPost', 'XlikesPPost', 'FBPosts', 'FBReactions', 'FBComments', 'FBShares', 'FBReactsPPost', 'FBCommsPPost', 'FBSharesPPost']\n",
    "\n",
    "testing_columns = ['XPosts', 'Xcomments', 'XRts', 'Xlikes', 'XCommsPPost', 'XRTsPPost', 'XlikesPPost']"
   ]
  },
  {
   "cell_type": "code",
   "execution_count": 27,
   "metadata": {},
   "outputs": [],
   "source": [
    "# Helper function for plotting feature importance\n",
    "def plot_features(columns, importances, length):\n",
    "    df = (pd.DataFrame({\"features\": columns, \"feature_importance\": importances}) .sort_values(\"feature_importance\", ascending=False) .reset_index(drop=True))\n",
    "    sns.barplot(x=\"feature_importance\", y=\"features\", data=df[:length], orient=\"h\")"
   ]
  },
  {
   "cell_type": "code",
   "execution_count": 28,
   "metadata": {},
   "outputs": [
    {
     "name": "stdout",
     "output_type": "stream",
     "text": [
      "Number of features including only Facebook and X: 20\n",
      "Number of features including only Facebook and X: 14\n",
      "Number of features including only Facebook and X: 7\n"
     ]
    }
   ],
   "source": [
    "print(f\"Number of features including only Facebook and X: {len(feature_columns_1)}\")\n",
    "print(f\"Number of features including only Facebook and X: {len(feature_columns_2)}\")\n",
    "print(f\"Number of features including only Facebook and X: {len(testing_columns)}\")"
   ]
  },
  {
   "cell_type": "markdown",
   "metadata": {},
   "source": [
    "## Predictions"
   ]
  },
  {
   "cell_type": "markdown",
   "metadata": {},
   "source": [
    "Xóchitl Gálvez"
   ]
  },
  {
   "cell_type": "code",
   "execution_count": 20,
   "metadata": {},
   "outputs": [],
   "source": [
    "model1 = LinearRegression()\n",
    "predictions = []\n",
    "importances = [0] * len(testing_columns)\n",
    "\n",
    "data = pd.read_csv(f'../galvez/2_1.csv', usecols=columns, encoding=\"utf-8\")\n",
    "# Training and testing data; Remove last row which is the testing row\n",
    "training = data.iloc[:-1]\n",
    "testing = pd.DataFrame(data.iloc[-1])\n",
    "testing = testing.T"
   ]
  },
  {
   "cell_type": "code",
   "execution_count": null,
   "metadata": {},
   "outputs": [],
   "source": []
  },
  {
   "cell_type": "code",
   "execution_count": null,
   "metadata": {},
   "outputs": [],
   "source": []
  },
  {
   "cell_type": "code",
   "execution_count": null,
   "metadata": {},
   "outputs": [],
   "source": []
  },
  {
   "cell_type": "code",
   "execution_count": null,
   "metadata": {},
   "outputs": [],
   "source": []
  },
  {
   "cell_type": "code",
   "execution_count": null,
   "metadata": {},
   "outputs": [],
   "source": []
  },
  {
   "cell_type": "code",
   "execution_count": null,
   "metadata": {},
   "outputs": [],
   "source": []
  },
  {
   "cell_type": "code",
   "execution_count": null,
   "metadata": {},
   "outputs": [],
   "source": []
  },
  {
   "cell_type": "code",
   "execution_count": 32,
   "metadata": {},
   "outputs": [],
   "source": [
    "model1 = LinearRegression()\n",
    "predictions = []\n",
    "importances = [0] * len(feature_columns_1)\n",
    "\n",
    "for i in days:\n",
    "  # Scan the file and set data\n",
    "  data = pd.read_csv(f'../galvez/2_{i}.csv', usecols=columns, encoding=\"utf-8\")\n",
    "  # Training and testing data; Remove last row which is the testing row\n",
    "  training = data.iloc[:-1]\n",
    "  testing = pd.DataFrame(data.iloc[-1])\n",
    "  testing = testing.T\n",
    "\n",
    "  # Splitting\n",
    "  X_train = training[feature_columns_1]\n",
    "  X_test = testing[feature_columns_1]\n",
    "\n",
    "  x_train_scaled = scaler.fit_transform(X_train)\n",
    "  x_test_scaled = scaler.transform(X_test)\n",
    "\n",
    "  y_train = training[target]\n",
    "  y_test = testing[target] \n",
    "  \n",
    "  model1.fit(x_train_scaled, y_train)\n",
    "\n",
    "  prediction = model1.predict(x_test_scaled)\n",
    "  \n",
    "  predictions.append(prediction)\n",
    "\n",
    "  importances = importances + model1.coef_\n"
   ]
  },
  {
   "cell_type": "code",
   "execution_count": 33,
   "metadata": {},
   "outputs": [
    {
     "data": {
      "text/plain": [
       "[array([[32.06641846]]),\n",
       " array([[31.05303565]]),\n",
       " array([[27.14339285]]),\n",
       " array([[30.66888496]]),\n",
       " array([[29.49667819]]),\n",
       " array([[14.62741983]]),\n",
       " array([[36.47453701]]),\n",
       " array([[25.78834236]]),\n",
       " array([[40.51218923]]),\n",
       " array([[30.94046971]])]"
      ]
     },
     "execution_count": 33,
     "metadata": {},
     "output_type": "execute_result"
    }
   ],
   "source": [
    "predictions"
   ]
  },
  {
   "cell_type": "code",
   "execution_count": 34,
   "metadata": {},
   "outputs": [
    {
     "data": {
      "text/plain": [
       "array([[29.87713682]])"
      ]
     },
     "execution_count": 34,
     "metadata": {},
     "output_type": "execute_result"
    }
   ],
   "source": [
    "average(predictions)"
   ]
  },
  {
   "cell_type": "code",
   "execution_count": 18,
   "metadata": {},
   "outputs": [
    {
     "name": "stdout",
     "output_type": "stream",
     "text": [
      "The prediction is: 25.166666666666668\n",
      "We have 10 predictions feeding that average since we have 10 days\n"
     ]
    }
   ],
   "source": [
    "print(f\"The prediction is: {average(predictions)[0][0]}\")\n",
    "print(f\"We have {len(predictions)} predictions feeding that average since we have {len(days)} days\")"
   ]
  },
  {
   "cell_type": "code",
   "execution_count": 45,
   "metadata": {},
   "outputs": [
    {
     "data": {
      "text/plain": [
       "array([[-0.7163917 ,  2.41034015,  0.02024367,  0.17508141,  2.65075068,\n",
       "        -0.02010769,  0.70216786, -1.76779739, -0.32924771, -0.26725628,\n",
       "        -0.17253854, -0.08652839,  0.16097374,  0.71356432, -2.42358201,\n",
       "         1.06917492,  2.66673277,  0.41477123,  0.96182356,  0.71527145]])"
      ]
     },
     "execution_count": 45,
     "metadata": {},
     "output_type": "execute_result"
    }
   ],
   "source": [
    "importances"
   ]
  },
  {
   "cell_type": "code",
   "execution_count": 46,
   "metadata": {},
   "outputs": [],
   "source": [
    "importances = importances[0]/len(predictions)"
   ]
  },
  {
   "cell_type": "code",
   "execution_count": 47,
   "metadata": {},
   "outputs": [
    {
     "data": {
      "text/plain": [
       "array([-0.07163917,  0.24103401,  0.00202437,  0.01750814,  0.26507507,\n",
       "       -0.00201077,  0.07021679, -0.17677974, -0.03292477, -0.02672563,\n",
       "       -0.01725385, -0.00865284,  0.01609737,  0.07135643, -0.2423582 ,\n",
       "        0.10691749,  0.26667328,  0.04147712,  0.09618236,  0.07152714])"
      ]
     },
     "execution_count": 47,
     "metadata": {},
     "output_type": "execute_result"
    }
   ],
   "source": [
    "importances"
   ]
  },
  {
   "cell_type": "code",
   "execution_count": 48,
   "metadata": {},
   "outputs": [
    {
     "data": {
      "text/plain": [
       "20"
      ]
     },
     "execution_count": 48,
     "metadata": {},
     "output_type": "execute_result"
    }
   ],
   "source": [
    "len(importances)"
   ]
  },
  {
   "cell_type": "code",
   "execution_count": 49,
   "metadata": {},
   "outputs": [
    {
     "data": {
      "image/png": "[encoded data removed]",
      "text/plain": [
       "<Figure size 640x480 with 1 Axes>"
      ]
     },
     "metadata": {},
     "output_type": "display_data"
    }
   ],
   "source": [
    "plot_features(X_train.columns, importances, len(importances))"
   ]
  },
  {
   "cell_type": "code",
   "execution_count": 50,
   "metadata": {},
   "outputs": [
    {
     "data": {
      "text/plain": [
       "3.1666666666666643"
      ]
     },
     "execution_count": 50,
     "metadata": {},
     "output_type": "execute_result"
    }
   ],
   "source": [
    "mean_absolute_error(y_test, average(predictions))"
   ]
  },
  {
   "cell_type": "code",
   "execution_count": null,
   "metadata": {},
   "outputs": [],
   "source": []
  }
 ],
 "metadata": {
  "kernelspec": {
   "display_name": "venv",
   "language": "python",
   "name": "python3"
  },
  "language_info": {
   "codemirror_mode": {
    "name": "ipython",
    "version": 3
   },
   "file_extension": ".py",
   "mimetype": "text/x-python",
   "name": "python",
   "nbconvert_exporter": "python",
   "pygments_lexer": "ipython3",
   "version": "3.11.2"
  }
 },
 "nbformat": 4,
 "nbformat_minor": 2
}
