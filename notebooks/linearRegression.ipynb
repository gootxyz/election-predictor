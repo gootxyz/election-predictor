{
 "cells": [
  {
   "cell_type": "markdown",
   "metadata": {},
   "source": [
    "# Implmenting Linear Regression"
   ]
  },
  {
   "cell_type": "code",
   "execution_count": 1,
   "metadata": {},
   "outputs": [],
   "source": [
    "import pandas as pd\n",
    "import os\n",
    "import numpy as np\n",
    "from sklearn.linear_model import LinearRegression"
   ]
  },
  {
   "cell_type": "code",
   "execution_count": 3,
   "metadata": {},
   "outputs": [],
   "source": [
    "# Utils\n",
    "def average(lst): \n",
    "    return sum(lst) / len(lst) \n",
    "\n",
    "days = [1,2,3,4,5,6,7,14,21,28]\n",
    "# IMPORTANT: Seeds to try\n",
    "seeds = [1,2,3,4,5]"
   ]
  },
  {
   "cell_type": "markdown",
   "metadata": {},
   "source": [
    "### Columns Description\n",
    "\n",
    "*Corresponding to the number of instances before a certain polling release date (e.g 24 XPosts located on a 1_1_ file belong to the number of X posts for candidate 1 over a span of 1 day before a specified date)*\n",
    "\n",
    "* XPosts: Number of overall posts in X (Twitter)\n",
    "* Xcomments: Number of overall comments in X\n",
    "* XRts: Number of overall Rt´s in X\n",
    "* XLikes: Number of overall likes in X\n",
    "* XCommsPPost: Average number of comments per post for X\n",
    "* XRtsPPost: Average number of Rts per post for X\n",
    "* XLikesPPost: Average number of likes per post for X\n",
    "\n",
    "* FBPosts: Number of overall posts in Facebook\n",
    "* FBReactions: Number of overall reactions in Facebook\n",
    "* FBComments: Number of overall comments in Facebook\n",
    "* FBShares: Number of overall comments in Facebook\n",
    "* FBCommsPPost: Average number of comments per post for Facebook\n",
    "* FBReactsPPost: Average number of reactions per post for Facebook\n",
    "* FBLikesPPost: Average number of likes per post for Facebook\n",
    "\n",
    "* IGPosts: Number of overall posts in Instagram\n",
    "* IGLikes: Number of overall likes in Instagram\n",
    "* IGLikesPPost: Average number of likes per post for Instagram\n",
    "\n",
    "* YTPosts: Number of overall posts in YouTube\n",
    "* YTViews: Number of overall views in YouTube\n",
    "* YTViewsPPost: Average number of views per post for YouTube\n",
    "\n",
    "* Target: the reported vote share for the candidate\n"
   ]
  },
  {
   "cell_type": "code",
   "execution_count": 4,
   "metadata": {},
   "outputs": [],
   "source": [
    "#Setting columns to use (see New_DB)\n",
    "columns = ['XPosts', 'Xcomments', 'XRts', 'Xlikes', 'XCommsPPost', 'XRTsPPost', 'XlikesPPost', 'FBPosts', 'FBReactions', 'FBComments', 'FBShares', 'FBReactsPPost', 'FBCommsPPost', 'FBSharesPPost', 'IGPosts', 'IGLikes', 'IGLikesPPost', 'YTPosts', 'YTViews', 'YTViewsPPost', 'Target']\n",
    "\n",
    "target = ['Target']\n",
    "\n",
    "feature_columns = ['XPosts', 'Xcomments', 'XRts', 'Xlikes', 'XCommsPPost', 'XRTsPPost', 'XlikesPPost', 'FBPosts', 'FBReactions', 'FBComments', 'FBShares', 'FBReactsPPost', 'FBCommsPPost', 'FBSharesPPost', 'IGPosts', 'IGLikes', 'IGLikesPPost', 'YTPosts', 'YTViews', 'YTViewsPPost']"
   ]
  },
  {
   "cell_type": "code",
   "execution_count": null,
   "metadata": {},
   "outputs": [],
   "source": []
  }
 ],
 "metadata": {
  "kernelspec": {
   "display_name": "venv",
   "language": "python",
   "name": "python3"
  },
  "language_info": {
   "codemirror_mode": {
    "name": "ipython",
    "version": 3
   },
   "file_extension": ".py",
   "mimetype": "text/x-python",
   "name": "python",
   "nbconvert_exporter": "python",
   "pygments_lexer": "ipython3",
   "version": "3.11.2"
  }
 },
 "nbformat": 4,
 "nbformat_minor": 2
}
