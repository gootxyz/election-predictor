{
 "cells": [
  {
   "cell_type": "markdown",
   "metadata": {},
   "source": [
    "# Implementing Linear Regression"
   ]
  },
  {
   "cell_type": "markdown",
   "metadata": {},
   "source": [
    "The goal for this notebook is to see if social media other than facebook and Twitter influence over the predictions performed by a base-case linear regression algorithm. We will:\n",
    "\n",
    "1. Predict the voting preference with only Twitter and Facebook\n",
    "2. See the results\n",
    "3. Visualize the feature importance\n",
    "\n",
    "And we will do the same but with Instagram and Youtube added to the features.\n",
    "\n",
    "Will the same features remain important when YouTube and Instagram are added?"
   ]
  },
  {
   "cell_type": "code",
   "execution_count": 1,
   "metadata": {},
   "outputs": [],
   "source": [
    "import pandas as pd\n",
    "import os\n",
    "import numpy as np\n",
    "from sklearn.linear_model import LinearRegression\n",
    "import matplotlib.pyplot as plt\n",
    "from sklearn.preprocessing import StandardScaler\n",
    "from sklearn.preprocessing import MinMaxScaler\n",
    "from sklearn.metrics import mean_absolute_error\n",
    "import seaborn as sns\n",
    "plt.style.use('ggplot')"
   ]
  },
  {
   "cell_type": "code",
   "execution_count": 2,
   "metadata": {},
   "outputs": [],
   "source": [
    "# Utils\n",
    "def average(lst): \n",
    "    return sum(lst) / len(lst) \n",
    "days = [1,2,3,4,5,6,7,14,21,28]\n",
    "# IMPORTANT: Seeds to try\n",
    "seeds = [1,2,3,4,5]\n",
    "# Create a StandardScaler instance\n",
    "scaler = StandardScaler()\n",
    "normalizer = MinMaxScaler()"
   ]
  },
  {
   "cell_type": "markdown",
   "metadata": {},
   "source": [
    "### Columns Description\n",
    "\n",
    "*Corresponding to the number of instances before a certain polling release date (e.g 24 XPosts located on a 1_1_ file belong to the number of X posts for candidate 1 over a span of 1 day before a specified date)*\n",
    "\n",
    "* XPosts: Number of overall posts in X (Twitter)\n",
    "* Xcomments: Number of overall comments in X\n",
    "* XRts: Number of overall Rt´s in X\n",
    "* XLikes: Number of overall likes in X\n",
    "* XCommsPPost: Average number of comments per post for X\n",
    "* XRtsPPost: Average number of Rts per post for X\n",
    "* XLikesPPost: Average number of likes per post for X\n",
    "\n",
    "* FBPosts: Number of overall posts in Facebook\n",
    "* FBReactions: Number of overall reactions in Facebook\n",
    "* FBComments: Number of overall comments in Facebook\n",
    "* FBShares: Number of overall comments in Facebook\n",
    "* FBCommsPPost: Average number of comments per post for Facebook\n",
    "* FBReactsPPost: Average number of reactions per post for Facebook\n",
    "* FBLikesPPost: Average number of likes per post for Facebook\n",
    "\n",
    "* IGPosts: Number of overall posts in Instagram\n",
    "* IGLikes: Number of overall likes in Instagram\n",
    "* IGLikesPPost: Average number of likes per post for Instagram\n",
    "\n",
    "* YTPosts: Number of overall posts in YouTube\n",
    "* YTViews: Number of overall views in YouTube\n",
    "* YTViewsPPost: Average number of views per post for YouTube\n",
    "\n",
    "* Target: the reported vote share for the candidate\n"
   ]
  },
  {
   "cell_type": "code",
   "execution_count": 3,
   "metadata": {},
   "outputs": [],
   "source": [
    "#Setting columns to use (see New_DB)\n",
    "columns = ['XPosts', 'Xcomments', 'XRts', 'Xlikes', 'XCommsPPost', 'XRTsPPost', 'XlikesPPost', 'FBPosts', 'FBReactions', 'FBComments', 'FBShares', 'FBReactsPPost', 'FBCommsPPost', 'FBSharesPPost', 'IGPosts', 'IGLikes', 'IGLikesPPost', 'YTPosts', 'YTViews', 'YTViewsPPost', 'Target']\n",
    "\n",
    "target = ['Target']\n",
    "\n",
    "feature_columns_all = ['XPosts', 'Xcomments', 'XRts', 'Xlikes', 'XCommsPPost', 'XRTsPPost', 'XlikesPPost', 'FBPosts', 'FBReactions', 'FBComments', 'FBShares', 'FBReactsPPost', 'FBCommsPPost', 'FBSharesPPost', 'IGPosts', 'IGLikes', 'IGLikesPPost', 'YTPosts', 'YTViews', 'YTViewsPPost']\n",
    "\n",
    "feature_columns_notall = ['XPosts', 'Xcomments', 'XRts', 'Xlikes', 'XCommsPPost', 'XRTsPPost', 'XlikesPPost', 'FBPosts', 'FBReactions', 'FBComments', 'FBShares', 'FBReactsPPost', 'FBCommsPPost', 'FBSharesPPost']\n",
    "\n",
    "testing_columns = ['XPosts', 'Xcomments', 'XRts', 'Xlikes', 'XCommsPPost', 'XRTsPPost', 'XlikesPPost']"
   ]
  },
  {
   "cell_type": "code",
   "execution_count": 4,
   "metadata": {},
   "outputs": [],
   "source": [
    "# Helper function for plotting feature importance\n",
    "def plot_features(columns, importances, length):\n",
    "    df = (pd.DataFrame({\"features\": columns, \"feature_importance\": importances}) .sort_values(\"feature_importance\", ascending=False) .reset_index(drop=True))\n",
    "    sns.barplot(x=\"feature_importance\", y=\"features\", data=df[:length], orient=\"h\")"
   ]
  },
  {
   "cell_type": "code",
   "execution_count": 5,
   "metadata": {},
   "outputs": [
    {
     "name": "stdout",
     "output_type": "stream",
     "text": [
      "Number of features including only Facebook and X: 20\n",
      "Number of features including only Facebook and X: 14\n",
      "Number of features including only Facebook and X: 7\n"
     ]
    }
   ],
   "source": [
    "print(f\"Number of features including only Facebook and X: {len(feature_columns_all)}\")\n",
    "print(f\"Number of features including only Facebook and X: {len(feature_columns_notall)}\")\n",
    "print(f\"Number of features including only Facebook and X: {len(testing_columns)}\")"
   ]
  },
  {
   "cell_type": "markdown",
   "metadata": {},
   "source": [
    "## Predictions"
   ]
  },
  {
   "cell_type": "markdown",
   "metadata": {},
   "source": [
    "### Xóchitl Gálvez"
   ]
  },
  {
   "cell_type": "code",
   "execution_count": 50,
   "metadata": {},
   "outputs": [],
   "source": [
    "model1 = LinearRegression()\n",
    "\n",
    "predictions = []\n",
    "\n",
    "features_included = feature_columns_all\n",
    "\n",
    "importances = [0] * len(features_included)\n",
    "\n",
    "for i in days:\n",
    "  # Scan the file and set data\n",
    "  data = pd.read_csv(f'../galvez/2_{i}.csv', usecols=columns, encoding=\"utf-8\")\n",
    "  # Training and testing data; Remove last row which is the testing row\n",
    "  training = data.iloc[:-1]\n",
    "  testing = pd.DataFrame(data.iloc[-1])\n",
    "  testing = testing.T\n",
    "\n",
    "  # Splitting\n",
    "  X_train = training[features_included]\n",
    "  X_test = testing[features_included]\n",
    "\n",
    "  # Normalizing\n",
    "  x_train_scaled = normalizer.fit_transform(X_train)\n",
    "  x_test_scaled = normalizer.transform(X_test)\n",
    "\n",
    "  y_train = training[target]\n",
    "  y_test = testing[target] * 100\n",
    "  \n",
    "  model1.fit(x_train_scaled, y_train)\n",
    "\n",
    "  prediction = model1.predict(x_test_scaled)\n",
    "  \n",
    "  predictions.append(prediction)\n",
    "\n",
    "  importances = importances + model1.coef_\n"
   ]
  },
  {
   "cell_type": "code",
   "execution_count": 51,
   "metadata": {},
   "outputs": [
    {
     "data": {
      "text/plain": [
       "[array([[32.51838995]]),\n",
       " array([[7.23378306]]),\n",
       " array([[29.09700229]]),\n",
       " array([[46.73284352]]),\n",
       " array([[20.75453772]]),\n",
       " array([[20.78185057]]),\n",
       " array([[46.86185344]]),\n",
       " array([[43.39931568]]),\n",
       " array([[54.3048576]]),\n",
       " array([[76.88553823]])]"
      ]
     },
     "execution_count": 51,
     "metadata": {},
     "output_type": "execute_result"
    }
   ],
   "source": [
    "predictions"
   ]
  },
  {
   "cell_type": "code",
   "execution_count": 52,
   "metadata": {},
   "outputs": [
    {
     "data": {
      "text/plain": [
       "array([[37.85699721]])"
      ]
     },
     "execution_count": 52,
     "metadata": {},
     "output_type": "execute_result"
    }
   ],
   "source": [
    "average(predictions)"
   ]
  },
  {
   "cell_type": "code",
   "execution_count": 26,
   "metadata": {},
   "outputs": [
    {
     "name": "stdout",
     "output_type": "stream",
     "text": [
      "The prediction is: 37.85699720646137\n",
      "We have 10 predictions feeding that average since we have 10 days\n"
     ]
    }
   ],
   "source": [
    "print(f\"The prediction is: {average(predictions)[0][0]}\")\n",
    "print(f\"We have {len(predictions)} predictions feeding that average since we have {len(days)} days\")"
   ]
  },
  {
   "cell_type": "code",
   "execution_count": 27,
   "metadata": {},
   "outputs": [
    {
     "data": {
      "text/plain": [
       "array([[-9.50717216e+01,  5.25469543e+01, -9.90491441e+01,\n",
       "         4.24354951e+02, -9.56904507e+01,  1.70546124e+02,\n",
       "        -2.31653939e+02, -2.64039713e+02,  1.11406045e+03,\n",
       "        -1.58326128e+02, -6.06595576e+02, -6.08943744e+02,\n",
       "         1.09427300e+02,  3.45867433e+02,  2.54882929e+01,\n",
       "        -9.47032170e+01,  9.82531106e-01,  3.15992738e+01,\n",
       "         2.60693082e+02, -3.45223674e+02]])"
      ]
     },
     "execution_count": 27,
     "metadata": {},
     "output_type": "execute_result"
    }
   ],
   "source": [
    "importances"
   ]
  },
  {
   "cell_type": "code",
   "execution_count": 28,
   "metadata": {},
   "outputs": [],
   "source": [
    "importances = importances[0]/len(predictions)"
   ]
  },
  {
   "cell_type": "code",
   "execution_count": 29,
   "metadata": {},
   "outputs": [
    {
     "data": {
      "text/plain": [
       "array([-9.50717216e+00,  5.25469543e+00, -9.90491441e+00,  4.24354951e+01,\n",
       "       -9.56904507e+00,  1.70546124e+01, -2.31653939e+01, -2.64039713e+01,\n",
       "        1.11406045e+02, -1.58326128e+01, -6.06595576e+01, -6.08943744e+01,\n",
       "        1.09427300e+01,  3.45867433e+01,  2.54882929e+00, -9.47032170e+00,\n",
       "        9.82531106e-02,  3.15992738e+00,  2.60693082e+01, -3.45223674e+01])"
      ]
     },
     "execution_count": 29,
     "metadata": {},
     "output_type": "execute_result"
    }
   ],
   "source": [
    "importances"
   ]
  },
  {
   "cell_type": "code",
   "execution_count": 30,
   "metadata": {},
   "outputs": [
    {
     "data": {
      "text/plain": [
       "20"
      ]
     },
     "execution_count": 30,
     "metadata": {},
     "output_type": "execute_result"
    }
   ],
   "source": [
    "len(importances)"
   ]
  },
  {
   "cell_type": "code",
   "execution_count": 31,
   "metadata": {},
   "outputs": [
    {
     "data": {
      "image/png": "[encoded data removed]",
      "text/plain": [
       "<Figure size 640x480 with 1 Axes>"
      ]
     },
     "metadata": {},
     "output_type": "display_data"
    }
   ],
   "source": [
    "plot_features(X_train.columns, importances, len(importances))"
   ]
  },
  {
   "cell_type": "code",
   "execution_count": 32,
   "metadata": {},
   "outputs": [
    {
     "data": {
      "text/plain": [
       "3.8569972064613722"
      ]
     },
     "execution_count": 32,
     "metadata": {},
     "output_type": "execute_result"
    }
   ],
   "source": [
    "mean_absolute_error(y_test, average(predictions))"
   ]
  },
  {
   "cell_type": "markdown",
   "metadata": {},
   "source": [
    "### Claudia Sheinbaum\n"
   ]
  },
  {
   "cell_type": "code",
   "execution_count": 54,
   "metadata": {},
   "outputs": [],
   "source": [
    "model1 = LinearRegression()\n",
    "predictions = []\n",
    "\n",
    "features_included = feature_columns_all\n",
    "\n",
    "importances = [0] * len(features_included)\n",
    "\n",
    "for i in days:\n",
    "  # Scan the file and set data\n",
    "  data = pd.read_csv(f'../claudia/1_{i}.csv', usecols=columns, encoding=\"utf-8\")\n",
    "  # Training and testing data; Remove last row which is the testing row\n",
    "  training = data.iloc[:-1]\n",
    "  testing = pd.DataFrame(data.iloc[-1])\n",
    "  testing = testing.T\n",
    "\n",
    "  # Splitting\n",
    "  X_train = training[features_included]\n",
    "  X_test = testing[features_included]\n",
    "\n",
    "  x_train_scaled = normalizer.fit_transform(X_train)\n",
    "  x_test_scaled = normalizer.transform(X_test)\n",
    "\n",
    "  y_train = training[target]\n",
    "  y_test = testing[target] * 100\n",
    "  \n",
    "  model1.fit(x_train_scaled, y_train)\n",
    "\n",
    "  prediction = model1.predict(x_test_scaled)\n",
    "  \n",
    "  predictions.append(prediction)\n",
    "\n",
    "  importances = importances + model1.coef_"
   ]
  },
  {
   "cell_type": "code",
   "execution_count": 55,
   "metadata": {},
   "outputs": [
    {
     "data": {
      "text/plain": [
       "(10, array([[50.04370699]]))"
      ]
     },
     "execution_count": 55,
     "metadata": {},
     "output_type": "execute_result"
    }
   ],
   "source": [
    "len(predictions), average(predictions)"
   ]
  },
  {
   "cell_type": "code",
   "execution_count": 11,
   "metadata": {},
   "outputs": [
    {
     "name": "stdout",
     "output_type": "stream",
     "text": [
      "The prediction is: 50.043706985982176\n",
      "We have 10 predictions feeding that average since we have 10 days\n"
     ]
    }
   ],
   "source": [
    "print(f\"The prediction is: {average(predictions)[0][0]}\")\n",
    "print(f\"We have {len(predictions)} predictions feeding that average since we have {len(days)} days\")"
   ]
  },
  {
   "cell_type": "code",
   "execution_count": 36,
   "metadata": {},
   "outputs": [
    {
     "data": {
      "text/plain": [
       "array([[-210.50961465, -312.80580602,  315.82627162,   80.34200813,\n",
       "         280.85341545, -128.2395234 ,   14.19880216, -291.22508814,\n",
       "         196.54462665,  750.04171689, -254.87046657, -256.187814  ,\n",
       "        -413.37964192,  204.46441881,  417.81826875, -648.21260009,\n",
       "         167.9059497 ,   44.43398255, -324.6836372 ,  160.58500634]])"
      ]
     },
     "execution_count": 36,
     "metadata": {},
     "output_type": "execute_result"
    }
   ],
   "source": [
    "importances"
   ]
  },
  {
   "cell_type": "code",
   "execution_count": 37,
   "metadata": {},
   "outputs": [],
   "source": [
    "importances = importances[0]/len(predictions)"
   ]
  },
  {
   "cell_type": "code",
   "execution_count": 38,
   "metadata": {},
   "outputs": [
    {
     "data": {
      "text/plain": [
       "array([-21.05096147, -31.2805806 ,  31.58262716,   8.03420081,\n",
       "        28.08534154, -12.82395234,   1.41988022, -29.12250881,\n",
       "        19.65446267,  75.00417169, -25.48704666, -25.6187814 ,\n",
       "       -41.33796419,  20.44644188,  41.78182687, -64.82126001,\n",
       "        16.79059497,   4.44339826, -32.46836372,  16.05850063])"
      ]
     },
     "execution_count": 38,
     "metadata": {},
     "output_type": "execute_result"
    }
   ],
   "source": [
    "importances"
   ]
  },
  {
   "cell_type": "code",
   "execution_count": 39,
   "metadata": {},
   "outputs": [
    {
     "data": {
      "text/plain": [
       "20"
      ]
     },
     "execution_count": 39,
     "metadata": {},
     "output_type": "execute_result"
    }
   ],
   "source": [
    "len(importances)"
   ]
  },
  {
   "cell_type": "code",
   "execution_count": 40,
   "metadata": {},
   "outputs": [
    {
     "data": {
      "image/png": "[encoded data removed]",
      "text/plain": [
       "<Figure size 640x480 with 1 Axes>"
      ]
     },
     "metadata": {},
     "output_type": "display_data"
    }
   ],
   "source": [
    "plot_features(X_train.columns, importances, len(importances))"
   ]
  },
  {
   "cell_type": "code",
   "execution_count": 41,
   "metadata": {},
   "outputs": [
    {
     "data": {
      "text/plain": [
       "7.956293014017824"
      ]
     },
     "execution_count": 41,
     "metadata": {},
     "output_type": "execute_result"
    }
   ],
   "source": [
    "mean_absolute_error(y_test, average(predictions))"
   ]
  },
  {
   "cell_type": "code",
   "execution_count": 47,
   "metadata": {},
   "outputs": [],
   "source": [
    "data = pd.read_csv(f'../maynez/3_7.csv', usecols=columns, encoding=\"utf-8\")\n",
    "  # Training and testing data; Remove last row which is the testing row\n",
    "training = data.iloc[:-1]\n",
    "testing = pd.DataFrame(data.iloc[-1])\n",
    "testing = testing.T\n",
    "\n",
    "  # Splitting\n",
    "X_train = training[features_included]\n",
    "X_test = testing[features_included]\n",
    "\n",
    "x_train_scaled = normalizer.fit_transform(X_train)\n",
    "x_test_scaled = normalizer.transform(X_test)\n",
    "\n",
    "y_train = training[target]\n",
    "y_test = testing[target] "
   ]
  },
  {
   "cell_type": "code",
   "execution_count": 49,
   "metadata": {},
   "outputs": [
    {
     "data": {
      "text/html": [
       "<div>\n",
       "<style scoped>\n",
       "    .dataframe tbody tr th:only-of-type {\n",
       "        vertical-align: middle;\n",
       "    }\n",
       "\n",
       "    .dataframe tbody tr th {\n",
       "        vertical-align: top;\n",
       "    }\n",
       "\n",
       "    .dataframe thead th {\n",
       "        text-align: right;\n",
       "    }\n",
       "</style>\n",
       "<table border=\"1\" class=\"dataframe\">\n",
       "  <thead>\n",
       "    <tr style=\"text-align: right;\">\n",
       "      <th></th>\n",
       "      <th>Target</th>\n",
       "    </tr>\n",
       "  </thead>\n",
       "  <tbody>\n",
       "    <tr>\n",
       "      <th>27</th>\n",
       "      <td>900.0</td>\n",
       "    </tr>\n",
       "  </tbody>\n",
       "</table>\n",
       "</div>"
      ],
      "text/plain": [
       "    Target\n",
       "27   900.0"
      ]
     },
     "execution_count": 49,
     "metadata": {},
     "output_type": "execute_result"
    }
   ],
   "source": [
    "y_test*100"
   ]
  },
  {
   "cell_type": "markdown",
   "metadata": {},
   "source": [
    "### Álvarez Maynez"
   ]
  },
  {
   "cell_type": "code",
   "execution_count": 56,
   "metadata": {},
   "outputs": [],
   "source": [
    "model1 = LinearRegression()\n",
    "predictions = []\n",
    "\n",
    "features_included = feature_columns_all\n",
    "\n",
    "importances = [0] * len(features_included)\n",
    "\n",
    "for i in days:\n",
    "  # Scan the file and set data\n",
    "  data = pd.read_csv(f'../maynez/3_{i}.csv', usecols=columns, encoding=\"utf-8\")\n",
    "  # Training and testing data; Remove last row which is the testing row\n",
    "  training = data.iloc[:-1]\n",
    "  testing = pd.DataFrame(data.iloc[-1])\n",
    "  testing = testing.T\n",
    "\n",
    "  # Splitting\n",
    "  X_train = training[features_included]\n",
    "  X_test = testing[features_included]\n",
    "\n",
    "  x_train_scaled = normalizer.fit_transform(X_train)\n",
    "  x_test_scaled = normalizer.transform(X_test)\n",
    "\n",
    "  y_train = training[target]\n",
    "  y_test = testing[target] * 100\n",
    "  \n",
    "  model1.fit(x_train_scaled, y_train)\n",
    "\n",
    "  prediction = model1.predict(x_test_scaled)\n",
    "  \n",
    "  predictions.append(prediction)\n",
    "\n",
    "  importances = importances + model1.coef_"
   ]
  },
  {
   "cell_type": "code",
   "execution_count": 57,
   "metadata": {},
   "outputs": [
    {
     "data": {
      "text/plain": [
       "(10, array([[-5.13850502]]))"
      ]
     },
     "execution_count": 57,
     "metadata": {},
     "output_type": "execute_result"
    }
   ],
   "source": [
    "len(predictions), average(predictions)"
   ]
  },
  {
   "cell_type": "code",
   "execution_count": 58,
   "metadata": {},
   "outputs": [
    {
     "data": {
      "text/plain": [
       "[array([[-1.3138362]]),\n",
       " array([[-24.35988352]]),\n",
       " array([[-24.04365788]]),\n",
       " array([[-112.04884989]]),\n",
       " array([[-61.26252862]]),\n",
       " array([[-24.18788207]]),\n",
       " array([[37.68985583]]),\n",
       " array([[41.18324406]]),\n",
       " array([[-15.2978411]]),\n",
       " array([[132.25632916]])]"
      ]
     },
     "execution_count": 58,
     "metadata": {},
     "output_type": "execute_result"
    }
   ],
   "source": [
    "predictions"
   ]
  },
  {
   "cell_type": "code",
   "execution_count": 43,
   "metadata": {},
   "outputs": [
    {
     "data": {
      "text/plain": [
       "26.477328108571385"
      ]
     },
     "execution_count": 43,
     "metadata": {},
     "output_type": "execute_result"
    }
   ],
   "source": [
    "mean_absolute_error(y_test, average(predictions))"
   ]
  },
  {
   "cell_type": "code",
   "execution_count": null,
   "metadata": {},
   "outputs": [],
   "source": []
  }
 ],
 "metadata": {
  "kernelspec": {
   "display_name": "venv",
   "language": "python",
   "name": "python3"
  },
  "language_info": {
   "codemirror_mode": {
    "name": "ipython",
    "version": 3
   },
   "file_extension": ".py",
   "mimetype": "text/x-python",
   "name": "python",
   "nbconvert_exporter": "python",
   "pygments_lexer": "ipython3",
   "version": "3.11.2"
  }
 },
 "nbformat": 4,
 "nbformat_minor": 2
}
