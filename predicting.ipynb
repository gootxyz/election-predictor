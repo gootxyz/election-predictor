{
 "cells": [
  {
   "cell_type": "markdown",
   "metadata": {},
   "source": [
    "# Training notebook"
   ]
  },
  {
   "cell_type": "code",
   "execution_count": 1,
   "metadata": {},
   "outputs": [],
   "source": [
    "# Some models implemented by the lierature to test\n",
    "from sklearn.neural_network import MLPRegressor\n",
    "import pandas as pd\n",
    "import os\n",
    "import numpy as np\n",
    "from sklearn.linear_model import LinearRegression\n",
    "from pyGRNN import GRNN\n",
    "from sklearn.model_selection import  GridSearchCV\n",
    "from sklearn.metrics import mean_squared_error as MSE"
   ]
  },
  {
   "cell_type": "code",
   "execution_count": 2,
   "metadata": {},
   "outputs": [],
   "source": [
    "# Utils\n",
    "def average(lst): \n",
    "    return sum(lst) / len(lst) \n",
    "\n",
    "days = [1,2,3,4,5,6,7,14,21,28]"
   ]
  },
  {
   "cell_type": "code",
   "execution_count": 3,
   "metadata": {},
   "outputs": [],
   "source": [
    "# IMPORTANT: Seeds to try\n",
    "seeds = [1,2,3,4,5]"
   ]
  },
  {
   "cell_type": "markdown",
   "metadata": {},
   "source": [
    "### Columns Description\n",
    "\n",
    "*Corresponding to the number of instances before a certain polling release date (e.g 24 XPosts located on a 1_1_ file belong to the number of X posts for candidate 1 over a span of 1 day before a specified date)*\n",
    "\n",
    "* XPosts: Number of overall posts in X (Twitter)\n",
    "* Xcomments: Number of overall comments in X\n",
    "* XRts: Number of overall Rt´s in X\n",
    "* XLikes: Number of overall likes in X\n",
    "* XCommsPPost: Average number of comments per post for X\n",
    "* XRtsPPost: Average number of Rts per post for X\n",
    "* XLikesPPost: Average number of likes per post for X\n",
    "\n",
    "* FBPosts: Number of overall posts in Facebook\n",
    "* FBReactions: Number of overall reactions in Facebook\n",
    "* FBComments: Number of overall comments in Facebook\n",
    "* FBShares: Number of overall comments in Facebook\n",
    "* FBCommsPPost: Average number of comments per post for Facebook\n",
    "* FBReactsPPost: Average number of reactions per post for Facebook\n",
    "* FBLikesPPost: Average number of likes per post for Facebook\n",
    "\n",
    "* IGPosts: Number of overall posts in Instagram\n",
    "* IGLikes: Number of overall likes in Instagram\n",
    "* IGLikesPPost: Average number of likes per post for Instagram\n",
    "\n",
    "* YTPosts: Number of overall posts in YouTube\n",
    "* YTViews: Number of overall views in YouTube\n",
    "* YTViewsPPost: Average number of views per post for YouTube\n",
    "\n",
    "* Target: the reported vote share for the candidate\n",
    "\n"
   ]
  },
  {
   "cell_type": "code",
   "execution_count": 4,
   "metadata": {},
   "outputs": [],
   "source": [
    "#Setting columns to use (see New_DB)\n",
    "columns = ['XPosts', 'Xcomments', 'XRts', 'Xlikes', 'XCommsPPost', 'XRTsPPost', 'XlikesPPost', 'FBPosts', 'FBReactions', 'FBComments', 'FBShares', 'FBReactsPPost', 'FBCommsPPost', 'FBSharesPPost', 'IGPosts', 'IGLikes', 'IGLikesPPost', 'YTPosts', 'YTViews', 'YTViewsPPost', 'Target']\n",
    "\n",
    "target = ['Target']\n",
    "\n",
    "feature_columns = ['XPosts', 'Xcomments', 'XRts', 'Xlikes', 'XCommsPPost', 'XRTsPPost', 'XlikesPPost', 'FBPosts', 'FBReactions', 'FBComments', 'FBShares', 'FBReactsPPost', 'FBCommsPPost', 'FBSharesPPost', 'IGPosts', 'IGLikes', 'IGLikesPPost', 'YTPosts', 'YTViews', 'YTViewsPPost']"
   ]
  },
  {
   "cell_type": "markdown",
   "metadata": {},
   "source": [
    "## Multi-layer Perceptron (MLP)\n",
    "\n",
    "MLPRegressor trains iteratively since at each time step the partial derivatives of the loss function with respect to the model parameters are computed to update the parameters.\n",
    "\n",
    "It can also have a regularization term added to the loss function that shrinks model parameters to prevent overfitting.\n",
    "\n",
    "This implementation works with data represented as dense and sparse numpy arrays of floating point values."
   ]
  },
  {
   "cell_type": "markdown",
   "metadata": {},
   "source": [
    "### MLP"
   ]
  },
  {
   "cell_type": "markdown",
   "metadata": {},
   "source": [
    "We would expect to get 10 predicitons, 1 per window frame (days) and the final vote share prediction will be the average of them."
   ]
  },
  {
   "cell_type": "markdown",
   "metadata": {},
   "source": [
    "#### Claudia"
   ]
  },
  {
   "cell_type": "code",
   "execution_count": 85,
   "metadata": {},
   "outputs": [],
   "source": [
    "predictions = []\n",
    "claudia_mlp = []\n",
    "for i in days:\n",
    "  # Scan the file and set data\n",
    "  data = pd.read_csv(f'./claudia/1_{i}.csv', usecols=columns, encoding=\"utf-8\")\n",
    "  # Training and testing data; Remove last row which is the testing row\n",
    "  training_data = data.iloc[:-1]\n",
    "  testing_data = pd.DataFrame(data.iloc[-1])\n",
    "  testing_data = testing_data.T\n",
    "  # Splitting\n",
    "  X_train = training_data[feature_columns]\n",
    "  y_train = training_data[target]\n",
    "  y_train = y_train['Target'].values\n",
    "\n",
    "  X_test = testing_data[feature_columns]\n",
    "  y_test = testing_data[target]\n",
    "  y_test = y_test['Target'].values\n",
    "  # Assign random states (as literature)\n",
    "  for y in seeds:\n",
    "    regr = MLPRegressor(hidden_layer_sizes=(3, ), solver=\"lbfgs\", alpha=0.05, random_state=y, max_iter=500).fit(X_train, y_train)\n",
    "    # Predict\n",
    "    prediction = regr.predict(X_test)\n",
    "    # Append prediction\n",
    "    claudia_mlp.append(prediction[0])\n",
    "  # Append the 5 averaged predictions to a final predictions list\n",
    "  predictions.append(average(claudia_mlp))\n"
   ]
  },
  {
   "cell_type": "code",
   "execution_count": 95,
   "metadata": {},
   "outputs": [
    {
     "name": "stdout",
     "output_type": "stream",
     "text": [
      "The number of predictions to be averaged is 10, and the prediction is 54%, the real result being 63.0%\n"
     ]
    }
   ],
   "source": [
    "print(f\"The number of predictions to be averaged is {len(predictions)}, and the prediction is {round(average(predictions))}%, the real result being {y_test[0]}%\");"
   ]
  },
  {
   "cell_type": "markdown",
   "metadata": {},
   "source": [
    "#### Gálvez"
   ]
  },
  {
   "cell_type": "code",
   "execution_count": 96,
   "metadata": {},
   "outputs": [],
   "source": [
    "galvez_mlp = []\n",
    "predictions = []\n",
    "for i in days:\n",
    "  # Scan the file and set data\n",
    "  data = pd.read_csv(f'./galvez/2_{i}.csv', usecols=columns, encoding=\"utf-8\")\n",
    "  # Training and testing data; Remove last row which is the testing row\n",
    "  training_data = data.iloc[:-1]\n",
    "  testing_data = pd.DataFrame(data.iloc[-1])\n",
    "  testing_data = testing_data.T\n",
    "  # Splitting\n",
    "  X_train = training_data[feature_columns]\n",
    "  y_train = training_data[target]\n",
    "  y_train = y_train['Target'].values\n",
    "\n",
    "  X_test = testing_data[feature_columns]\n",
    "  y_test = testing_data[target]\n",
    "  y_test = y_test['Target'].values\n",
    "  # Assign random states (as literature)\n",
    "  for y in seeds:\n",
    "    regr = MLPRegressor(hidden_layer_sizes=(3, ), solver=\"lbfgs\", alpha=0.05, random_state=y, max_iter=500).fit(X_train, y_train)\n",
    "    # Predict\n",
    "    prediction = regr.predict(X_test)\n",
    "    # Append prediction\n",
    "    galvez_mlp.append(prediction[0])\n",
    "  # Append the 5 averaged predictions to a final predictions list\n",
    "  predictions.append(average(galvez_mlp))"
   ]
  },
  {
   "cell_type": "code",
   "execution_count": 98,
   "metadata": {},
   "outputs": [
    {
     "name": "stdout",
     "output_type": "stream",
     "text": [
      "The number of predictions to be averaged is 10 and for that, the predicted result by MLP alone is 25%, the real result being 22.0%\n"
     ]
    }
   ],
   "source": [
    "print(f\"The number of predictions to be averaged is {len(predictions)} and for that, the predicted result by MLP alone is {round(average(predictions))}%, the real result being {y_test[0]}%\");"
   ]
  },
  {
   "cell_type": "markdown",
   "metadata": {},
   "source": [
    "### MLP Scaled"
   ]
  },
  {
   "cell_type": "markdown",
   "metadata": {},
   "source": [
    "Now to proceed, we´ll include scaled data to predict."
   ]
  },
  {
   "cell_type": "code",
   "execution_count": 111,
   "metadata": {},
   "outputs": [],
   "source": [
    "from sklearn.preprocessing import StandardScaler\n",
    "scaler = StandardScaler()\n",
    "from sklearn.preprocessing import MinMaxScaler\n",
    "minmaxer = MinMaxScaler()\n",
    "from sklearn import preprocessing"
   ]
  },
  {
   "cell_type": "markdown",
   "metadata": {},
   "source": [
    "#### Claudia"
   ]
  },
  {
   "cell_type": "code",
   "execution_count": 118,
   "metadata": {},
   "outputs": [
    {
     "name": "stderr",
     "output_type": "stream",
     "text": [
      "c:\\Users\\usuario\\Documents\\MCC\\Thesis\\Project\\2024_Project\\new_election\\venv\\Lib\\site-packages\\sklearn\\neural_network\\_multilayer_perceptron.py:1625: DataConversionWarning: A column-vector y was passed when a 1d array was expected. Please change the shape of y to (n_samples, ), for example using ravel().\n",
      "  y = column_or_1d(y, warn=True)\n",
      "c:\\Users\\usuario\\Documents\\MCC\\Thesis\\Project\\2024_Project\\new_election\\venv\\Lib\\site-packages\\sklearn\\neural_network\\_multilayer_perceptron.py:546: ConvergenceWarning: lbfgs failed to converge (status=1):\n",
      "STOP: TOTAL NO. of ITERATIONS REACHED LIMIT.\n",
      "\n",
      "Increase the number of iterations (max_iter) or scale the data as shown in:\n",
      "    https://scikit-learn.org/stable/modules/preprocessing.html\n",
      "  self.n_iter_ = _check_optimize_result(\"lbfgs\", opt_res, self.max_iter)\n",
      "c:\\Users\\usuario\\Documents\\MCC\\Thesis\\Project\\2024_Project\\new_election\\venv\\Lib\\site-packages\\sklearn\\neural_network\\_multilayer_perceptron.py:1625: DataConversionWarning: A column-vector y was passed when a 1d array was expected. Please change the shape of y to (n_samples, ), for example using ravel().\n",
      "  y = column_or_1d(y, warn=True)\n",
      "c:\\Users\\usuario\\Documents\\MCC\\Thesis\\Project\\2024_Project\\new_election\\venv\\Lib\\site-packages\\sklearn\\neural_network\\_multilayer_perceptron.py:546: ConvergenceWarning: lbfgs failed to converge (status=1):\n",
      "STOP: TOTAL NO. of ITERATIONS REACHED LIMIT.\n",
      "\n",
      "Increase the number of iterations (max_iter) or scale the data as shown in:\n",
      "    https://scikit-learn.org/stable/modules/preprocessing.html\n",
      "  self.n_iter_ = _check_optimize_result(\"lbfgs\", opt_res, self.max_iter)\n",
      "c:\\Users\\usuario\\Documents\\MCC\\Thesis\\Project\\2024_Project\\new_election\\venv\\Lib\\site-packages\\sklearn\\neural_network\\_multilayer_perceptron.py:1625: DataConversionWarning: A column-vector y was passed when a 1d array was expected. Please change the shape of y to (n_samples, ), for example using ravel().\n",
      "  y = column_or_1d(y, warn=True)\n",
      "c:\\Users\\usuario\\Documents\\MCC\\Thesis\\Project\\2024_Project\\new_election\\venv\\Lib\\site-packages\\sklearn\\neural_network\\_multilayer_perceptron.py:1625: DataConversionWarning: A column-vector y was passed when a 1d array was expected. Please change the shape of y to (n_samples, ), for example using ravel().\n",
      "  y = column_or_1d(y, warn=True)\n",
      "c:\\Users\\usuario\\Documents\\MCC\\Thesis\\Project\\2024_Project\\new_election\\venv\\Lib\\site-packages\\sklearn\\neural_network\\_multilayer_perceptron.py:546: ConvergenceWarning: lbfgs failed to converge (status=1):\n",
      "STOP: TOTAL NO. of ITERATIONS REACHED LIMIT.\n",
      "\n",
      "Increase the number of iterations (max_iter) or scale the data as shown in:\n",
      "    https://scikit-learn.org/stable/modules/preprocessing.html\n",
      "  self.n_iter_ = _check_optimize_result(\"lbfgs\", opt_res, self.max_iter)\n",
      "c:\\Users\\usuario\\Documents\\MCC\\Thesis\\Project\\2024_Project\\new_election\\venv\\Lib\\site-packages\\sklearn\\neural_network\\_multilayer_perceptron.py:1625: DataConversionWarning: A column-vector y was passed when a 1d array was expected. Please change the shape of y to (n_samples, ), for example using ravel().\n",
      "  y = column_or_1d(y, warn=True)\n",
      "c:\\Users\\usuario\\Documents\\MCC\\Thesis\\Project\\2024_Project\\new_election\\venv\\Lib\\site-packages\\sklearn\\neural_network\\_multilayer_perceptron.py:1625: DataConversionWarning: A column-vector y was passed when a 1d array was expected. Please change the shape of y to (n_samples, ), for example using ravel().\n",
      "  y = column_or_1d(y, warn=True)\n",
      "c:\\Users\\usuario\\Documents\\MCC\\Thesis\\Project\\2024_Project\\new_election\\venv\\Lib\\site-packages\\sklearn\\neural_network\\_multilayer_perceptron.py:1625: DataConversionWarning: A column-vector y was passed when a 1d array was expected. Please change the shape of y to (n_samples, ), for example using ravel().\n",
      "  y = column_or_1d(y, warn=True)\n",
      "c:\\Users\\usuario\\Documents\\MCC\\Thesis\\Project\\2024_Project\\new_election\\venv\\Lib\\site-packages\\sklearn\\neural_network\\_multilayer_perceptron.py:546: ConvergenceWarning: lbfgs failed to converge (status=1):\n",
      "STOP: TOTAL NO. of ITERATIONS REACHED LIMIT.\n",
      "\n",
      "Increase the number of iterations (max_iter) or scale the data as shown in:\n",
      "    https://scikit-learn.org/stable/modules/preprocessing.html\n",
      "  self.n_iter_ = _check_optimize_result(\"lbfgs\", opt_res, self.max_iter)\n",
      "c:\\Users\\usuario\\Documents\\MCC\\Thesis\\Project\\2024_Project\\new_election\\venv\\Lib\\site-packages\\sklearn\\neural_network\\_multilayer_perceptron.py:1625: DataConversionWarning: A column-vector y was passed when a 1d array was expected. Please change the shape of y to (n_samples, ), for example using ravel().\n",
      "  y = column_or_1d(y, warn=True)\n",
      "c:\\Users\\usuario\\Documents\\MCC\\Thesis\\Project\\2024_Project\\new_election\\venv\\Lib\\site-packages\\sklearn\\neural_network\\_multilayer_perceptron.py:546: ConvergenceWarning: lbfgs failed to converge (status=1):\n",
      "STOP: TOTAL NO. of ITERATIONS REACHED LIMIT.\n",
      "\n",
      "Increase the number of iterations (max_iter) or scale the data as shown in:\n",
      "    https://scikit-learn.org/stable/modules/preprocessing.html\n",
      "  self.n_iter_ = _check_optimize_result(\"lbfgs\", opt_res, self.max_iter)\n",
      "c:\\Users\\usuario\\Documents\\MCC\\Thesis\\Project\\2024_Project\\new_election\\venv\\Lib\\site-packages\\sklearn\\neural_network\\_multilayer_perceptron.py:1625: DataConversionWarning: A column-vector y was passed when a 1d array was expected. Please change the shape of y to (n_samples, ), for example using ravel().\n",
      "  y = column_or_1d(y, warn=True)\n",
      "c:\\Users\\usuario\\Documents\\MCC\\Thesis\\Project\\2024_Project\\new_election\\venv\\Lib\\site-packages\\sklearn\\neural_network\\_multilayer_perceptron.py:546: ConvergenceWarning: lbfgs failed to converge (status=1):\n",
      "STOP: TOTAL NO. of ITERATIONS REACHED LIMIT.\n",
      "\n",
      "Increase the number of iterations (max_iter) or scale the data as shown in:\n",
      "    https://scikit-learn.org/stable/modules/preprocessing.html\n",
      "  self.n_iter_ = _check_optimize_result(\"lbfgs\", opt_res, self.max_iter)\n",
      "c:\\Users\\usuario\\Documents\\MCC\\Thesis\\Project\\2024_Project\\new_election\\venv\\Lib\\site-packages\\sklearn\\neural_network\\_multilayer_perceptron.py:1625: DataConversionWarning: A column-vector y was passed when a 1d array was expected. Please change the shape of y to (n_samples, ), for example using ravel().\n",
      "  y = column_or_1d(y, warn=True)\n",
      "c:\\Users\\usuario\\Documents\\MCC\\Thesis\\Project\\2024_Project\\new_election\\venv\\Lib\\site-packages\\sklearn\\neural_network\\_multilayer_perceptron.py:546: ConvergenceWarning: lbfgs failed to converge (status=1):\n",
      "STOP: TOTAL NO. of ITERATIONS REACHED LIMIT.\n",
      "\n",
      "Increase the number of iterations (max_iter) or scale the data as shown in:\n",
      "    https://scikit-learn.org/stable/modules/preprocessing.html\n",
      "  self.n_iter_ = _check_optimize_result(\"lbfgs\", opt_res, self.max_iter)\n",
      "c:\\Users\\usuario\\Documents\\MCC\\Thesis\\Project\\2024_Project\\new_election\\venv\\Lib\\site-packages\\sklearn\\neural_network\\_multilayer_perceptron.py:1625: DataConversionWarning: A column-vector y was passed when a 1d array was expected. Please change the shape of y to (n_samples, ), for example using ravel().\n",
      "  y = column_or_1d(y, warn=True)\n",
      "c:\\Users\\usuario\\Documents\\MCC\\Thesis\\Project\\2024_Project\\new_election\\venv\\Lib\\site-packages\\sklearn\\neural_network\\_multilayer_perceptron.py:546: ConvergenceWarning: lbfgs failed to converge (status=1):\n",
      "STOP: TOTAL NO. of ITERATIONS REACHED LIMIT.\n",
      "\n",
      "Increase the number of iterations (max_iter) or scale the data as shown in:\n",
      "    https://scikit-learn.org/stable/modules/preprocessing.html\n",
      "  self.n_iter_ = _check_optimize_result(\"lbfgs\", opt_res, self.max_iter)\n",
      "c:\\Users\\usuario\\Documents\\MCC\\Thesis\\Project\\2024_Project\\new_election\\venv\\Lib\\site-packages\\sklearn\\neural_network\\_multilayer_perceptron.py:1625: DataConversionWarning: A column-vector y was passed when a 1d array was expected. Please change the shape of y to (n_samples, ), for example using ravel().\n",
      "  y = column_or_1d(y, warn=True)\n",
      "c:\\Users\\usuario\\Documents\\MCC\\Thesis\\Project\\2024_Project\\new_election\\venv\\Lib\\site-packages\\sklearn\\neural_network\\_multilayer_perceptron.py:546: ConvergenceWarning: lbfgs failed to converge (status=1):\n",
      "STOP: TOTAL NO. of ITERATIONS REACHED LIMIT.\n",
      "\n",
      "Increase the number of iterations (max_iter) or scale the data as shown in:\n",
      "    https://scikit-learn.org/stable/modules/preprocessing.html\n",
      "  self.n_iter_ = _check_optimize_result(\"lbfgs\", opt_res, self.max_iter)\n",
      "c:\\Users\\usuario\\Documents\\MCC\\Thesis\\Project\\2024_Project\\new_election\\venv\\Lib\\site-packages\\sklearn\\neural_network\\_multilayer_perceptron.py:1625: DataConversionWarning: A column-vector y was passed when a 1d array was expected. Please change the shape of y to (n_samples, ), for example using ravel().\n",
      "  y = column_or_1d(y, warn=True)\n",
      "c:\\Users\\usuario\\Documents\\MCC\\Thesis\\Project\\2024_Project\\new_election\\venv\\Lib\\site-packages\\sklearn\\neural_network\\_multilayer_perceptron.py:1625: DataConversionWarning: A column-vector y was passed when a 1d array was expected. Please change the shape of y to (n_samples, ), for example using ravel().\n",
      "  y = column_or_1d(y, warn=True)\n",
      "c:\\Users\\usuario\\Documents\\MCC\\Thesis\\Project\\2024_Project\\new_election\\venv\\Lib\\site-packages\\sklearn\\neural_network\\_multilayer_perceptron.py:546: ConvergenceWarning: lbfgs failed to converge (status=1):\n",
      "STOP: TOTAL NO. of ITERATIONS REACHED LIMIT.\n",
      "\n",
      "Increase the number of iterations (max_iter) or scale the data as shown in:\n",
      "    https://scikit-learn.org/stable/modules/preprocessing.html\n",
      "  self.n_iter_ = _check_optimize_result(\"lbfgs\", opt_res, self.max_iter)\n",
      "c:\\Users\\usuario\\Documents\\MCC\\Thesis\\Project\\2024_Project\\new_election\\venv\\Lib\\site-packages\\sklearn\\neural_network\\_multilayer_perceptron.py:1625: DataConversionWarning: A column-vector y was passed when a 1d array was expected. Please change the shape of y to (n_samples, ), for example using ravel().\n",
      "  y = column_or_1d(y, warn=True)\n",
      "c:\\Users\\usuario\\Documents\\MCC\\Thesis\\Project\\2024_Project\\new_election\\venv\\Lib\\site-packages\\sklearn\\neural_network\\_multilayer_perceptron.py:546: ConvergenceWarning: lbfgs failed to converge (status=1):\n",
      "STOP: TOTAL NO. of ITERATIONS REACHED LIMIT.\n",
      "\n",
      "Increase the number of iterations (max_iter) or scale the data as shown in:\n",
      "    https://scikit-learn.org/stable/modules/preprocessing.html\n",
      "  self.n_iter_ = _check_optimize_result(\"lbfgs\", opt_res, self.max_iter)\n",
      "c:\\Users\\usuario\\Documents\\MCC\\Thesis\\Project\\2024_Project\\new_election\\venv\\Lib\\site-packages\\sklearn\\neural_network\\_multilayer_perceptron.py:1625: DataConversionWarning: A column-vector y was passed when a 1d array was expected. Please change the shape of y to (n_samples, ), for example using ravel().\n",
      "  y = column_or_1d(y, warn=True)\n",
      "c:\\Users\\usuario\\Documents\\MCC\\Thesis\\Project\\2024_Project\\new_election\\venv\\Lib\\site-packages\\sklearn\\neural_network\\_multilayer_perceptron.py:546: ConvergenceWarning: lbfgs failed to converge (status=1):\n",
      "STOP: TOTAL NO. of ITERATIONS REACHED LIMIT.\n",
      "\n",
      "Increase the number of iterations (max_iter) or scale the data as shown in:\n",
      "    https://scikit-learn.org/stable/modules/preprocessing.html\n",
      "  self.n_iter_ = _check_optimize_result(\"lbfgs\", opt_res, self.max_iter)\n",
      "c:\\Users\\usuario\\Documents\\MCC\\Thesis\\Project\\2024_Project\\new_election\\venv\\Lib\\site-packages\\sklearn\\neural_network\\_multilayer_perceptron.py:1625: DataConversionWarning: A column-vector y was passed when a 1d array was expected. Please change the shape of y to (n_samples, ), for example using ravel().\n",
      "  y = column_or_1d(y, warn=True)\n",
      "c:\\Users\\usuario\\Documents\\MCC\\Thesis\\Project\\2024_Project\\new_election\\venv\\Lib\\site-packages\\sklearn\\neural_network\\_multilayer_perceptron.py:546: ConvergenceWarning: lbfgs failed to converge (status=1):\n",
      "STOP: TOTAL NO. of ITERATIONS REACHED LIMIT.\n",
      "\n",
      "Increase the number of iterations (max_iter) or scale the data as shown in:\n",
      "    https://scikit-learn.org/stable/modules/preprocessing.html\n",
      "  self.n_iter_ = _check_optimize_result(\"lbfgs\", opt_res, self.max_iter)\n",
      "c:\\Users\\usuario\\Documents\\MCC\\Thesis\\Project\\2024_Project\\new_election\\venv\\Lib\\site-packages\\sklearn\\neural_network\\_multilayer_perceptron.py:1625: DataConversionWarning: A column-vector y was passed when a 1d array was expected. Please change the shape of y to (n_samples, ), for example using ravel().\n",
      "  y = column_or_1d(y, warn=True)\n",
      "c:\\Users\\usuario\\Documents\\MCC\\Thesis\\Project\\2024_Project\\new_election\\venv\\Lib\\site-packages\\sklearn\\neural_network\\_multilayer_perceptron.py:1625: DataConversionWarning: A column-vector y was passed when a 1d array was expected. Please change the shape of y to (n_samples, ), for example using ravel().\n",
      "  y = column_or_1d(y, warn=True)\n",
      "c:\\Users\\usuario\\Documents\\MCC\\Thesis\\Project\\2024_Project\\new_election\\venv\\Lib\\site-packages\\sklearn\\neural_network\\_multilayer_perceptron.py:546: ConvergenceWarning: lbfgs failed to converge (status=1):\n",
      "STOP: TOTAL NO. of ITERATIONS REACHED LIMIT.\n",
      "\n",
      "Increase the number of iterations (max_iter) or scale the data as shown in:\n",
      "    https://scikit-learn.org/stable/modules/preprocessing.html\n",
      "  self.n_iter_ = _check_optimize_result(\"lbfgs\", opt_res, self.max_iter)\n",
      "c:\\Users\\usuario\\Documents\\MCC\\Thesis\\Project\\2024_Project\\new_election\\venv\\Lib\\site-packages\\sklearn\\neural_network\\_multilayer_perceptron.py:1625: DataConversionWarning: A column-vector y was passed when a 1d array was expected. Please change the shape of y to (n_samples, ), for example using ravel().\n",
      "  y = column_or_1d(y, warn=True)\n",
      "c:\\Users\\usuario\\Documents\\MCC\\Thesis\\Project\\2024_Project\\new_election\\venv\\Lib\\site-packages\\sklearn\\neural_network\\_multilayer_perceptron.py:546: ConvergenceWarning: lbfgs failed to converge (status=1):\n",
      "STOP: TOTAL NO. of ITERATIONS REACHED LIMIT.\n",
      "\n",
      "Increase the number of iterations (max_iter) or scale the data as shown in:\n",
      "    https://scikit-learn.org/stable/modules/preprocessing.html\n",
      "  self.n_iter_ = _check_optimize_result(\"lbfgs\", opt_res, self.max_iter)\n",
      "c:\\Users\\usuario\\Documents\\MCC\\Thesis\\Project\\2024_Project\\new_election\\venv\\Lib\\site-packages\\sklearn\\neural_network\\_multilayer_perceptron.py:1625: DataConversionWarning: A column-vector y was passed when a 1d array was expected. Please change the shape of y to (n_samples, ), for example using ravel().\n",
      "  y = column_or_1d(y, warn=True)\n",
      "c:\\Users\\usuario\\Documents\\MCC\\Thesis\\Project\\2024_Project\\new_election\\venv\\Lib\\site-packages\\sklearn\\neural_network\\_multilayer_perceptron.py:546: ConvergenceWarning: lbfgs failed to converge (status=1):\n",
      "STOP: TOTAL NO. of ITERATIONS REACHED LIMIT.\n",
      "\n",
      "Increase the number of iterations (max_iter) or scale the data as shown in:\n",
      "    https://scikit-learn.org/stable/modules/preprocessing.html\n",
      "  self.n_iter_ = _check_optimize_result(\"lbfgs\", opt_res, self.max_iter)\n",
      "c:\\Users\\usuario\\Documents\\MCC\\Thesis\\Project\\2024_Project\\new_election\\venv\\Lib\\site-packages\\sklearn\\neural_network\\_multilayer_perceptron.py:1625: DataConversionWarning: A column-vector y was passed when a 1d array was expected. Please change the shape of y to (n_samples, ), for example using ravel().\n",
      "  y = column_or_1d(y, warn=True)\n",
      "c:\\Users\\usuario\\Documents\\MCC\\Thesis\\Project\\2024_Project\\new_election\\venv\\Lib\\site-packages\\sklearn\\neural_network\\_multilayer_perceptron.py:546: ConvergenceWarning: lbfgs failed to converge (status=1):\n",
      "STOP: TOTAL NO. of ITERATIONS REACHED LIMIT.\n",
      "\n",
      "Increase the number of iterations (max_iter) or scale the data as shown in:\n",
      "    https://scikit-learn.org/stable/modules/preprocessing.html\n",
      "  self.n_iter_ = _check_optimize_result(\"lbfgs\", opt_res, self.max_iter)\n",
      "c:\\Users\\usuario\\Documents\\MCC\\Thesis\\Project\\2024_Project\\new_election\\venv\\Lib\\site-packages\\sklearn\\neural_network\\_multilayer_perceptron.py:1625: DataConversionWarning: A column-vector y was passed when a 1d array was expected. Please change the shape of y to (n_samples, ), for example using ravel().\n",
      "  y = column_or_1d(y, warn=True)\n",
      "c:\\Users\\usuario\\Documents\\MCC\\Thesis\\Project\\2024_Project\\new_election\\venv\\Lib\\site-packages\\sklearn\\neural_network\\_multilayer_perceptron.py:546: ConvergenceWarning: lbfgs failed to converge (status=1):\n",
      "STOP: TOTAL NO. of ITERATIONS REACHED LIMIT.\n",
      "\n",
      "Increase the number of iterations (max_iter) or scale the data as shown in:\n",
      "    https://scikit-learn.org/stable/modules/preprocessing.html\n",
      "  self.n_iter_ = _check_optimize_result(\"lbfgs\", opt_res, self.max_iter)\n",
      "c:\\Users\\usuario\\Documents\\MCC\\Thesis\\Project\\2024_Project\\new_election\\venv\\Lib\\site-packages\\sklearn\\neural_network\\_multilayer_perceptron.py:1625: DataConversionWarning: A column-vector y was passed when a 1d array was expected. Please change the shape of y to (n_samples, ), for example using ravel().\n",
      "  y = column_or_1d(y, warn=True)\n",
      "c:\\Users\\usuario\\Documents\\MCC\\Thesis\\Project\\2024_Project\\new_election\\venv\\Lib\\site-packages\\sklearn\\neural_network\\_multilayer_perceptron.py:546: ConvergenceWarning: lbfgs failed to converge (status=1):\n",
      "STOP: TOTAL NO. of ITERATIONS REACHED LIMIT.\n",
      "\n",
      "Increase the number of iterations (max_iter) or scale the data as shown in:\n",
      "    https://scikit-learn.org/stable/modules/preprocessing.html\n",
      "  self.n_iter_ = _check_optimize_result(\"lbfgs\", opt_res, self.max_iter)\n",
      "c:\\Users\\usuario\\Documents\\MCC\\Thesis\\Project\\2024_Project\\new_election\\venv\\Lib\\site-packages\\sklearn\\neural_network\\_multilayer_perceptron.py:1625: DataConversionWarning: A column-vector y was passed when a 1d array was expected. Please change the shape of y to (n_samples, ), for example using ravel().\n",
      "  y = column_or_1d(y, warn=True)\n",
      "c:\\Users\\usuario\\Documents\\MCC\\Thesis\\Project\\2024_Project\\new_election\\venv\\Lib\\site-packages\\sklearn\\neural_network\\_multilayer_perceptron.py:546: ConvergenceWarning: lbfgs failed to converge (status=1):\n",
      "STOP: TOTAL NO. of ITERATIONS REACHED LIMIT.\n",
      "\n",
      "Increase the number of iterations (max_iter) or scale the data as shown in:\n",
      "    https://scikit-learn.org/stable/modules/preprocessing.html\n",
      "  self.n_iter_ = _check_optimize_result(\"lbfgs\", opt_res, self.max_iter)\n",
      "c:\\Users\\usuario\\Documents\\MCC\\Thesis\\Project\\2024_Project\\new_election\\venv\\Lib\\site-packages\\sklearn\\neural_network\\_multilayer_perceptron.py:1625: DataConversionWarning: A column-vector y was passed when a 1d array was expected. Please change the shape of y to (n_samples, ), for example using ravel().\n",
      "  y = column_or_1d(y, warn=True)\n",
      "c:\\Users\\usuario\\Documents\\MCC\\Thesis\\Project\\2024_Project\\new_election\\venv\\Lib\\site-packages\\sklearn\\neural_network\\_multilayer_perceptron.py:546: ConvergenceWarning: lbfgs failed to converge (status=1):\n",
      "STOP: TOTAL NO. of ITERATIONS REACHED LIMIT.\n",
      "\n",
      "Increase the number of iterations (max_iter) or scale the data as shown in:\n",
      "    https://scikit-learn.org/stable/modules/preprocessing.html\n",
      "  self.n_iter_ = _check_optimize_result(\"lbfgs\", opt_res, self.max_iter)\n",
      "c:\\Users\\usuario\\Documents\\MCC\\Thesis\\Project\\2024_Project\\new_election\\venv\\Lib\\site-packages\\sklearn\\neural_network\\_multilayer_perceptron.py:1625: DataConversionWarning: A column-vector y was passed when a 1d array was expected. Please change the shape of y to (n_samples, ), for example using ravel().\n",
      "  y = column_or_1d(y, warn=True)\n",
      "c:\\Users\\usuario\\Documents\\MCC\\Thesis\\Project\\2024_Project\\new_election\\venv\\Lib\\site-packages\\sklearn\\neural_network\\_multilayer_perceptron.py:546: ConvergenceWarning: lbfgs failed to converge (status=1):\n",
      "STOP: TOTAL NO. of ITERATIONS REACHED LIMIT.\n",
      "\n",
      "Increase the number of iterations (max_iter) or scale the data as shown in:\n",
      "    https://scikit-learn.org/stable/modules/preprocessing.html\n",
      "  self.n_iter_ = _check_optimize_result(\"lbfgs\", opt_res, self.max_iter)\n",
      "c:\\Users\\usuario\\Documents\\MCC\\Thesis\\Project\\2024_Project\\new_election\\venv\\Lib\\site-packages\\sklearn\\neural_network\\_multilayer_perceptron.py:1625: DataConversionWarning: A column-vector y was passed when a 1d array was expected. Please change the shape of y to (n_samples, ), for example using ravel().\n",
      "  y = column_or_1d(y, warn=True)\n",
      "c:\\Users\\usuario\\Documents\\MCC\\Thesis\\Project\\2024_Project\\new_election\\venv\\Lib\\site-packages\\sklearn\\neural_network\\_multilayer_perceptron.py:1625: DataConversionWarning: A column-vector y was passed when a 1d array was expected. Please change the shape of y to (n_samples, ), for example using ravel().\n",
      "  y = column_or_1d(y, warn=True)\n",
      "c:\\Users\\usuario\\Documents\\MCC\\Thesis\\Project\\2024_Project\\new_election\\venv\\Lib\\site-packages\\sklearn\\neural_network\\_multilayer_perceptron.py:546: ConvergenceWarning: lbfgs failed to converge (status=1):\n",
      "STOP: TOTAL NO. of ITERATIONS REACHED LIMIT.\n",
      "\n",
      "Increase the number of iterations (max_iter) or scale the data as shown in:\n",
      "    https://scikit-learn.org/stable/modules/preprocessing.html\n",
      "  self.n_iter_ = _check_optimize_result(\"lbfgs\", opt_res, self.max_iter)\n",
      "c:\\Users\\usuario\\Documents\\MCC\\Thesis\\Project\\2024_Project\\new_election\\venv\\Lib\\site-packages\\sklearn\\neural_network\\_multilayer_perceptron.py:1625: DataConversionWarning: A column-vector y was passed when a 1d array was expected. Please change the shape of y to (n_samples, ), for example using ravel().\n",
      "  y = column_or_1d(y, warn=True)\n",
      "c:\\Users\\usuario\\Documents\\MCC\\Thesis\\Project\\2024_Project\\new_election\\venv\\Lib\\site-packages\\sklearn\\neural_network\\_multilayer_perceptron.py:546: ConvergenceWarning: lbfgs failed to converge (status=1):\n",
      "STOP: TOTAL NO. of ITERATIONS REACHED LIMIT.\n",
      "\n",
      "Increase the number of iterations (max_iter) or scale the data as shown in:\n",
      "    https://scikit-learn.org/stable/modules/preprocessing.html\n",
      "  self.n_iter_ = _check_optimize_result(\"lbfgs\", opt_res, self.max_iter)\n",
      "c:\\Users\\usuario\\Documents\\MCC\\Thesis\\Project\\2024_Project\\new_election\\venv\\Lib\\site-packages\\sklearn\\neural_network\\_multilayer_perceptron.py:1625: DataConversionWarning: A column-vector y was passed when a 1d array was expected. Please change the shape of y to (n_samples, ), for example using ravel().\n",
      "  y = column_or_1d(y, warn=True)\n",
      "c:\\Users\\usuario\\Documents\\MCC\\Thesis\\Project\\2024_Project\\new_election\\venv\\Lib\\site-packages\\sklearn\\neural_network\\_multilayer_perceptron.py:546: ConvergenceWarning: lbfgs failed to converge (status=1):\n",
      "STOP: TOTAL NO. of ITERATIONS REACHED LIMIT.\n",
      "\n",
      "Increase the number of iterations (max_iter) or scale the data as shown in:\n",
      "    https://scikit-learn.org/stable/modules/preprocessing.html\n",
      "  self.n_iter_ = _check_optimize_result(\"lbfgs\", opt_res, self.max_iter)\n",
      "c:\\Users\\usuario\\Documents\\MCC\\Thesis\\Project\\2024_Project\\new_election\\venv\\Lib\\site-packages\\sklearn\\neural_network\\_multilayer_perceptron.py:1625: DataConversionWarning: A column-vector y was passed when a 1d array was expected. Please change the shape of y to (n_samples, ), for example using ravel().\n",
      "  y = column_or_1d(y, warn=True)\n",
      "c:\\Users\\usuario\\Documents\\MCC\\Thesis\\Project\\2024_Project\\new_election\\venv\\Lib\\site-packages\\sklearn\\neural_network\\_multilayer_perceptron.py:546: ConvergenceWarning: lbfgs failed to converge (status=1):\n",
      "STOP: TOTAL NO. of ITERATIONS REACHED LIMIT.\n",
      "\n",
      "Increase the number of iterations (max_iter) or scale the data as shown in:\n",
      "    https://scikit-learn.org/stable/modules/preprocessing.html\n",
      "  self.n_iter_ = _check_optimize_result(\"lbfgs\", opt_res, self.max_iter)\n",
      "c:\\Users\\usuario\\Documents\\MCC\\Thesis\\Project\\2024_Project\\new_election\\venv\\Lib\\site-packages\\sklearn\\neural_network\\_multilayer_perceptron.py:1625: DataConversionWarning: A column-vector y was passed when a 1d array was expected. Please change the shape of y to (n_samples, ), for example using ravel().\n",
      "  y = column_or_1d(y, warn=True)\n",
      "c:\\Users\\usuario\\Documents\\MCC\\Thesis\\Project\\2024_Project\\new_election\\venv\\Lib\\site-packages\\sklearn\\neural_network\\_multilayer_perceptron.py:1625: DataConversionWarning: A column-vector y was passed when a 1d array was expected. Please change the shape of y to (n_samples, ), for example using ravel().\n",
      "  y = column_or_1d(y, warn=True)\n",
      "c:\\Users\\usuario\\Documents\\MCC\\Thesis\\Project\\2024_Project\\new_election\\venv\\Lib\\site-packages\\sklearn\\neural_network\\_multilayer_perceptron.py:546: ConvergenceWarning: lbfgs failed to converge (status=1):\n",
      "STOP: TOTAL NO. of ITERATIONS REACHED LIMIT.\n",
      "\n",
      "Increase the number of iterations (max_iter) or scale the data as shown in:\n",
      "    https://scikit-learn.org/stable/modules/preprocessing.html\n",
      "  self.n_iter_ = _check_optimize_result(\"lbfgs\", opt_res, self.max_iter)\n",
      "c:\\Users\\usuario\\Documents\\MCC\\Thesis\\Project\\2024_Project\\new_election\\venv\\Lib\\site-packages\\sklearn\\neural_network\\_multilayer_perceptron.py:1625: DataConversionWarning: A column-vector y was passed when a 1d array was expected. Please change the shape of y to (n_samples, ), for example using ravel().\n",
      "  y = column_or_1d(y, warn=True)\n",
      "c:\\Users\\usuario\\Documents\\MCC\\Thesis\\Project\\2024_Project\\new_election\\venv\\Lib\\site-packages\\sklearn\\neural_network\\_multilayer_perceptron.py:546: ConvergenceWarning: lbfgs failed to converge (status=1):\n",
      "STOP: TOTAL NO. of ITERATIONS REACHED LIMIT.\n",
      "\n",
      "Increase the number of iterations (max_iter) or scale the data as shown in:\n",
      "    https://scikit-learn.org/stable/modules/preprocessing.html\n",
      "  self.n_iter_ = _check_optimize_result(\"lbfgs\", opt_res, self.max_iter)\n",
      "c:\\Users\\usuario\\Documents\\MCC\\Thesis\\Project\\2024_Project\\new_election\\venv\\Lib\\site-packages\\sklearn\\neural_network\\_multilayer_perceptron.py:1625: DataConversionWarning: A column-vector y was passed when a 1d array was expected. Please change the shape of y to (n_samples, ), for example using ravel().\n",
      "  y = column_or_1d(y, warn=True)\n",
      "c:\\Users\\usuario\\Documents\\MCC\\Thesis\\Project\\2024_Project\\new_election\\venv\\Lib\\site-packages\\sklearn\\neural_network\\_multilayer_perceptron.py:546: ConvergenceWarning: lbfgs failed to converge (status=1):\n",
      "STOP: TOTAL NO. of ITERATIONS REACHED LIMIT.\n",
      "\n",
      "Increase the number of iterations (max_iter) or scale the data as shown in:\n",
      "    https://scikit-learn.org/stable/modules/preprocessing.html\n",
      "  self.n_iter_ = _check_optimize_result(\"lbfgs\", opt_res, self.max_iter)\n",
      "c:\\Users\\usuario\\Documents\\MCC\\Thesis\\Project\\2024_Project\\new_election\\venv\\Lib\\site-packages\\sklearn\\neural_network\\_multilayer_perceptron.py:1625: DataConversionWarning: A column-vector y was passed when a 1d array was expected. Please change the shape of y to (n_samples, ), for example using ravel().\n",
      "  y = column_or_1d(y, warn=True)\n",
      "c:\\Users\\usuario\\Documents\\MCC\\Thesis\\Project\\2024_Project\\new_election\\venv\\Lib\\site-packages\\sklearn\\neural_network\\_multilayer_perceptron.py:546: ConvergenceWarning: lbfgs failed to converge (status=1):\n",
      "STOP: TOTAL NO. of ITERATIONS REACHED LIMIT.\n",
      "\n",
      "Increase the number of iterations (max_iter) or scale the data as shown in:\n",
      "    https://scikit-learn.org/stable/modules/preprocessing.html\n",
      "  self.n_iter_ = _check_optimize_result(\"lbfgs\", opt_res, self.max_iter)\n",
      "c:\\Users\\usuario\\Documents\\MCC\\Thesis\\Project\\2024_Project\\new_election\\venv\\Lib\\site-packages\\sklearn\\neural_network\\_multilayer_perceptron.py:1625: DataConversionWarning: A column-vector y was passed when a 1d array was expected. Please change the shape of y to (n_samples, ), for example using ravel().\n",
      "  y = column_or_1d(y, warn=True)\n",
      "c:\\Users\\usuario\\Documents\\MCC\\Thesis\\Project\\2024_Project\\new_election\\venv\\Lib\\site-packages\\sklearn\\neural_network\\_multilayer_perceptron.py:546: ConvergenceWarning: lbfgs failed to converge (status=1):\n",
      "STOP: TOTAL NO. of ITERATIONS REACHED LIMIT.\n",
      "\n",
      "Increase the number of iterations (max_iter) or scale the data as shown in:\n",
      "    https://scikit-learn.org/stable/modules/preprocessing.html\n",
      "  self.n_iter_ = _check_optimize_result(\"lbfgs\", opt_res, self.max_iter)\n",
      "c:\\Users\\usuario\\Documents\\MCC\\Thesis\\Project\\2024_Project\\new_election\\venv\\Lib\\site-packages\\sklearn\\neural_network\\_multilayer_perceptron.py:1625: DataConversionWarning: A column-vector y was passed when a 1d array was expected. Please change the shape of y to (n_samples, ), for example using ravel().\n",
      "  y = column_or_1d(y, warn=True)\n",
      "c:\\Users\\usuario\\Documents\\MCC\\Thesis\\Project\\2024_Project\\new_election\\venv\\Lib\\site-packages\\sklearn\\neural_network\\_multilayer_perceptron.py:546: ConvergenceWarning: lbfgs failed to converge (status=1):\n",
      "STOP: TOTAL NO. of ITERATIONS REACHED LIMIT.\n",
      "\n",
      "Increase the number of iterations (max_iter) or scale the data as shown in:\n",
      "    https://scikit-learn.org/stable/modules/preprocessing.html\n",
      "  self.n_iter_ = _check_optimize_result(\"lbfgs\", opt_res, self.max_iter)\n",
      "c:\\Users\\usuario\\Documents\\MCC\\Thesis\\Project\\2024_Project\\new_election\\venv\\Lib\\site-packages\\sklearn\\neural_network\\_multilayer_perceptron.py:1625: DataConversionWarning: A column-vector y was passed when a 1d array was expected. Please change the shape of y to (n_samples, ), for example using ravel().\n",
      "  y = column_or_1d(y, warn=True)\n",
      "c:\\Users\\usuario\\Documents\\MCC\\Thesis\\Project\\2024_Project\\new_election\\venv\\Lib\\site-packages\\sklearn\\neural_network\\_multilayer_perceptron.py:546: ConvergenceWarning: lbfgs failed to converge (status=1):\n",
      "STOP: TOTAL NO. of ITERATIONS REACHED LIMIT.\n",
      "\n",
      "Increase the number of iterations (max_iter) or scale the data as shown in:\n",
      "    https://scikit-learn.org/stable/modules/preprocessing.html\n",
      "  self.n_iter_ = _check_optimize_result(\"lbfgs\", opt_res, self.max_iter)\n",
      "c:\\Users\\usuario\\Documents\\MCC\\Thesis\\Project\\2024_Project\\new_election\\venv\\Lib\\site-packages\\sklearn\\neural_network\\_multilayer_perceptron.py:1625: DataConversionWarning: A column-vector y was passed when a 1d array was expected. Please change the shape of y to (n_samples, ), for example using ravel().\n",
      "  y = column_or_1d(y, warn=True)\n",
      "c:\\Users\\usuario\\Documents\\MCC\\Thesis\\Project\\2024_Project\\new_election\\venv\\Lib\\site-packages\\sklearn\\neural_network\\_multilayer_perceptron.py:546: ConvergenceWarning: lbfgs failed to converge (status=1):\n",
      "STOP: TOTAL NO. of ITERATIONS REACHED LIMIT.\n",
      "\n",
      "Increase the number of iterations (max_iter) or scale the data as shown in:\n",
      "    https://scikit-learn.org/stable/modules/preprocessing.html\n",
      "  self.n_iter_ = _check_optimize_result(\"lbfgs\", opt_res, self.max_iter)\n",
      "c:\\Users\\usuario\\Documents\\MCC\\Thesis\\Project\\2024_Project\\new_election\\venv\\Lib\\site-packages\\sklearn\\neural_network\\_multilayer_perceptron.py:1625: DataConversionWarning: A column-vector y was passed when a 1d array was expected. Please change the shape of y to (n_samples, ), for example using ravel().\n",
      "  y = column_or_1d(y, warn=True)\n",
      "c:\\Users\\usuario\\Documents\\MCC\\Thesis\\Project\\2024_Project\\new_election\\venv\\Lib\\site-packages\\sklearn\\neural_network\\_multilayer_perceptron.py:546: ConvergenceWarning: lbfgs failed to converge (status=1):\n",
      "STOP: TOTAL NO. of ITERATIONS REACHED LIMIT.\n",
      "\n",
      "Increase the number of iterations (max_iter) or scale the data as shown in:\n",
      "    https://scikit-learn.org/stable/modules/preprocessing.html\n",
      "  self.n_iter_ = _check_optimize_result(\"lbfgs\", opt_res, self.max_iter)\n",
      "c:\\Users\\usuario\\Documents\\MCC\\Thesis\\Project\\2024_Project\\new_election\\venv\\Lib\\site-packages\\sklearn\\neural_network\\_multilayer_perceptron.py:1625: DataConversionWarning: A column-vector y was passed when a 1d array was expected. Please change the shape of y to (n_samples, ), for example using ravel().\n",
      "  y = column_or_1d(y, warn=True)\n",
      "c:\\Users\\usuario\\Documents\\MCC\\Thesis\\Project\\2024_Project\\new_election\\venv\\Lib\\site-packages\\sklearn\\neural_network\\_multilayer_perceptron.py:546: ConvergenceWarning: lbfgs failed to converge (status=1):\n",
      "STOP: TOTAL NO. of ITERATIONS REACHED LIMIT.\n",
      "\n",
      "Increase the number of iterations (max_iter) or scale the data as shown in:\n",
      "    https://scikit-learn.org/stable/modules/preprocessing.html\n",
      "  self.n_iter_ = _check_optimize_result(\"lbfgs\", opt_res, self.max_iter)\n",
      "c:\\Users\\usuario\\Documents\\MCC\\Thesis\\Project\\2024_Project\\new_election\\venv\\Lib\\site-packages\\sklearn\\neural_network\\_multilayer_perceptron.py:1625: DataConversionWarning: A column-vector y was passed when a 1d array was expected. Please change the shape of y to (n_samples, ), for example using ravel().\n",
      "  y = column_or_1d(y, warn=True)\n",
      "c:\\Users\\usuario\\Documents\\MCC\\Thesis\\Project\\2024_Project\\new_election\\venv\\Lib\\site-packages\\sklearn\\neural_network\\_multilayer_perceptron.py:546: ConvergenceWarning: lbfgs failed to converge (status=1):\n",
      "STOP: TOTAL NO. of ITERATIONS REACHED LIMIT.\n",
      "\n",
      "Increase the number of iterations (max_iter) or scale the data as shown in:\n",
      "    https://scikit-learn.org/stable/modules/preprocessing.html\n",
      "  self.n_iter_ = _check_optimize_result(\"lbfgs\", opt_res, self.max_iter)\n",
      "c:\\Users\\usuario\\Documents\\MCC\\Thesis\\Project\\2024_Project\\new_election\\venv\\Lib\\site-packages\\sklearn\\neural_network\\_multilayer_perceptron.py:1625: DataConversionWarning: A column-vector y was passed when a 1d array was expected. Please change the shape of y to (n_samples, ), for example using ravel().\n",
      "  y = column_or_1d(y, warn=True)\n",
      "c:\\Users\\usuario\\Documents\\MCC\\Thesis\\Project\\2024_Project\\new_election\\venv\\Lib\\site-packages\\sklearn\\neural_network\\_multilayer_perceptron.py:546: ConvergenceWarning: lbfgs failed to converge (status=1):\n",
      "STOP: TOTAL NO. of ITERATIONS REACHED LIMIT.\n",
      "\n",
      "Increase the number of iterations (max_iter) or scale the data as shown in:\n",
      "    https://scikit-learn.org/stable/modules/preprocessing.html\n",
      "  self.n_iter_ = _check_optimize_result(\"lbfgs\", opt_res, self.max_iter)\n",
      "c:\\Users\\usuario\\Documents\\MCC\\Thesis\\Project\\2024_Project\\new_election\\venv\\Lib\\site-packages\\sklearn\\neural_network\\_multilayer_perceptron.py:1625: DataConversionWarning: A column-vector y was passed when a 1d array was expected. Please change the shape of y to (n_samples, ), for example using ravel().\n",
      "  y = column_or_1d(y, warn=True)\n",
      "c:\\Users\\usuario\\Documents\\MCC\\Thesis\\Project\\2024_Project\\new_election\\venv\\Lib\\site-packages\\sklearn\\neural_network\\_multilayer_perceptron.py:546: ConvergenceWarning: lbfgs failed to converge (status=1):\n",
      "STOP: TOTAL NO. of ITERATIONS REACHED LIMIT.\n",
      "\n",
      "Increase the number of iterations (max_iter) or scale the data as shown in:\n",
      "    https://scikit-learn.org/stable/modules/preprocessing.html\n",
      "  self.n_iter_ = _check_optimize_result(\"lbfgs\", opt_res, self.max_iter)\n",
      "c:\\Users\\usuario\\Documents\\MCC\\Thesis\\Project\\2024_Project\\new_election\\venv\\Lib\\site-packages\\sklearn\\neural_network\\_multilayer_perceptron.py:1625: DataConversionWarning: A column-vector y was passed when a 1d array was expected. Please change the shape of y to (n_samples, ), for example using ravel().\n",
      "  y = column_or_1d(y, warn=True)\n",
      "c:\\Users\\usuario\\Documents\\MCC\\Thesis\\Project\\2024_Project\\new_election\\venv\\Lib\\site-packages\\sklearn\\neural_network\\_multilayer_perceptron.py:546: ConvergenceWarning: lbfgs failed to converge (status=1):\n",
      "STOP: TOTAL NO. of ITERATIONS REACHED LIMIT.\n",
      "\n",
      "Increase the number of iterations (max_iter) or scale the data as shown in:\n",
      "    https://scikit-learn.org/stable/modules/preprocessing.html\n",
      "  self.n_iter_ = _check_optimize_result(\"lbfgs\", opt_res, self.max_iter)\n",
      "c:\\Users\\usuario\\Documents\\MCC\\Thesis\\Project\\2024_Project\\new_election\\venv\\Lib\\site-packages\\sklearn\\neural_network\\_multilayer_perceptron.py:1625: DataConversionWarning: A column-vector y was passed when a 1d array was expected. Please change the shape of y to (n_samples, ), for example using ravel().\n",
      "  y = column_or_1d(y, warn=True)\n",
      "c:\\Users\\usuario\\Documents\\MCC\\Thesis\\Project\\2024_Project\\new_election\\venv\\Lib\\site-packages\\sklearn\\neural_network\\_multilayer_perceptron.py:546: ConvergenceWarning: lbfgs failed to converge (status=1):\n",
      "STOP: TOTAL NO. of ITERATIONS REACHED LIMIT.\n",
      "\n",
      "Increase the number of iterations (max_iter) or scale the data as shown in:\n",
      "    https://scikit-learn.org/stable/modules/preprocessing.html\n",
      "  self.n_iter_ = _check_optimize_result(\"lbfgs\", opt_res, self.max_iter)\n",
      "c:\\Users\\usuario\\Documents\\MCC\\Thesis\\Project\\2024_Project\\new_election\\venv\\Lib\\site-packages\\sklearn\\neural_network\\_multilayer_perceptron.py:1625: DataConversionWarning: A column-vector y was passed when a 1d array was expected. Please change the shape of y to (n_samples, ), for example using ravel().\n",
      "  y = column_or_1d(y, warn=True)\n",
      "c:\\Users\\usuario\\Documents\\MCC\\Thesis\\Project\\2024_Project\\new_election\\venv\\Lib\\site-packages\\sklearn\\neural_network\\_multilayer_perceptron.py:546: ConvergenceWarning: lbfgs failed to converge (status=1):\n",
      "STOP: TOTAL NO. of ITERATIONS REACHED LIMIT.\n",
      "\n",
      "Increase the number of iterations (max_iter) or scale the data as shown in:\n",
      "    https://scikit-learn.org/stable/modules/preprocessing.html\n",
      "  self.n_iter_ = _check_optimize_result(\"lbfgs\", opt_res, self.max_iter)\n",
      "c:\\Users\\usuario\\Documents\\MCC\\Thesis\\Project\\2024_Project\\new_election\\venv\\Lib\\site-packages\\sklearn\\neural_network\\_multilayer_perceptron.py:1625: DataConversionWarning: A column-vector y was passed when a 1d array was expected. Please change the shape of y to (n_samples, ), for example using ravel().\n",
      "  y = column_or_1d(y, warn=True)\n",
      "c:\\Users\\usuario\\Documents\\MCC\\Thesis\\Project\\2024_Project\\new_election\\venv\\Lib\\site-packages\\sklearn\\neural_network\\_multilayer_perceptron.py:546: ConvergenceWarning: lbfgs failed to converge (status=1):\n",
      "STOP: TOTAL NO. of ITERATIONS REACHED LIMIT.\n",
      "\n",
      "Increase the number of iterations (max_iter) or scale the data as shown in:\n",
      "    https://scikit-learn.org/stable/modules/preprocessing.html\n",
      "  self.n_iter_ = _check_optimize_result(\"lbfgs\", opt_res, self.max_iter)\n"
     ]
    }
   ],
   "source": [
    "predictions = []\n",
    "claudia_mlp = []\n",
    "for i in days:\n",
    "  # Scan the file and set data\n",
    "  data = pd.read_csv(f'./claudia/1_{i}.csv', usecols=columns, encoding=\"utf-8\")\n",
    "  # Training and testing data; Remove last row which is the testing row\n",
    "  training_data = data.iloc[:-1]\n",
    "  testing_data = pd.DataFrame(data.iloc[-1])\n",
    "  testing_data = testing_data.T\n",
    "  # Splitting\n",
    "  X_train = training_data[feature_columns]\n",
    "  y_train = training_data[target]\n",
    "\n",
    "  X_test = testing_data[feature_columns]\n",
    "  y_test = testing_data[target]\n",
    "\n",
    "  # Fitting the scaler to the X_train anf transforming both X_train and y-train based on it\n",
    "  scaler.fit(X_train)\n",
    "  X_train = scaler.transform(X_train)\n",
    "  X_test = scaler.transform(X_test)\n",
    "\n",
    "  # Assign random states (as literature)\n",
    "  for y in seeds:\n",
    "    regr = MLPRegressor(hidden_layer_sizes=(3, ), solver=\"lbfgs\", alpha=0.05, random_state=y, max_iter=100).fit(X_train, y_train)\n",
    "    # Predict\n",
    "    prediction = regr.predict(X_test)\n",
    "    # Append prediction\n",
    "    claudia_mlp.append(prediction[0])\n",
    "  # Append the 5 averaged predictions to a final predictions list\n",
    "  predictions.append(average(claudia_mlp))"
   ]
  },
  {
   "cell_type": "code",
   "execution_count": 119,
   "metadata": {},
   "outputs": [
    {
     "name": "stdout",
     "output_type": "stream",
     "text": [
      "The number of predictions to be averaged is 10 and for that, the predicted result by MLP alone is 56%, the real vote share was 63%\n"
     ]
    }
   ],
   "source": [
    "print(f\"The number of predictions to be averaged is {len(predictions)} and for that, the predicted result by MLP alone is {round(average(predictions))}%, the real vote share was {int(y_test['Target'].iloc[0])}%\");"
   ]
  },
  {
   "cell_type": "markdown",
   "metadata": {},
   "source": [
    "#### Gálvez"
   ]
  },
  {
   "cell_type": "code",
   "execution_count": 120,
   "metadata": {},
   "outputs": [
    {
     "name": "stderr",
     "output_type": "stream",
     "text": [
      "c:\\Users\\usuario\\Documents\\MCC\\Thesis\\Project\\2024_Project\\new_election\\venv\\Lib\\site-packages\\sklearn\\neural_network\\_multilayer_perceptron.py:1625: DataConversionWarning: A column-vector y was passed when a 1d array was expected. Please change the shape of y to (n_samples, ), for example using ravel().\n",
      "  y = column_or_1d(y, warn=True)\n",
      "c:\\Users\\usuario\\Documents\\MCC\\Thesis\\Project\\2024_Project\\new_election\\venv\\Lib\\site-packages\\sklearn\\neural_network\\_multilayer_perceptron.py:1625: DataConversionWarning: A column-vector y was passed when a 1d array was expected. Please change the shape of y to (n_samples, ), for example using ravel().\n",
      "  y = column_or_1d(y, warn=True)\n",
      "c:\\Users\\usuario\\Documents\\MCC\\Thesis\\Project\\2024_Project\\new_election\\venv\\Lib\\site-packages\\sklearn\\neural_network\\_multilayer_perceptron.py:1625: DataConversionWarning: A column-vector y was passed when a 1d array was expected. Please change the shape of y to (n_samples, ), for example using ravel().\n",
      "  y = column_or_1d(y, warn=True)\n",
      "c:\\Users\\usuario\\Documents\\MCC\\Thesis\\Project\\2024_Project\\new_election\\venv\\Lib\\site-packages\\sklearn\\neural_network\\_multilayer_perceptron.py:1625: DataConversionWarning: A column-vector y was passed when a 1d array was expected. Please change the shape of y to (n_samples, ), for example using ravel().\n",
      "  y = column_or_1d(y, warn=True)\n",
      "c:\\Users\\usuario\\Documents\\MCC\\Thesis\\Project\\2024_Project\\new_election\\venv\\Lib\\site-packages\\sklearn\\neural_network\\_multilayer_perceptron.py:1625: DataConversionWarning: A column-vector y was passed when a 1d array was expected. Please change the shape of y to (n_samples, ), for example using ravel().\n",
      "  y = column_or_1d(y, warn=True)\n",
      "c:\\Users\\usuario\\Documents\\MCC\\Thesis\\Project\\2024_Project\\new_election\\venv\\Lib\\site-packages\\sklearn\\neural_network\\_multilayer_perceptron.py:1625: DataConversionWarning: A column-vector y was passed when a 1d array was expected. Please change the shape of y to (n_samples, ), for example using ravel().\n",
      "  y = column_or_1d(y, warn=True)\n",
      "c:\\Users\\usuario\\Documents\\MCC\\Thesis\\Project\\2024_Project\\new_election\\venv\\Lib\\site-packages\\sklearn\\neural_network\\_multilayer_perceptron.py:1625: DataConversionWarning: A column-vector y was passed when a 1d array was expected. Please change the shape of y to (n_samples, ), for example using ravel().\n",
      "  y = column_or_1d(y, warn=True)\n",
      "c:\\Users\\usuario\\Documents\\MCC\\Thesis\\Project\\2024_Project\\new_election\\venv\\Lib\\site-packages\\sklearn\\neural_network\\_multilayer_perceptron.py:1625: DataConversionWarning: A column-vector y was passed when a 1d array was expected. Please change the shape of y to (n_samples, ), for example using ravel().\n",
      "  y = column_or_1d(y, warn=True)\n",
      "c:\\Users\\usuario\\Documents\\MCC\\Thesis\\Project\\2024_Project\\new_election\\venv\\Lib\\site-packages\\sklearn\\neural_network\\_multilayer_perceptron.py:1625: DataConversionWarning: A column-vector y was passed when a 1d array was expected. Please change the shape of y to (n_samples, ), for example using ravel().\n",
      "  y = column_or_1d(y, warn=True)\n",
      "c:\\Users\\usuario\\Documents\\MCC\\Thesis\\Project\\2024_Project\\new_election\\venv\\Lib\\site-packages\\sklearn\\neural_network\\_multilayer_perceptron.py:1625: DataConversionWarning: A column-vector y was passed when a 1d array was expected. Please change the shape of y to (n_samples, ), for example using ravel().\n",
      "  y = column_or_1d(y, warn=True)\n",
      "c:\\Users\\usuario\\Documents\\MCC\\Thesis\\Project\\2024_Project\\new_election\\venv\\Lib\\site-packages\\sklearn\\neural_network\\_multilayer_perceptron.py:1625: DataConversionWarning: A column-vector y was passed when a 1d array was expected. Please change the shape of y to (n_samples, ), for example using ravel().\n",
      "  y = column_or_1d(y, warn=True)\n",
      "c:\\Users\\usuario\\Documents\\MCC\\Thesis\\Project\\2024_Project\\new_election\\venv\\Lib\\site-packages\\sklearn\\neural_network\\_multilayer_perceptron.py:1625: DataConversionWarning: A column-vector y was passed when a 1d array was expected. Please change the shape of y to (n_samples, ), for example using ravel().\n",
      "  y = column_or_1d(y, warn=True)\n",
      "c:\\Users\\usuario\\Documents\\MCC\\Thesis\\Project\\2024_Project\\new_election\\venv\\Lib\\site-packages\\sklearn\\neural_network\\_multilayer_perceptron.py:1625: DataConversionWarning: A column-vector y was passed when a 1d array was expected. Please change the shape of y to (n_samples, ), for example using ravel().\n",
      "  y = column_or_1d(y, warn=True)\n",
      "c:\\Users\\usuario\\Documents\\MCC\\Thesis\\Project\\2024_Project\\new_election\\venv\\Lib\\site-packages\\sklearn\\neural_network\\_multilayer_perceptron.py:1625: DataConversionWarning: A column-vector y was passed when a 1d array was expected. Please change the shape of y to (n_samples, ), for example using ravel().\n",
      "  y = column_or_1d(y, warn=True)\n",
      "c:\\Users\\usuario\\Documents\\MCC\\Thesis\\Project\\2024_Project\\new_election\\venv\\Lib\\site-packages\\sklearn\\neural_network\\_multilayer_perceptron.py:1625: DataConversionWarning: A column-vector y was passed when a 1d array was expected. Please change the shape of y to (n_samples, ), for example using ravel().\n",
      "  y = column_or_1d(y, warn=True)\n",
      "c:\\Users\\usuario\\Documents\\MCC\\Thesis\\Project\\2024_Project\\new_election\\venv\\Lib\\site-packages\\sklearn\\neural_network\\_multilayer_perceptron.py:1625: DataConversionWarning: A column-vector y was passed when a 1d array was expected. Please change the shape of y to (n_samples, ), for example using ravel().\n",
      "  y = column_or_1d(y, warn=True)\n",
      "c:\\Users\\usuario\\Documents\\MCC\\Thesis\\Project\\2024_Project\\new_election\\venv\\Lib\\site-packages\\sklearn\\neural_network\\_multilayer_perceptron.py:1625: DataConversionWarning: A column-vector y was passed when a 1d array was expected. Please change the shape of y to (n_samples, ), for example using ravel().\n",
      "  y = column_or_1d(y, warn=True)\n",
      "c:\\Users\\usuario\\Documents\\MCC\\Thesis\\Project\\2024_Project\\new_election\\venv\\Lib\\site-packages\\sklearn\\neural_network\\_multilayer_perceptron.py:1625: DataConversionWarning: A column-vector y was passed when a 1d array was expected. Please change the shape of y to (n_samples, ), for example using ravel().\n",
      "  y = column_or_1d(y, warn=True)\n",
      "c:\\Users\\usuario\\Documents\\MCC\\Thesis\\Project\\2024_Project\\new_election\\venv\\Lib\\site-packages\\sklearn\\neural_network\\_multilayer_perceptron.py:1625: DataConversionWarning: A column-vector y was passed when a 1d array was expected. Please change the shape of y to (n_samples, ), for example using ravel().\n",
      "  y = column_or_1d(y, warn=True)\n",
      "c:\\Users\\usuario\\Documents\\MCC\\Thesis\\Project\\2024_Project\\new_election\\venv\\Lib\\site-packages\\sklearn\\neural_network\\_multilayer_perceptron.py:1625: DataConversionWarning: A column-vector y was passed when a 1d array was expected. Please change the shape of y to (n_samples, ), for example using ravel().\n",
      "  y = column_or_1d(y, warn=True)\n",
      "c:\\Users\\usuario\\Documents\\MCC\\Thesis\\Project\\2024_Project\\new_election\\venv\\Lib\\site-packages\\sklearn\\neural_network\\_multilayer_perceptron.py:546: ConvergenceWarning: lbfgs failed to converge (status=1):\n",
      "STOP: TOTAL NO. of ITERATIONS REACHED LIMIT.\n",
      "\n",
      "Increase the number of iterations (max_iter) or scale the data as shown in:\n",
      "    https://scikit-learn.org/stable/modules/preprocessing.html\n",
      "  self.n_iter_ = _check_optimize_result(\"lbfgs\", opt_res, self.max_iter)\n",
      "c:\\Users\\usuario\\Documents\\MCC\\Thesis\\Project\\2024_Project\\new_election\\venv\\Lib\\site-packages\\sklearn\\neural_network\\_multilayer_perceptron.py:1625: DataConversionWarning: A column-vector y was passed when a 1d array was expected. Please change the shape of y to (n_samples, ), for example using ravel().\n",
      "  y = column_or_1d(y, warn=True)\n",
      "c:\\Users\\usuario\\Documents\\MCC\\Thesis\\Project\\2024_Project\\new_election\\venv\\Lib\\site-packages\\sklearn\\neural_network\\_multilayer_perceptron.py:546: ConvergenceWarning: lbfgs failed to converge (status=1):\n",
      "STOP: TOTAL NO. of ITERATIONS REACHED LIMIT.\n",
      "\n",
      "Increase the number of iterations (max_iter) or scale the data as shown in:\n",
      "    https://scikit-learn.org/stable/modules/preprocessing.html\n",
      "  self.n_iter_ = _check_optimize_result(\"lbfgs\", opt_res, self.max_iter)\n",
      "c:\\Users\\usuario\\Documents\\MCC\\Thesis\\Project\\2024_Project\\new_election\\venv\\Lib\\site-packages\\sklearn\\neural_network\\_multilayer_perceptron.py:1625: DataConversionWarning: A column-vector y was passed when a 1d array was expected. Please change the shape of y to (n_samples, ), for example using ravel().\n",
      "  y = column_or_1d(y, warn=True)\n",
      "c:\\Users\\usuario\\Documents\\MCC\\Thesis\\Project\\2024_Project\\new_election\\venv\\Lib\\site-packages\\sklearn\\neural_network\\_multilayer_perceptron.py:1625: DataConversionWarning: A column-vector y was passed when a 1d array was expected. Please change the shape of y to (n_samples, ), for example using ravel().\n",
      "  y = column_or_1d(y, warn=True)\n",
      "c:\\Users\\usuario\\Documents\\MCC\\Thesis\\Project\\2024_Project\\new_election\\venv\\Lib\\site-packages\\sklearn\\neural_network\\_multilayer_perceptron.py:1625: DataConversionWarning: A column-vector y was passed when a 1d array was expected. Please change the shape of y to (n_samples, ), for example using ravel().\n",
      "  y = column_or_1d(y, warn=True)\n",
      "c:\\Users\\usuario\\Documents\\MCC\\Thesis\\Project\\2024_Project\\new_election\\venv\\Lib\\site-packages\\sklearn\\neural_network\\_multilayer_perceptron.py:1625: DataConversionWarning: A column-vector y was passed when a 1d array was expected. Please change the shape of y to (n_samples, ), for example using ravel().\n",
      "  y = column_or_1d(y, warn=True)\n",
      "c:\\Users\\usuario\\Documents\\MCC\\Thesis\\Project\\2024_Project\\new_election\\venv\\Lib\\site-packages\\sklearn\\neural_network\\_multilayer_perceptron.py:546: ConvergenceWarning: lbfgs failed to converge (status=1):\n",
      "STOP: TOTAL NO. of ITERATIONS REACHED LIMIT.\n",
      "\n",
      "Increase the number of iterations (max_iter) or scale the data as shown in:\n",
      "    https://scikit-learn.org/stable/modules/preprocessing.html\n",
      "  self.n_iter_ = _check_optimize_result(\"lbfgs\", opt_res, self.max_iter)\n",
      "c:\\Users\\usuario\\Documents\\MCC\\Thesis\\Project\\2024_Project\\new_election\\venv\\Lib\\site-packages\\sklearn\\neural_network\\_multilayer_perceptron.py:1625: DataConversionWarning: A column-vector y was passed when a 1d array was expected. Please change the shape of y to (n_samples, ), for example using ravel().\n",
      "  y = column_or_1d(y, warn=True)\n",
      "c:\\Users\\usuario\\Documents\\MCC\\Thesis\\Project\\2024_Project\\new_election\\venv\\Lib\\site-packages\\sklearn\\neural_network\\_multilayer_perceptron.py:1625: DataConversionWarning: A column-vector y was passed when a 1d array was expected. Please change the shape of y to (n_samples, ), for example using ravel().\n",
      "  y = column_or_1d(y, warn=True)\n",
      "c:\\Users\\usuario\\Documents\\MCC\\Thesis\\Project\\2024_Project\\new_election\\venv\\Lib\\site-packages\\sklearn\\neural_network\\_multilayer_perceptron.py:1625: DataConversionWarning: A column-vector y was passed when a 1d array was expected. Please change the shape of y to (n_samples, ), for example using ravel().\n",
      "  y = column_or_1d(y, warn=True)\n",
      "c:\\Users\\usuario\\Documents\\MCC\\Thesis\\Project\\2024_Project\\new_election\\venv\\Lib\\site-packages\\sklearn\\neural_network\\_multilayer_perceptron.py:1625: DataConversionWarning: A column-vector y was passed when a 1d array was expected. Please change the shape of y to (n_samples, ), for example using ravel().\n",
      "  y = column_or_1d(y, warn=True)\n",
      "c:\\Users\\usuario\\Documents\\MCC\\Thesis\\Project\\2024_Project\\new_election\\venv\\Lib\\site-packages\\sklearn\\neural_network\\_multilayer_perceptron.py:1625: DataConversionWarning: A column-vector y was passed when a 1d array was expected. Please change the shape of y to (n_samples, ), for example using ravel().\n",
      "  y = column_or_1d(y, warn=True)\n",
      "c:\\Users\\usuario\\Documents\\MCC\\Thesis\\Project\\2024_Project\\new_election\\venv\\Lib\\site-packages\\sklearn\\neural_network\\_multilayer_perceptron.py:1625: DataConversionWarning: A column-vector y was passed when a 1d array was expected. Please change the shape of y to (n_samples, ), for example using ravel().\n",
      "  y = column_or_1d(y, warn=True)\n",
      "c:\\Users\\usuario\\Documents\\MCC\\Thesis\\Project\\2024_Project\\new_election\\venv\\Lib\\site-packages\\sklearn\\neural_network\\_multilayer_perceptron.py:1625: DataConversionWarning: A column-vector y was passed when a 1d array was expected. Please change the shape of y to (n_samples, ), for example using ravel().\n",
      "  y = column_or_1d(y, warn=True)\n",
      "c:\\Users\\usuario\\Documents\\MCC\\Thesis\\Project\\2024_Project\\new_election\\venv\\Lib\\site-packages\\sklearn\\neural_network\\_multilayer_perceptron.py:1625: DataConversionWarning: A column-vector y was passed when a 1d array was expected. Please change the shape of y to (n_samples, ), for example using ravel().\n",
      "  y = column_or_1d(y, warn=True)\n",
      "c:\\Users\\usuario\\Documents\\MCC\\Thesis\\Project\\2024_Project\\new_election\\venv\\Lib\\site-packages\\sklearn\\neural_network\\_multilayer_perceptron.py:1625: DataConversionWarning: A column-vector y was passed when a 1d array was expected. Please change the shape of y to (n_samples, ), for example using ravel().\n",
      "  y = column_or_1d(y, warn=True)\n",
      "c:\\Users\\usuario\\Documents\\MCC\\Thesis\\Project\\2024_Project\\new_election\\venv\\Lib\\site-packages\\sklearn\\neural_network\\_multilayer_perceptron.py:1625: DataConversionWarning: A column-vector y was passed when a 1d array was expected. Please change the shape of y to (n_samples, ), for example using ravel().\n",
      "  y = column_or_1d(y, warn=True)\n",
      "c:\\Users\\usuario\\Documents\\MCC\\Thesis\\Project\\2024_Project\\new_election\\venv\\Lib\\site-packages\\sklearn\\neural_network\\_multilayer_perceptron.py:1625: DataConversionWarning: A column-vector y was passed when a 1d array was expected. Please change the shape of y to (n_samples, ), for example using ravel().\n",
      "  y = column_or_1d(y, warn=True)\n",
      "c:\\Users\\usuario\\Documents\\MCC\\Thesis\\Project\\2024_Project\\new_election\\venv\\Lib\\site-packages\\sklearn\\neural_network\\_multilayer_perceptron.py:1625: DataConversionWarning: A column-vector y was passed when a 1d array was expected. Please change the shape of y to (n_samples, ), for example using ravel().\n",
      "  y = column_or_1d(y, warn=True)\n",
      "c:\\Users\\usuario\\Documents\\MCC\\Thesis\\Project\\2024_Project\\new_election\\venv\\Lib\\site-packages\\sklearn\\neural_network\\_multilayer_perceptron.py:1625: DataConversionWarning: A column-vector y was passed when a 1d array was expected. Please change the shape of y to (n_samples, ), for example using ravel().\n",
      "  y = column_or_1d(y, warn=True)\n",
      "c:\\Users\\usuario\\Documents\\MCC\\Thesis\\Project\\2024_Project\\new_election\\venv\\Lib\\site-packages\\sklearn\\neural_network\\_multilayer_perceptron.py:1625: DataConversionWarning: A column-vector y was passed when a 1d array was expected. Please change the shape of y to (n_samples, ), for example using ravel().\n",
      "  y = column_or_1d(y, warn=True)\n",
      "c:\\Users\\usuario\\Documents\\MCC\\Thesis\\Project\\2024_Project\\new_election\\venv\\Lib\\site-packages\\sklearn\\neural_network\\_multilayer_perceptron.py:1625: DataConversionWarning: A column-vector y was passed when a 1d array was expected. Please change the shape of y to (n_samples, ), for example using ravel().\n",
      "  y = column_or_1d(y, warn=True)\n",
      "c:\\Users\\usuario\\Documents\\MCC\\Thesis\\Project\\2024_Project\\new_election\\venv\\Lib\\site-packages\\sklearn\\neural_network\\_multilayer_perceptron.py:546: ConvergenceWarning: lbfgs failed to converge (status=1):\n",
      "STOP: TOTAL NO. of ITERATIONS REACHED LIMIT.\n",
      "\n",
      "Increase the number of iterations (max_iter) or scale the data as shown in:\n",
      "    https://scikit-learn.org/stable/modules/preprocessing.html\n",
      "  self.n_iter_ = _check_optimize_result(\"lbfgs\", opt_res, self.max_iter)\n",
      "c:\\Users\\usuario\\Documents\\MCC\\Thesis\\Project\\2024_Project\\new_election\\venv\\Lib\\site-packages\\sklearn\\neural_network\\_multilayer_perceptron.py:1625: DataConversionWarning: A column-vector y was passed when a 1d array was expected. Please change the shape of y to (n_samples, ), for example using ravel().\n",
      "  y = column_or_1d(y, warn=True)\n",
      "c:\\Users\\usuario\\Documents\\MCC\\Thesis\\Project\\2024_Project\\new_election\\venv\\Lib\\site-packages\\sklearn\\neural_network\\_multilayer_perceptron.py:1625: DataConversionWarning: A column-vector y was passed when a 1d array was expected. Please change the shape of y to (n_samples, ), for example using ravel().\n",
      "  y = column_or_1d(y, warn=True)\n",
      "c:\\Users\\usuario\\Documents\\MCC\\Thesis\\Project\\2024_Project\\new_election\\venv\\Lib\\site-packages\\sklearn\\neural_network\\_multilayer_perceptron.py:1625: DataConversionWarning: A column-vector y was passed when a 1d array was expected. Please change the shape of y to (n_samples, ), for example using ravel().\n",
      "  y = column_or_1d(y, warn=True)\n",
      "c:\\Users\\usuario\\Documents\\MCC\\Thesis\\Project\\2024_Project\\new_election\\venv\\Lib\\site-packages\\sklearn\\neural_network\\_multilayer_perceptron.py:1625: DataConversionWarning: A column-vector y was passed when a 1d array was expected. Please change the shape of y to (n_samples, ), for example using ravel().\n",
      "  y = column_or_1d(y, warn=True)\n",
      "c:\\Users\\usuario\\Documents\\MCC\\Thesis\\Project\\2024_Project\\new_election\\venv\\Lib\\site-packages\\sklearn\\neural_network\\_multilayer_perceptron.py:1625: DataConversionWarning: A column-vector y was passed when a 1d array was expected. Please change the shape of y to (n_samples, ), for example using ravel().\n",
      "  y = column_or_1d(y, warn=True)\n",
      "c:\\Users\\usuario\\Documents\\MCC\\Thesis\\Project\\2024_Project\\new_election\\venv\\Lib\\site-packages\\sklearn\\neural_network\\_multilayer_perceptron.py:546: ConvergenceWarning: lbfgs failed to converge (status=1):\n",
      "STOP: TOTAL NO. of ITERATIONS REACHED LIMIT.\n",
      "\n",
      "Increase the number of iterations (max_iter) or scale the data as shown in:\n",
      "    https://scikit-learn.org/stable/modules/preprocessing.html\n",
      "  self.n_iter_ = _check_optimize_result(\"lbfgs\", opt_res, self.max_iter)\n",
      "c:\\Users\\usuario\\Documents\\MCC\\Thesis\\Project\\2024_Project\\new_election\\venv\\Lib\\site-packages\\sklearn\\neural_network\\_multilayer_perceptron.py:1625: DataConversionWarning: A column-vector y was passed when a 1d array was expected. Please change the shape of y to (n_samples, ), for example using ravel().\n",
      "  y = column_or_1d(y, warn=True)\n",
      "c:\\Users\\usuario\\Documents\\MCC\\Thesis\\Project\\2024_Project\\new_election\\venv\\Lib\\site-packages\\sklearn\\neural_network\\_multilayer_perceptron.py:1625: DataConversionWarning: A column-vector y was passed when a 1d array was expected. Please change the shape of y to (n_samples, ), for example using ravel().\n",
      "  y = column_or_1d(y, warn=True)\n",
      "c:\\Users\\usuario\\Documents\\MCC\\Thesis\\Project\\2024_Project\\new_election\\venv\\Lib\\site-packages\\sklearn\\neural_network\\_multilayer_perceptron.py:1625: DataConversionWarning: A column-vector y was passed when a 1d array was expected. Please change the shape of y to (n_samples, ), for example using ravel().\n",
      "  y = column_or_1d(y, warn=True)\n",
      "c:\\Users\\usuario\\Documents\\MCC\\Thesis\\Project\\2024_Project\\new_election\\venv\\Lib\\site-packages\\sklearn\\neural_network\\_multilayer_perceptron.py:1625: DataConversionWarning: A column-vector y was passed when a 1d array was expected. Please change the shape of y to (n_samples, ), for example using ravel().\n",
      "  y = column_or_1d(y, warn=True)\n",
      "c:\\Users\\usuario\\Documents\\MCC\\Thesis\\Project\\2024_Project\\new_election\\venv\\Lib\\site-packages\\sklearn\\neural_network\\_multilayer_perceptron.py:1625: DataConversionWarning: A column-vector y was passed when a 1d array was expected. Please change the shape of y to (n_samples, ), for example using ravel().\n",
      "  y = column_or_1d(y, warn=True)\n"
     ]
    }
   ],
   "source": [
    "galvez_mlp = []\n",
    "predictions = []\n",
    "for i in days:\n",
    "  # Scan the file and set data\n",
    "  data = pd.read_csv(f'./galvez/2_{i}.csv', usecols=columns, encoding=\"utf-8\")\n",
    "  # Training and testing data; Remove last row which is the testing row\n",
    "  training_data = data.iloc[:-1]\n",
    "  testing_data = pd.DataFrame(data.iloc[-1])\n",
    "  testing_data = testing_data.T\n",
    "  # Splitting\n",
    "  X_train = training_data[feature_columns]\n",
    "  y_train = training_data[target]\n",
    "\n",
    "  X_test = testing_data[feature_columns]\n",
    "  y_test = testing_data[target]\n",
    "\n",
    "  # Fitting the scaler to the X_train anf transforming both X_train and y-train based on it\n",
    "  scaler.fit(X_train)\n",
    "  X_train = scaler.transform(X_train)\n",
    "  X_test = scaler.transform(X_test)\n",
    "  \n",
    "  # Assign random states (as literature)\n",
    "  for y in seeds:\n",
    "    regr = MLPRegressor(hidden_layer_sizes=(3, ), solver=\"lbfgs\", alpha=0.05, random_state=y, max_iter=500).fit(X_train, y_train)\n",
    "    # Predict\n",
    "    prediction = regr.predict(X_test)\n",
    "    # Append prediction\n",
    "    galvez_mlp.append(prediction[0])\n",
    "  # Append the 5 averaged predictions to a final predictions list\n",
    "  predictions.append(average(galvez_mlp))"
   ]
  },
  {
   "cell_type": "code",
   "execution_count": 121,
   "metadata": {},
   "outputs": [
    {
     "name": "stdout",
     "output_type": "stream",
     "text": [
      "The number of predictions to be averaged is 10 and for that, the predicted result by MLP alone is 25%, the real vote share was 22%\n"
     ]
    }
   ],
   "source": [
    "print(f\"The number of predictions to be averaged is {len(predictions)} and for that, the predicted result by MLP alone is {round(average(predictions))}%, the real vote share was {int(y_test['Target'].iloc[0])}%\");"
   ]
  },
  {
   "cell_type": "markdown",
   "metadata": {},
   "source": [
    "### MLP w/ PCA"
   ]
  },
  {
   "cell_type": "markdown",
   "metadata": {},
   "source": [
    "Principal component analysis (PCA).\n",
    "\n",
    "Principal Component Analysis (PCA) is a linear dimensionality reduction technique that can be utilized for extracting information from a high-dimensional space by projecting it into a lower-dimensional sub-space. It tries to preserve the essential parts that have more variation of the data and remove the non-essential parts with fewer variation. - DataCamp\n",
    "\n",
    "'We ran the fit on the scaller only on the train data, and the transform on train and test.'"
   ]
  },
  {
   "cell_type": "code",
   "execution_count": 122,
   "metadata": {},
   "outputs": [],
   "source": [
    "from sklearn.decomposition import PCA\n",
    "from sklearn.preprocessing import StandardScaler"
   ]
  },
  {
   "cell_type": "markdown",
   "metadata": {},
   "source": [
    "#### Claudia"
   ]
  },
  {
   "cell_type": "code",
   "execution_count": 123,
   "metadata": {},
   "outputs": [
    {
     "name": "stdout",
     "output_type": "stream",
     "text": [
      "3 resulting components for this data, which is based on 1 days for candidate 1.\n"
     ]
    },
    {
     "name": "stderr",
     "output_type": "stream",
     "text": [
      "c:\\Users\\usuario\\Documents\\MCC\\Thesis\\Project\\2024_Project\\new_election\\venv\\Lib\\site-packages\\sklearn\\neural_network\\_multilayer_perceptron.py:1625: DataConversionWarning: A column-vector y was passed when a 1d array was expected. Please change the shape of y to (n_samples, ), for example using ravel().\n",
      "  y = column_or_1d(y, warn=True)\n",
      "c:\\Users\\usuario\\Documents\\MCC\\Thesis\\Project\\2024_Project\\new_election\\venv\\Lib\\site-packages\\sklearn\\neural_network\\_multilayer_perceptron.py:1625: DataConversionWarning: A column-vector y was passed when a 1d array was expected. Please change the shape of y to (n_samples, ), for example using ravel().\n",
      "  y = column_or_1d(y, warn=True)\n",
      "c:\\Users\\usuario\\Documents\\MCC\\Thesis\\Project\\2024_Project\\new_election\\venv\\Lib\\site-packages\\sklearn\\neural_network\\_multilayer_perceptron.py:1625: DataConversionWarning: A column-vector y was passed when a 1d array was expected. Please change the shape of y to (n_samples, ), for example using ravel().\n",
      "  y = column_or_1d(y, warn=True)\n",
      "c:\\Users\\usuario\\Documents\\MCC\\Thesis\\Project\\2024_Project\\new_election\\venv\\Lib\\site-packages\\sklearn\\neural_network\\_multilayer_perceptron.py:546: ConvergenceWarning: lbfgs failed to converge (status=1):\n",
      "STOP: TOTAL NO. of ITERATIONS REACHED LIMIT.\n",
      "\n",
      "Increase the number of iterations (max_iter) or scale the data as shown in:\n",
      "    https://scikit-learn.org/stable/modules/preprocessing.html\n",
      "  self.n_iter_ = _check_optimize_result(\"lbfgs\", opt_res, self.max_iter)\n",
      "c:\\Users\\usuario\\Documents\\MCC\\Thesis\\Project\\2024_Project\\new_election\\venv\\Lib\\site-packages\\sklearn\\neural_network\\_multilayer_perceptron.py:1625: DataConversionWarning: A column-vector y was passed when a 1d array was expected. Please change the shape of y to (n_samples, ), for example using ravel().\n",
      "  y = column_or_1d(y, warn=True)\n",
      "c:\\Users\\usuario\\Documents\\MCC\\Thesis\\Project\\2024_Project\\new_election\\venv\\Lib\\site-packages\\sklearn\\neural_network\\_multilayer_perceptron.py:1625: DataConversionWarning: A column-vector y was passed when a 1d array was expected. Please change the shape of y to (n_samples, ), for example using ravel().\n",
      "  y = column_or_1d(y, warn=True)\n"
     ]
    },
    {
     "name": "stdout",
     "output_type": "stream",
     "text": [
      "3 resulting components for this data, which is based on 2 days for candidate 1.\n"
     ]
    },
    {
     "name": "stderr",
     "output_type": "stream",
     "text": [
      "c:\\Users\\usuario\\Documents\\MCC\\Thesis\\Project\\2024_Project\\new_election\\venv\\Lib\\site-packages\\sklearn\\neural_network\\_multilayer_perceptron.py:1625: DataConversionWarning: A column-vector y was passed when a 1d array was expected. Please change the shape of y to (n_samples, ), for example using ravel().\n",
      "  y = column_or_1d(y, warn=True)\n",
      "c:\\Users\\usuario\\Documents\\MCC\\Thesis\\Project\\2024_Project\\new_election\\venv\\Lib\\site-packages\\sklearn\\neural_network\\_multilayer_perceptron.py:1625: DataConversionWarning: A column-vector y was passed when a 1d array was expected. Please change the shape of y to (n_samples, ), for example using ravel().\n",
      "  y = column_or_1d(y, warn=True)\n",
      "c:\\Users\\usuario\\Documents\\MCC\\Thesis\\Project\\2024_Project\\new_election\\venv\\Lib\\site-packages\\sklearn\\neural_network\\_multilayer_perceptron.py:1625: DataConversionWarning: A column-vector y was passed when a 1d array was expected. Please change the shape of y to (n_samples, ), for example using ravel().\n",
      "  y = column_or_1d(y, warn=True)\n",
      "c:\\Users\\usuario\\Documents\\MCC\\Thesis\\Project\\2024_Project\\new_election\\venv\\Lib\\site-packages\\sklearn\\neural_network\\_multilayer_perceptron.py:1625: DataConversionWarning: A column-vector y was passed when a 1d array was expected. Please change the shape of y to (n_samples, ), for example using ravel().\n",
      "  y = column_or_1d(y, warn=True)\n",
      "c:\\Users\\usuario\\Documents\\MCC\\Thesis\\Project\\2024_Project\\new_election\\venv\\Lib\\site-packages\\sklearn\\neural_network\\_multilayer_perceptron.py:546: ConvergenceWarning: lbfgs failed to converge (status=1):\n",
      "STOP: TOTAL NO. of ITERATIONS REACHED LIMIT.\n",
      "\n",
      "Increase the number of iterations (max_iter) or scale the data as shown in:\n",
      "    https://scikit-learn.org/stable/modules/preprocessing.html\n",
      "  self.n_iter_ = _check_optimize_result(\"lbfgs\", opt_res, self.max_iter)\n",
      "c:\\Users\\usuario\\Documents\\MCC\\Thesis\\Project\\2024_Project\\new_election\\venv\\Lib\\site-packages\\sklearn\\neural_network\\_multilayer_perceptron.py:1625: DataConversionWarning: A column-vector y was passed when a 1d array was expected. Please change the shape of y to (n_samples, ), for example using ravel().\n",
      "  y = column_or_1d(y, warn=True)\n"
     ]
    },
    {
     "name": "stdout",
     "output_type": "stream",
     "text": [
      "4 resulting components for this data, which is based on 3 days for candidate 1.\n"
     ]
    },
    {
     "name": "stderr",
     "output_type": "stream",
     "text": [
      "c:\\Users\\usuario\\Documents\\MCC\\Thesis\\Project\\2024_Project\\new_election\\venv\\Lib\\site-packages\\sklearn\\neural_network\\_multilayer_perceptron.py:1625: DataConversionWarning: A column-vector y was passed when a 1d array was expected. Please change the shape of y to (n_samples, ), for example using ravel().\n",
      "  y = column_or_1d(y, warn=True)\n",
      "c:\\Users\\usuario\\Documents\\MCC\\Thesis\\Project\\2024_Project\\new_election\\venv\\Lib\\site-packages\\sklearn\\neural_network\\_multilayer_perceptron.py:1625: DataConversionWarning: A column-vector y was passed when a 1d array was expected. Please change the shape of y to (n_samples, ), for example using ravel().\n",
      "  y = column_or_1d(y, warn=True)\n",
      "c:\\Users\\usuario\\Documents\\MCC\\Thesis\\Project\\2024_Project\\new_election\\venv\\Lib\\site-packages\\sklearn\\neural_network\\_multilayer_perceptron.py:1625: DataConversionWarning: A column-vector y was passed when a 1d array was expected. Please change the shape of y to (n_samples, ), for example using ravel().\n",
      "  y = column_or_1d(y, warn=True)\n",
      "c:\\Users\\usuario\\Documents\\MCC\\Thesis\\Project\\2024_Project\\new_election\\venv\\Lib\\site-packages\\sklearn\\neural_network\\_multilayer_perceptron.py:1625: DataConversionWarning: A column-vector y was passed when a 1d array was expected. Please change the shape of y to (n_samples, ), for example using ravel().\n",
      "  y = column_or_1d(y, warn=True)\n",
      "c:\\Users\\usuario\\Documents\\MCC\\Thesis\\Project\\2024_Project\\new_election\\venv\\Lib\\site-packages\\sklearn\\neural_network\\_multilayer_perceptron.py:546: ConvergenceWarning: lbfgs failed to converge (status=1):\n",
      "STOP: TOTAL NO. of ITERATIONS REACHED LIMIT.\n",
      "\n",
      "Increase the number of iterations (max_iter) or scale the data as shown in:\n",
      "    https://scikit-learn.org/stable/modules/preprocessing.html\n",
      "  self.n_iter_ = _check_optimize_result(\"lbfgs\", opt_res, self.max_iter)\n",
      "c:\\Users\\usuario\\Documents\\MCC\\Thesis\\Project\\2024_Project\\new_election\\venv\\Lib\\site-packages\\sklearn\\neural_network\\_multilayer_perceptron.py:1625: DataConversionWarning: A column-vector y was passed when a 1d array was expected. Please change the shape of y to (n_samples, ), for example using ravel().\n",
      "  y = column_or_1d(y, warn=True)\n",
      "c:\\Users\\usuario\\Documents\\MCC\\Thesis\\Project\\2024_Project\\new_election\\venv\\Lib\\site-packages\\sklearn\\neural_network\\_multilayer_perceptron.py:546: ConvergenceWarning: lbfgs failed to converge (status=1):\n",
      "STOP: TOTAL NO. of ITERATIONS REACHED LIMIT.\n",
      "\n",
      "Increase the number of iterations (max_iter) or scale the data as shown in:\n",
      "    https://scikit-learn.org/stable/modules/preprocessing.html\n",
      "  self.n_iter_ = _check_optimize_result(\"lbfgs\", opt_res, self.max_iter)\n"
     ]
    },
    {
     "name": "stdout",
     "output_type": "stream",
     "text": [
      "4 resulting components for this data, which is based on 4 days for candidate 1.\n"
     ]
    },
    {
     "name": "stderr",
     "output_type": "stream",
     "text": [
      "c:\\Users\\usuario\\Documents\\MCC\\Thesis\\Project\\2024_Project\\new_election\\venv\\Lib\\site-packages\\sklearn\\neural_network\\_multilayer_perceptron.py:1625: DataConversionWarning: A column-vector y was passed when a 1d array was expected. Please change the shape of y to (n_samples, ), for example using ravel().\n",
      "  y = column_or_1d(y, warn=True)\n",
      "c:\\Users\\usuario\\Documents\\MCC\\Thesis\\Project\\2024_Project\\new_election\\venv\\Lib\\site-packages\\sklearn\\neural_network\\_multilayer_perceptron.py:546: ConvergenceWarning: lbfgs failed to converge (status=1):\n",
      "STOP: TOTAL NO. of ITERATIONS REACHED LIMIT.\n",
      "\n",
      "Increase the number of iterations (max_iter) or scale the data as shown in:\n",
      "    https://scikit-learn.org/stable/modules/preprocessing.html\n",
      "  self.n_iter_ = _check_optimize_result(\"lbfgs\", opt_res, self.max_iter)\n",
      "c:\\Users\\usuario\\Documents\\MCC\\Thesis\\Project\\2024_Project\\new_election\\venv\\Lib\\site-packages\\sklearn\\neural_network\\_multilayer_perceptron.py:1625: DataConversionWarning: A column-vector y was passed when a 1d array was expected. Please change the shape of y to (n_samples, ), for example using ravel().\n",
      "  y = column_or_1d(y, warn=True)\n",
      "c:\\Users\\usuario\\Documents\\MCC\\Thesis\\Project\\2024_Project\\new_election\\venv\\Lib\\site-packages\\sklearn\\neural_network\\_multilayer_perceptron.py:546: ConvergenceWarning: lbfgs failed to converge (status=1):\n",
      "STOP: TOTAL NO. of ITERATIONS REACHED LIMIT.\n",
      "\n",
      "Increase the number of iterations (max_iter) or scale the data as shown in:\n",
      "    https://scikit-learn.org/stable/modules/preprocessing.html\n",
      "  self.n_iter_ = _check_optimize_result(\"lbfgs\", opt_res, self.max_iter)\n",
      "c:\\Users\\usuario\\Documents\\MCC\\Thesis\\Project\\2024_Project\\new_election\\venv\\Lib\\site-packages\\sklearn\\neural_network\\_multilayer_perceptron.py:1625: DataConversionWarning: A column-vector y was passed when a 1d array was expected. Please change the shape of y to (n_samples, ), for example using ravel().\n",
      "  y = column_or_1d(y, warn=True)\n",
      "c:\\Users\\usuario\\Documents\\MCC\\Thesis\\Project\\2024_Project\\new_election\\venv\\Lib\\site-packages\\sklearn\\neural_network\\_multilayer_perceptron.py:1625: DataConversionWarning: A column-vector y was passed when a 1d array was expected. Please change the shape of y to (n_samples, ), for example using ravel().\n",
      "  y = column_or_1d(y, warn=True)\n",
      "c:\\Users\\usuario\\Documents\\MCC\\Thesis\\Project\\2024_Project\\new_election\\venv\\Lib\\site-packages\\sklearn\\neural_network\\_multilayer_perceptron.py:1625: DataConversionWarning: A column-vector y was passed when a 1d array was expected. Please change the shape of y to (n_samples, ), for example using ravel().\n",
      "  y = column_or_1d(y, warn=True)\n",
      "c:\\Users\\usuario\\Documents\\MCC\\Thesis\\Project\\2024_Project\\new_election\\venv\\Lib\\site-packages\\sklearn\\neural_network\\_multilayer_perceptron.py:1625: DataConversionWarning: A column-vector y was passed when a 1d array was expected. Please change the shape of y to (n_samples, ), for example using ravel().\n",
      "  y = column_or_1d(y, warn=True)\n"
     ]
    },
    {
     "name": "stdout",
     "output_type": "stream",
     "text": [
      "4 resulting components for this data, which is based on 5 days for candidate 1.\n"
     ]
    },
    {
     "name": "stderr",
     "output_type": "stream",
     "text": [
      "c:\\Users\\usuario\\Documents\\MCC\\Thesis\\Project\\2024_Project\\new_election\\venv\\Lib\\site-packages\\sklearn\\neural_network\\_multilayer_perceptron.py:546: ConvergenceWarning: lbfgs failed to converge (status=1):\n",
      "STOP: TOTAL NO. of ITERATIONS REACHED LIMIT.\n",
      "\n",
      "Increase the number of iterations (max_iter) or scale the data as shown in:\n",
      "    https://scikit-learn.org/stable/modules/preprocessing.html\n",
      "  self.n_iter_ = _check_optimize_result(\"lbfgs\", opt_res, self.max_iter)\n",
      "c:\\Users\\usuario\\Documents\\MCC\\Thesis\\Project\\2024_Project\\new_election\\venv\\Lib\\site-packages\\sklearn\\neural_network\\_multilayer_perceptron.py:1625: DataConversionWarning: A column-vector y was passed when a 1d array was expected. Please change the shape of y to (n_samples, ), for example using ravel().\n",
      "  y = column_or_1d(y, warn=True)\n",
      "c:\\Users\\usuario\\Documents\\MCC\\Thesis\\Project\\2024_Project\\new_election\\venv\\Lib\\site-packages\\sklearn\\neural_network\\_multilayer_perceptron.py:1625: DataConversionWarning: A column-vector y was passed when a 1d array was expected. Please change the shape of y to (n_samples, ), for example using ravel().\n",
      "  y = column_or_1d(y, warn=True)\n",
      "c:\\Users\\usuario\\Documents\\MCC\\Thesis\\Project\\2024_Project\\new_election\\venv\\Lib\\site-packages\\sklearn\\neural_network\\_multilayer_perceptron.py:1625: DataConversionWarning: A column-vector y was passed when a 1d array was expected. Please change the shape of y to (n_samples, ), for example using ravel().\n",
      "  y = column_or_1d(y, warn=True)\n",
      "c:\\Users\\usuario\\Documents\\MCC\\Thesis\\Project\\2024_Project\\new_election\\venv\\Lib\\site-packages\\sklearn\\neural_network\\_multilayer_perceptron.py:546: ConvergenceWarning: lbfgs failed to converge (status=1):\n",
      "STOP: TOTAL NO. of ITERATIONS REACHED LIMIT.\n",
      "\n",
      "Increase the number of iterations (max_iter) or scale the data as shown in:\n",
      "    https://scikit-learn.org/stable/modules/preprocessing.html\n",
      "  self.n_iter_ = _check_optimize_result(\"lbfgs\", opt_res, self.max_iter)\n",
      "c:\\Users\\usuario\\Documents\\MCC\\Thesis\\Project\\2024_Project\\new_election\\venv\\Lib\\site-packages\\sklearn\\neural_network\\_multilayer_perceptron.py:1625: DataConversionWarning: A column-vector y was passed when a 1d array was expected. Please change the shape of y to (n_samples, ), for example using ravel().\n",
      "  y = column_or_1d(y, warn=True)\n",
      "c:\\Users\\usuario\\Documents\\MCC\\Thesis\\Project\\2024_Project\\new_election\\venv\\Lib\\site-packages\\sklearn\\neural_network\\_multilayer_perceptron.py:1625: DataConversionWarning: A column-vector y was passed when a 1d array was expected. Please change the shape of y to (n_samples, ), for example using ravel().\n",
      "  y = column_or_1d(y, warn=True)\n"
     ]
    },
    {
     "name": "stdout",
     "output_type": "stream",
     "text": [
      "4 resulting components for this data, which is based on 6 days for candidate 1.\n"
     ]
    },
    {
     "name": "stderr",
     "output_type": "stream",
     "text": [
      "c:\\Users\\usuario\\Documents\\MCC\\Thesis\\Project\\2024_Project\\new_election\\venv\\Lib\\site-packages\\sklearn\\neural_network\\_multilayer_perceptron.py:546: ConvergenceWarning: lbfgs failed to converge (status=1):\n",
      "STOP: TOTAL NO. of ITERATIONS REACHED LIMIT.\n",
      "\n",
      "Increase the number of iterations (max_iter) or scale the data as shown in:\n",
      "    https://scikit-learn.org/stable/modules/preprocessing.html\n",
      "  self.n_iter_ = _check_optimize_result(\"lbfgs\", opt_res, self.max_iter)\n",
      "c:\\Users\\usuario\\Documents\\MCC\\Thesis\\Project\\2024_Project\\new_election\\venv\\Lib\\site-packages\\sklearn\\neural_network\\_multilayer_perceptron.py:1625: DataConversionWarning: A column-vector y was passed when a 1d array was expected. Please change the shape of y to (n_samples, ), for example using ravel().\n",
      "  y = column_or_1d(y, warn=True)\n",
      "c:\\Users\\usuario\\Documents\\MCC\\Thesis\\Project\\2024_Project\\new_election\\venv\\Lib\\site-packages\\sklearn\\neural_network\\_multilayer_perceptron.py:546: ConvergenceWarning: lbfgs failed to converge (status=1):\n",
      "STOP: TOTAL NO. of ITERATIONS REACHED LIMIT.\n",
      "\n",
      "Increase the number of iterations (max_iter) or scale the data as shown in:\n",
      "    https://scikit-learn.org/stable/modules/preprocessing.html\n",
      "  self.n_iter_ = _check_optimize_result(\"lbfgs\", opt_res, self.max_iter)\n",
      "c:\\Users\\usuario\\Documents\\MCC\\Thesis\\Project\\2024_Project\\new_election\\venv\\Lib\\site-packages\\sklearn\\neural_network\\_multilayer_perceptron.py:1625: DataConversionWarning: A column-vector y was passed when a 1d array was expected. Please change the shape of y to (n_samples, ), for example using ravel().\n",
      "  y = column_or_1d(y, warn=True)\n",
      "c:\\Users\\usuario\\Documents\\MCC\\Thesis\\Project\\2024_Project\\new_election\\venv\\Lib\\site-packages\\sklearn\\neural_network\\_multilayer_perceptron.py:546: ConvergenceWarning: lbfgs failed to converge (status=1):\n",
      "STOP: TOTAL NO. of ITERATIONS REACHED LIMIT.\n",
      "\n",
      "Increase the number of iterations (max_iter) or scale the data as shown in:\n",
      "    https://scikit-learn.org/stable/modules/preprocessing.html\n",
      "  self.n_iter_ = _check_optimize_result(\"lbfgs\", opt_res, self.max_iter)\n",
      "c:\\Users\\usuario\\Documents\\MCC\\Thesis\\Project\\2024_Project\\new_election\\venv\\Lib\\site-packages\\sklearn\\neural_network\\_multilayer_perceptron.py:1625: DataConversionWarning: A column-vector y was passed when a 1d array was expected. Please change the shape of y to (n_samples, ), for example using ravel().\n",
      "  y = column_or_1d(y, warn=True)\n",
      "c:\\Users\\usuario\\Documents\\MCC\\Thesis\\Project\\2024_Project\\new_election\\venv\\Lib\\site-packages\\sklearn\\neural_network\\_multilayer_perceptron.py:1625: DataConversionWarning: A column-vector y was passed when a 1d array was expected. Please change the shape of y to (n_samples, ), for example using ravel().\n",
      "  y = column_or_1d(y, warn=True)\n",
      "c:\\Users\\usuario\\Documents\\MCC\\Thesis\\Project\\2024_Project\\new_election\\venv\\Lib\\site-packages\\sklearn\\neural_network\\_multilayer_perceptron.py:546: ConvergenceWarning: lbfgs failed to converge (status=1):\n",
      "STOP: TOTAL NO. of ITERATIONS REACHED LIMIT.\n",
      "\n",
      "Increase the number of iterations (max_iter) or scale the data as shown in:\n",
      "    https://scikit-learn.org/stable/modules/preprocessing.html\n",
      "  self.n_iter_ = _check_optimize_result(\"lbfgs\", opt_res, self.max_iter)\n",
      "c:\\Users\\usuario\\Documents\\MCC\\Thesis\\Project\\2024_Project\\new_election\\venv\\Lib\\site-packages\\sklearn\\neural_network\\_multilayer_perceptron.py:1625: DataConversionWarning: A column-vector y was passed when a 1d array was expected. Please change the shape of y to (n_samples, ), for example using ravel().\n",
      "  y = column_or_1d(y, warn=True)\n",
      "c:\\Users\\usuario\\Documents\\MCC\\Thesis\\Project\\2024_Project\\new_election\\venv\\Lib\\site-packages\\sklearn\\neural_network\\_multilayer_perceptron.py:1625: DataConversionWarning: A column-vector y was passed when a 1d array was expected. Please change the shape of y to (n_samples, ), for example using ravel().\n",
      "  y = column_or_1d(y, warn=True)\n"
     ]
    },
    {
     "name": "stdout",
     "output_type": "stream",
     "text": [
      "4 resulting components for this data, which is based on 7 days for candidate 1.\n"
     ]
    },
    {
     "name": "stderr",
     "output_type": "stream",
     "text": [
      "c:\\Users\\usuario\\Documents\\MCC\\Thesis\\Project\\2024_Project\\new_election\\venv\\Lib\\site-packages\\sklearn\\neural_network\\_multilayer_perceptron.py:546: ConvergenceWarning: lbfgs failed to converge (status=1):\n",
      "STOP: TOTAL NO. of ITERATIONS REACHED LIMIT.\n",
      "\n",
      "Increase the number of iterations (max_iter) or scale the data as shown in:\n",
      "    https://scikit-learn.org/stable/modules/preprocessing.html\n",
      "  self.n_iter_ = _check_optimize_result(\"lbfgs\", opt_res, self.max_iter)\n",
      "c:\\Users\\usuario\\Documents\\MCC\\Thesis\\Project\\2024_Project\\new_election\\venv\\Lib\\site-packages\\sklearn\\neural_network\\_multilayer_perceptron.py:1625: DataConversionWarning: A column-vector y was passed when a 1d array was expected. Please change the shape of y to (n_samples, ), for example using ravel().\n",
      "  y = column_or_1d(y, warn=True)\n",
      "c:\\Users\\usuario\\Documents\\MCC\\Thesis\\Project\\2024_Project\\new_election\\venv\\Lib\\site-packages\\sklearn\\neural_network\\_multilayer_perceptron.py:1625: DataConversionWarning: A column-vector y was passed when a 1d array was expected. Please change the shape of y to (n_samples, ), for example using ravel().\n",
      "  y = column_or_1d(y, warn=True)\n",
      "c:\\Users\\usuario\\Documents\\MCC\\Thesis\\Project\\2024_Project\\new_election\\venv\\Lib\\site-packages\\sklearn\\neural_network\\_multilayer_perceptron.py:546: ConvergenceWarning: lbfgs failed to converge (status=1):\n",
      "STOP: TOTAL NO. of ITERATIONS REACHED LIMIT.\n",
      "\n",
      "Increase the number of iterations (max_iter) or scale the data as shown in:\n",
      "    https://scikit-learn.org/stable/modules/preprocessing.html\n",
      "  self.n_iter_ = _check_optimize_result(\"lbfgs\", opt_res, self.max_iter)\n",
      "c:\\Users\\usuario\\Documents\\MCC\\Thesis\\Project\\2024_Project\\new_election\\venv\\Lib\\site-packages\\sklearn\\neural_network\\_multilayer_perceptron.py:1625: DataConversionWarning: A column-vector y was passed when a 1d array was expected. Please change the shape of y to (n_samples, ), for example using ravel().\n",
      "  y = column_or_1d(y, warn=True)\n"
     ]
    },
    {
     "name": "stdout",
     "output_type": "stream",
     "text": [
      "4 resulting components for this data, which is based on 14 days for candidate 1.\n"
     ]
    },
    {
     "name": "stderr",
     "output_type": "stream",
     "text": [
      "c:\\Users\\usuario\\Documents\\MCC\\Thesis\\Project\\2024_Project\\new_election\\venv\\Lib\\site-packages\\sklearn\\neural_network\\_multilayer_perceptron.py:1625: DataConversionWarning: A column-vector y was passed when a 1d array was expected. Please change the shape of y to (n_samples, ), for example using ravel().\n",
      "  y = column_or_1d(y, warn=True)\n",
      "c:\\Users\\usuario\\Documents\\MCC\\Thesis\\Project\\2024_Project\\new_election\\venv\\Lib\\site-packages\\sklearn\\neural_network\\_multilayer_perceptron.py:546: ConvergenceWarning: lbfgs failed to converge (status=1):\n",
      "STOP: TOTAL NO. of ITERATIONS REACHED LIMIT.\n",
      "\n",
      "Increase the number of iterations (max_iter) or scale the data as shown in:\n",
      "    https://scikit-learn.org/stable/modules/preprocessing.html\n",
      "  self.n_iter_ = _check_optimize_result(\"lbfgs\", opt_res, self.max_iter)\n",
      "c:\\Users\\usuario\\Documents\\MCC\\Thesis\\Project\\2024_Project\\new_election\\venv\\Lib\\site-packages\\sklearn\\neural_network\\_multilayer_perceptron.py:1625: DataConversionWarning: A column-vector y was passed when a 1d array was expected. Please change the shape of y to (n_samples, ), for example using ravel().\n",
      "  y = column_or_1d(y, warn=True)\n",
      "c:\\Users\\usuario\\Documents\\MCC\\Thesis\\Project\\2024_Project\\new_election\\venv\\Lib\\site-packages\\sklearn\\neural_network\\_multilayer_perceptron.py:546: ConvergenceWarning: lbfgs failed to converge (status=1):\n",
      "STOP: TOTAL NO. of ITERATIONS REACHED LIMIT.\n",
      "\n",
      "Increase the number of iterations (max_iter) or scale the data as shown in:\n",
      "    https://scikit-learn.org/stable/modules/preprocessing.html\n",
      "  self.n_iter_ = _check_optimize_result(\"lbfgs\", opt_res, self.max_iter)\n",
      "c:\\Users\\usuario\\Documents\\MCC\\Thesis\\Project\\2024_Project\\new_election\\venv\\Lib\\site-packages\\sklearn\\neural_network\\_multilayer_perceptron.py:1625: DataConversionWarning: A column-vector y was passed when a 1d array was expected. Please change the shape of y to (n_samples, ), for example using ravel().\n",
      "  y = column_or_1d(y, warn=True)\n",
      "c:\\Users\\usuario\\Documents\\MCC\\Thesis\\Project\\2024_Project\\new_election\\venv\\Lib\\site-packages\\sklearn\\neural_network\\_multilayer_perceptron.py:546: ConvergenceWarning: lbfgs failed to converge (status=1):\n",
      "STOP: TOTAL NO. of ITERATIONS REACHED LIMIT.\n",
      "\n",
      "Increase the number of iterations (max_iter) or scale the data as shown in:\n",
      "    https://scikit-learn.org/stable/modules/preprocessing.html\n",
      "  self.n_iter_ = _check_optimize_result(\"lbfgs\", opt_res, self.max_iter)\n",
      "c:\\Users\\usuario\\Documents\\MCC\\Thesis\\Project\\2024_Project\\new_election\\venv\\Lib\\site-packages\\sklearn\\neural_network\\_multilayer_perceptron.py:1625: DataConversionWarning: A column-vector y was passed when a 1d array was expected. Please change the shape of y to (n_samples, ), for example using ravel().\n",
      "  y = column_or_1d(y, warn=True)\n",
      "c:\\Users\\usuario\\Documents\\MCC\\Thesis\\Project\\2024_Project\\new_election\\venv\\Lib\\site-packages\\sklearn\\neural_network\\_multilayer_perceptron.py:1625: DataConversionWarning: A column-vector y was passed when a 1d array was expected. Please change the shape of y to (n_samples, ), for example using ravel().\n",
      "  y = column_or_1d(y, warn=True)\n",
      "c:\\Users\\usuario\\Documents\\MCC\\Thesis\\Project\\2024_Project\\new_election\\venv\\Lib\\site-packages\\sklearn\\neural_network\\_multilayer_perceptron.py:546: ConvergenceWarning: lbfgs failed to converge (status=1):\n",
      "STOP: TOTAL NO. of ITERATIONS REACHED LIMIT.\n",
      "\n",
      "Increase the number of iterations (max_iter) or scale the data as shown in:\n",
      "    https://scikit-learn.org/stable/modules/preprocessing.html\n",
      "  self.n_iter_ = _check_optimize_result(\"lbfgs\", opt_res, self.max_iter)\n",
      "c:\\Users\\usuario\\Documents\\MCC\\Thesis\\Project\\2024_Project\\new_election\\venv\\Lib\\site-packages\\sklearn\\neural_network\\_multilayer_perceptron.py:1625: DataConversionWarning: A column-vector y was passed when a 1d array was expected. Please change the shape of y to (n_samples, ), for example using ravel().\n",
      "  y = column_or_1d(y, warn=True)\n"
     ]
    },
    {
     "name": "stdout",
     "output_type": "stream",
     "text": [
      "4 resulting components for this data, which is based on 21 days for candidate 1.\n"
     ]
    },
    {
     "name": "stderr",
     "output_type": "stream",
     "text": [
      "c:\\Users\\usuario\\Documents\\MCC\\Thesis\\Project\\2024_Project\\new_election\\venv\\Lib\\site-packages\\sklearn\\neural_network\\_multilayer_perceptron.py:546: ConvergenceWarning: lbfgs failed to converge (status=1):\n",
      "STOP: TOTAL NO. of ITERATIONS REACHED LIMIT.\n",
      "\n",
      "Increase the number of iterations (max_iter) or scale the data as shown in:\n",
      "    https://scikit-learn.org/stable/modules/preprocessing.html\n",
      "  self.n_iter_ = _check_optimize_result(\"lbfgs\", opt_res, self.max_iter)\n",
      "c:\\Users\\usuario\\Documents\\MCC\\Thesis\\Project\\2024_Project\\new_election\\venv\\Lib\\site-packages\\sklearn\\neural_network\\_multilayer_perceptron.py:1625: DataConversionWarning: A column-vector y was passed when a 1d array was expected. Please change the shape of y to (n_samples, ), for example using ravel().\n",
      "  y = column_or_1d(y, warn=True)\n",
      "c:\\Users\\usuario\\Documents\\MCC\\Thesis\\Project\\2024_Project\\new_election\\venv\\Lib\\site-packages\\sklearn\\neural_network\\_multilayer_perceptron.py:1625: DataConversionWarning: A column-vector y was passed when a 1d array was expected. Please change the shape of y to (n_samples, ), for example using ravel().\n",
      "  y = column_or_1d(y, warn=True)\n",
      "c:\\Users\\usuario\\Documents\\MCC\\Thesis\\Project\\2024_Project\\new_election\\venv\\Lib\\site-packages\\sklearn\\neural_network\\_multilayer_perceptron.py:1625: DataConversionWarning: A column-vector y was passed when a 1d array was expected. Please change the shape of y to (n_samples, ), for example using ravel().\n",
      "  y = column_or_1d(y, warn=True)\n",
      "c:\\Users\\usuario\\Documents\\MCC\\Thesis\\Project\\2024_Project\\new_election\\venv\\Lib\\site-packages\\sklearn\\neural_network\\_multilayer_perceptron.py:1625: DataConversionWarning: A column-vector y was passed when a 1d array was expected. Please change the shape of y to (n_samples, ), for example using ravel().\n",
      "  y = column_or_1d(y, warn=True)\n",
      "c:\\Users\\usuario\\Documents\\MCC\\Thesis\\Project\\2024_Project\\new_election\\venv\\Lib\\site-packages\\sklearn\\neural_network\\_multilayer_perceptron.py:546: ConvergenceWarning: lbfgs failed to converge (status=1):\n",
      "STOP: TOTAL NO. of ITERATIONS REACHED LIMIT.\n",
      "\n",
      "Increase the number of iterations (max_iter) or scale the data as shown in:\n",
      "    https://scikit-learn.org/stable/modules/preprocessing.html\n",
      "  self.n_iter_ = _check_optimize_result(\"lbfgs\", opt_res, self.max_iter)\n",
      "c:\\Users\\usuario\\Documents\\MCC\\Thesis\\Project\\2024_Project\\new_election\\venv\\Lib\\site-packages\\sklearn\\neural_network\\_multilayer_perceptron.py:1625: DataConversionWarning: A column-vector y was passed when a 1d array was expected. Please change the shape of y to (n_samples, ), for example using ravel().\n",
      "  y = column_or_1d(y, warn=True)\n"
     ]
    },
    {
     "name": "stdout",
     "output_type": "stream",
     "text": [
      "4 resulting components for this data, which is based on 28 days for candidate 1.\n"
     ]
    },
    {
     "name": "stderr",
     "output_type": "stream",
     "text": [
      "c:\\Users\\usuario\\Documents\\MCC\\Thesis\\Project\\2024_Project\\new_election\\venv\\Lib\\site-packages\\sklearn\\neural_network\\_multilayer_perceptron.py:546: ConvergenceWarning: lbfgs failed to converge (status=1):\n",
      "STOP: TOTAL NO. of ITERATIONS REACHED LIMIT.\n",
      "\n",
      "Increase the number of iterations (max_iter) or scale the data as shown in:\n",
      "    https://scikit-learn.org/stable/modules/preprocessing.html\n",
      "  self.n_iter_ = _check_optimize_result(\"lbfgs\", opt_res, self.max_iter)\n",
      "c:\\Users\\usuario\\Documents\\MCC\\Thesis\\Project\\2024_Project\\new_election\\venv\\Lib\\site-packages\\sklearn\\neural_network\\_multilayer_perceptron.py:1625: DataConversionWarning: A column-vector y was passed when a 1d array was expected. Please change the shape of y to (n_samples, ), for example using ravel().\n",
      "  y = column_or_1d(y, warn=True)\n",
      "c:\\Users\\usuario\\Documents\\MCC\\Thesis\\Project\\2024_Project\\new_election\\venv\\Lib\\site-packages\\sklearn\\neural_network\\_multilayer_perceptron.py:546: ConvergenceWarning: lbfgs failed to converge (status=1):\n",
      "STOP: TOTAL NO. of ITERATIONS REACHED LIMIT.\n",
      "\n",
      "Increase the number of iterations (max_iter) or scale the data as shown in:\n",
      "    https://scikit-learn.org/stable/modules/preprocessing.html\n",
      "  self.n_iter_ = _check_optimize_result(\"lbfgs\", opt_res, self.max_iter)\n",
      "c:\\Users\\usuario\\Documents\\MCC\\Thesis\\Project\\2024_Project\\new_election\\venv\\Lib\\site-packages\\sklearn\\neural_network\\_multilayer_perceptron.py:1625: DataConversionWarning: A column-vector y was passed when a 1d array was expected. Please change the shape of y to (n_samples, ), for example using ravel().\n",
      "  y = column_or_1d(y, warn=True)\n",
      "c:\\Users\\usuario\\Documents\\MCC\\Thesis\\Project\\2024_Project\\new_election\\venv\\Lib\\site-packages\\sklearn\\neural_network\\_multilayer_perceptron.py:546: ConvergenceWarning: lbfgs failed to converge (status=1):\n",
      "STOP: TOTAL NO. of ITERATIONS REACHED LIMIT.\n",
      "\n",
      "Increase the number of iterations (max_iter) or scale the data as shown in:\n",
      "    https://scikit-learn.org/stable/modules/preprocessing.html\n",
      "  self.n_iter_ = _check_optimize_result(\"lbfgs\", opt_res, self.max_iter)\n",
      "c:\\Users\\usuario\\Documents\\MCC\\Thesis\\Project\\2024_Project\\new_election\\venv\\Lib\\site-packages\\sklearn\\neural_network\\_multilayer_perceptron.py:1625: DataConversionWarning: A column-vector y was passed when a 1d array was expected. Please change the shape of y to (n_samples, ), for example using ravel().\n",
      "  y = column_or_1d(y, warn=True)\n",
      "c:\\Users\\usuario\\Documents\\MCC\\Thesis\\Project\\2024_Project\\new_election\\venv\\Lib\\site-packages\\sklearn\\neural_network\\_multilayer_perceptron.py:546: ConvergenceWarning: lbfgs failed to converge (status=1):\n",
      "STOP: TOTAL NO. of ITERATIONS REACHED LIMIT.\n",
      "\n",
      "Increase the number of iterations (max_iter) or scale the data as shown in:\n",
      "    https://scikit-learn.org/stable/modules/preprocessing.html\n",
      "  self.n_iter_ = _check_optimize_result(\"lbfgs\", opt_res, self.max_iter)\n",
      "c:\\Users\\usuario\\Documents\\MCC\\Thesis\\Project\\2024_Project\\new_election\\venv\\Lib\\site-packages\\sklearn\\neural_network\\_multilayer_perceptron.py:1625: DataConversionWarning: A column-vector y was passed when a 1d array was expected. Please change the shape of y to (n_samples, ), for example using ravel().\n",
      "  y = column_or_1d(y, warn=True)\n"
     ]
    }
   ],
   "source": [
    "predictions = []\n",
    "claudia_mlp = []\n",
    "for i in days:\n",
    "  # Scan the file and set data\n",
    "  data = pd.read_csv(f'./claudia/1_{i}.csv', usecols=columns, encoding=\"utf-8\")\n",
    "  # Training and testing data; Remove last row which is the testing row\n",
    "  training_data = data.iloc[:-1]\n",
    "  testing_data = pd.DataFrame(data.iloc[-1])\n",
    "  testing_data = testing_data.T\n",
    "  # Splitting\n",
    "  X_train = training_data[feature_columns]\n",
    "  y_train = training_data[target]\n",
    "\n",
    "  X_test = testing_data[feature_columns]\n",
    "  y_test = testing_data[target]\n",
    "\n",
    "  # Instantiating both the standard scaler and PCA\n",
    "  scaler = StandardScaler()\n",
    "  pca = PCA(n_components=0.95, svd_solver='full')\n",
    "\n",
    "  # Fitting the scaler to the X_train anf transforming both X_train and y-train based on it\n",
    "  scaler.fit(X_train)\n",
    "  X_train = scaler.transform(X_train)\n",
    "  X_test = scaler.transform(X_test)\n",
    "\n",
    "  # Fitting PCA to the X_train anf transforming both X_train and y-train based on it\n",
    "  pca.fit(X_train)\n",
    "  X_train = pca.transform(X_train)\n",
    "  X_test = pca.transform(X_test)\n",
    "\n",
    "  # Details about the PCA instantiation\n",
    "  pca_components = pca.n_components_\n",
    "  pca_variance = pca.explained_variance_ratio_\n",
    "\n",
    "  print(f\"{pca_components} resulting components for this data, which is based on {i} days for candidate 1.\")\n",
    "\n",
    "  # Assign random states (as literature)\n",
    "  for y in seeds:\n",
    "    regr = MLPRegressor(hidden_layer_sizes=(3, ), solver=\"lbfgs\", alpha=0.05, random_state=y, max_iter=500).fit(X_train, y_train)\n",
    "    # Predict\n",
    "    prediction = regr.predict(X_test)\n",
    "    # Append prediction\n",
    "    claudia_mlp.append(prediction[0])\n",
    "  # Append the 5 averaged predictions to a final predictions list\n",
    "  predictions.append(average(claudia_mlp))"
   ]
  },
  {
   "cell_type": "code",
   "execution_count": 124,
   "metadata": {},
   "outputs": [
    {
     "name": "stdout",
     "output_type": "stream",
     "text": [
      "The number of predictions to be averaged is 10 and for that, the predicted result by MLP alone is 56%, the real vote share was 63%\n"
     ]
    }
   ],
   "source": [
    "print(f\"The number of predictions to be averaged is {len(predictions)} and for that, the predicted result by MLP alone is {round(average(predictions))}%, the real vote share was {int(y_test['Target'].iloc[0])}%\");"
   ]
  },
  {
   "cell_type": "markdown",
   "metadata": {},
   "source": [
    "#### Gálvez"
   ]
  },
  {
   "cell_type": "code",
   "execution_count": 125,
   "metadata": {},
   "outputs": [
    {
     "name": "stdout",
     "output_type": "stream",
     "text": [
      "3 resulting components for this data, which is based on 1 days for candidate 2.\n"
     ]
    },
    {
     "name": "stderr",
     "output_type": "stream",
     "text": [
      "c:\\Users\\usuario\\Documents\\MCC\\Thesis\\Project\\2024_Project\\new_election\\venv\\Lib\\site-packages\\sklearn\\neural_network\\_multilayer_perceptron.py:1625: DataConversionWarning: A column-vector y was passed when a 1d array was expected. Please change the shape of y to (n_samples, ), for example using ravel().\n",
      "  y = column_or_1d(y, warn=True)\n",
      "c:\\Users\\usuario\\Documents\\MCC\\Thesis\\Project\\2024_Project\\new_election\\venv\\Lib\\site-packages\\sklearn\\neural_network\\_multilayer_perceptron.py:1625: DataConversionWarning: A column-vector y was passed when a 1d array was expected. Please change the shape of y to (n_samples, ), for example using ravel().\n",
      "  y = column_or_1d(y, warn=True)\n",
      "c:\\Users\\usuario\\Documents\\MCC\\Thesis\\Project\\2024_Project\\new_election\\venv\\Lib\\site-packages\\sklearn\\neural_network\\_multilayer_perceptron.py:1625: DataConversionWarning: A column-vector y was passed when a 1d array was expected. Please change the shape of y to (n_samples, ), for example using ravel().\n",
      "  y = column_or_1d(y, warn=True)\n",
      "c:\\Users\\usuario\\Documents\\MCC\\Thesis\\Project\\2024_Project\\new_election\\venv\\Lib\\site-packages\\sklearn\\neural_network\\_multilayer_perceptron.py:546: ConvergenceWarning: lbfgs failed to converge (status=1):\n",
      "STOP: TOTAL NO. of ITERATIONS REACHED LIMIT.\n",
      "\n",
      "Increase the number of iterations (max_iter) or scale the data as shown in:\n",
      "    https://scikit-learn.org/stable/modules/preprocessing.html\n",
      "  self.n_iter_ = _check_optimize_result(\"lbfgs\", opt_res, self.max_iter)\n",
      "c:\\Users\\usuario\\Documents\\MCC\\Thesis\\Project\\2024_Project\\new_election\\venv\\Lib\\site-packages\\sklearn\\neural_network\\_multilayer_perceptron.py:1625: DataConversionWarning: A column-vector y was passed when a 1d array was expected. Please change the shape of y to (n_samples, ), for example using ravel().\n",
      "  y = column_or_1d(y, warn=True)\n",
      "c:\\Users\\usuario\\Documents\\MCC\\Thesis\\Project\\2024_Project\\new_election\\venv\\Lib\\site-packages\\sklearn\\neural_network\\_multilayer_perceptron.py:1625: DataConversionWarning: A column-vector y was passed when a 1d array was expected. Please change the shape of y to (n_samples, ), for example using ravel().\n",
      "  y = column_or_1d(y, warn=True)\n",
      "c:\\Users\\usuario\\Documents\\MCC\\Thesis\\Project\\2024_Project\\new_election\\venv\\Lib\\site-packages\\sklearn\\neural_network\\_multilayer_perceptron.py:1625: DataConversionWarning: A column-vector y was passed when a 1d array was expected. Please change the shape of y to (n_samples, ), for example using ravel().\n",
      "  y = column_or_1d(y, warn=True)\n"
     ]
    },
    {
     "name": "stdout",
     "output_type": "stream",
     "text": [
      "3 resulting components for this data, which is based on 2 days for candidate 2.\n"
     ]
    },
    {
     "name": "stderr",
     "output_type": "stream",
     "text": [
      "c:\\Users\\usuario\\Documents\\MCC\\Thesis\\Project\\2024_Project\\new_election\\venv\\Lib\\site-packages\\sklearn\\neural_network\\_multilayer_perceptron.py:1625: DataConversionWarning: A column-vector y was passed when a 1d array was expected. Please change the shape of y to (n_samples, ), for example using ravel().\n",
      "  y = column_or_1d(y, warn=True)\n",
      "c:\\Users\\usuario\\Documents\\MCC\\Thesis\\Project\\2024_Project\\new_election\\venv\\Lib\\site-packages\\sklearn\\neural_network\\_multilayer_perceptron.py:1625: DataConversionWarning: A column-vector y was passed when a 1d array was expected. Please change the shape of y to (n_samples, ), for example using ravel().\n",
      "  y = column_or_1d(y, warn=True)\n",
      "c:\\Users\\usuario\\Documents\\MCC\\Thesis\\Project\\2024_Project\\new_election\\venv\\Lib\\site-packages\\sklearn\\neural_network\\_multilayer_perceptron.py:546: ConvergenceWarning: lbfgs failed to converge (status=1):\n",
      "STOP: TOTAL NO. of ITERATIONS REACHED LIMIT.\n",
      "\n",
      "Increase the number of iterations (max_iter) or scale the data as shown in:\n",
      "    https://scikit-learn.org/stable/modules/preprocessing.html\n",
      "  self.n_iter_ = _check_optimize_result(\"lbfgs\", opt_res, self.max_iter)\n",
      "c:\\Users\\usuario\\Documents\\MCC\\Thesis\\Project\\2024_Project\\new_election\\venv\\Lib\\site-packages\\sklearn\\neural_network\\_multilayer_perceptron.py:1625: DataConversionWarning: A column-vector y was passed when a 1d array was expected. Please change the shape of y to (n_samples, ), for example using ravel().\n",
      "  y = column_or_1d(y, warn=True)\n",
      "c:\\Users\\usuario\\Documents\\MCC\\Thesis\\Project\\2024_Project\\new_election\\venv\\Lib\\site-packages\\sklearn\\neural_network\\_multilayer_perceptron.py:1625: DataConversionWarning: A column-vector y was passed when a 1d array was expected. Please change the shape of y to (n_samples, ), for example using ravel().\n",
      "  y = column_or_1d(y, warn=True)\n"
     ]
    },
    {
     "name": "stdout",
     "output_type": "stream",
     "text": [
      "3 resulting components for this data, which is based on 3 days for candidate 2.\n"
     ]
    },
    {
     "name": "stderr",
     "output_type": "stream",
     "text": [
      "c:\\Users\\usuario\\Documents\\MCC\\Thesis\\Project\\2024_Project\\new_election\\venv\\Lib\\site-packages\\sklearn\\neural_network\\_multilayer_perceptron.py:1625: DataConversionWarning: A column-vector y was passed when a 1d array was expected. Please change the shape of y to (n_samples, ), for example using ravel().\n",
      "  y = column_or_1d(y, warn=True)\n",
      "c:\\Users\\usuario\\Documents\\MCC\\Thesis\\Project\\2024_Project\\new_election\\venv\\Lib\\site-packages\\sklearn\\neural_network\\_multilayer_perceptron.py:546: ConvergenceWarning: lbfgs failed to converge (status=1):\n",
      "STOP: TOTAL NO. of ITERATIONS REACHED LIMIT.\n",
      "\n",
      "Increase the number of iterations (max_iter) or scale the data as shown in:\n",
      "    https://scikit-learn.org/stable/modules/preprocessing.html\n",
      "  self.n_iter_ = _check_optimize_result(\"lbfgs\", opt_res, self.max_iter)\n",
      "c:\\Users\\usuario\\Documents\\MCC\\Thesis\\Project\\2024_Project\\new_election\\venv\\Lib\\site-packages\\sklearn\\neural_network\\_multilayer_perceptron.py:1625: DataConversionWarning: A column-vector y was passed when a 1d array was expected. Please change the shape of y to (n_samples, ), for example using ravel().\n",
      "  y = column_or_1d(y, warn=True)\n",
      "c:\\Users\\usuario\\Documents\\MCC\\Thesis\\Project\\2024_Project\\new_election\\venv\\Lib\\site-packages\\sklearn\\neural_network\\_multilayer_perceptron.py:1625: DataConversionWarning: A column-vector y was passed when a 1d array was expected. Please change the shape of y to (n_samples, ), for example using ravel().\n",
      "  y = column_or_1d(y, warn=True)\n",
      "c:\\Users\\usuario\\Documents\\MCC\\Thesis\\Project\\2024_Project\\new_election\\venv\\Lib\\site-packages\\sklearn\\neural_network\\_multilayer_perceptron.py:546: ConvergenceWarning: lbfgs failed to converge (status=1):\n",
      "STOP: TOTAL NO. of ITERATIONS REACHED LIMIT.\n",
      "\n",
      "Increase the number of iterations (max_iter) or scale the data as shown in:\n",
      "    https://scikit-learn.org/stable/modules/preprocessing.html\n",
      "  self.n_iter_ = _check_optimize_result(\"lbfgs\", opt_res, self.max_iter)\n",
      "c:\\Users\\usuario\\Documents\\MCC\\Thesis\\Project\\2024_Project\\new_election\\venv\\Lib\\site-packages\\sklearn\\neural_network\\_multilayer_perceptron.py:1625: DataConversionWarning: A column-vector y was passed when a 1d array was expected. Please change the shape of y to (n_samples, ), for example using ravel().\n",
      "  y = column_or_1d(y, warn=True)\n",
      "c:\\Users\\usuario\\Documents\\MCC\\Thesis\\Project\\2024_Project\\new_election\\venv\\Lib\\site-packages\\sklearn\\neural_network\\_multilayer_perceptron.py:1625: DataConversionWarning: A column-vector y was passed when a 1d array was expected. Please change the shape of y to (n_samples, ), for example using ravel().\n",
      "  y = column_or_1d(y, warn=True)\n",
      "c:\\Users\\usuario\\Documents\\MCC\\Thesis\\Project\\2024_Project\\new_election\\venv\\Lib\\site-packages\\sklearn\\neural_network\\_multilayer_perceptron.py:1625: DataConversionWarning: A column-vector y was passed when a 1d array was expected. Please change the shape of y to (n_samples, ), for example using ravel().\n",
      "  y = column_or_1d(y, warn=True)\n"
     ]
    },
    {
     "name": "stdout",
     "output_type": "stream",
     "text": [
      "3 resulting components for this data, which is based on 4 days for candidate 2.\n"
     ]
    },
    {
     "name": "stderr",
     "output_type": "stream",
     "text": [
      "c:\\Users\\usuario\\Documents\\MCC\\Thesis\\Project\\2024_Project\\new_election\\venv\\Lib\\site-packages\\sklearn\\neural_network\\_multilayer_perceptron.py:1625: DataConversionWarning: A column-vector y was passed when a 1d array was expected. Please change the shape of y to (n_samples, ), for example using ravel().\n",
      "  y = column_or_1d(y, warn=True)\n",
      "c:\\Users\\usuario\\Documents\\MCC\\Thesis\\Project\\2024_Project\\new_election\\venv\\Lib\\site-packages\\sklearn\\neural_network\\_multilayer_perceptron.py:1625: DataConversionWarning: A column-vector y was passed when a 1d array was expected. Please change the shape of y to (n_samples, ), for example using ravel().\n",
      "  y = column_or_1d(y, warn=True)\n",
      "c:\\Users\\usuario\\Documents\\MCC\\Thesis\\Project\\2024_Project\\new_election\\venv\\Lib\\site-packages\\sklearn\\neural_network\\_multilayer_perceptron.py:1625: DataConversionWarning: A column-vector y was passed when a 1d array was expected. Please change the shape of y to (n_samples, ), for example using ravel().\n",
      "  y = column_or_1d(y, warn=True)\n",
      "c:\\Users\\usuario\\Documents\\MCC\\Thesis\\Project\\2024_Project\\new_election\\venv\\Lib\\site-packages\\sklearn\\neural_network\\_multilayer_perceptron.py:1625: DataConversionWarning: A column-vector y was passed when a 1d array was expected. Please change the shape of y to (n_samples, ), for example using ravel().\n",
      "  y = column_or_1d(y, warn=True)\n",
      "c:\\Users\\usuario\\Documents\\MCC\\Thesis\\Project\\2024_Project\\new_election\\venv\\Lib\\site-packages\\sklearn\\neural_network\\_multilayer_perceptron.py:1625: DataConversionWarning: A column-vector y was passed when a 1d array was expected. Please change the shape of y to (n_samples, ), for example using ravel().\n",
      "  y = column_or_1d(y, warn=True)\n"
     ]
    },
    {
     "name": "stdout",
     "output_type": "stream",
     "text": [
      "3 resulting components for this data, which is based on 5 days for candidate 2.\n"
     ]
    },
    {
     "name": "stderr",
     "output_type": "stream",
     "text": [
      "c:\\Users\\usuario\\Documents\\MCC\\Thesis\\Project\\2024_Project\\new_election\\venv\\Lib\\site-packages\\sklearn\\neural_network\\_multilayer_perceptron.py:1625: DataConversionWarning: A column-vector y was passed when a 1d array was expected. Please change the shape of y to (n_samples, ), for example using ravel().\n",
      "  y = column_or_1d(y, warn=True)\n",
      "c:\\Users\\usuario\\Documents\\MCC\\Thesis\\Project\\2024_Project\\new_election\\venv\\Lib\\site-packages\\sklearn\\neural_network\\_multilayer_perceptron.py:1625: DataConversionWarning: A column-vector y was passed when a 1d array was expected. Please change the shape of y to (n_samples, ), for example using ravel().\n",
      "  y = column_or_1d(y, warn=True)\n",
      "c:\\Users\\usuario\\Documents\\MCC\\Thesis\\Project\\2024_Project\\new_election\\venv\\Lib\\site-packages\\sklearn\\neural_network\\_multilayer_perceptron.py:1625: DataConversionWarning: A column-vector y was passed when a 1d array was expected. Please change the shape of y to (n_samples, ), for example using ravel().\n",
      "  y = column_or_1d(y, warn=True)\n",
      "c:\\Users\\usuario\\Documents\\MCC\\Thesis\\Project\\2024_Project\\new_election\\venv\\Lib\\site-packages\\sklearn\\neural_network\\_multilayer_perceptron.py:1625: DataConversionWarning: A column-vector y was passed when a 1d array was expected. Please change the shape of y to (n_samples, ), for example using ravel().\n",
      "  y = column_or_1d(y, warn=True)\n",
      "c:\\Users\\usuario\\Documents\\MCC\\Thesis\\Project\\2024_Project\\new_election\\venv\\Lib\\site-packages\\sklearn\\neural_network\\_multilayer_perceptron.py:1625: DataConversionWarning: A column-vector y was passed when a 1d array was expected. Please change the shape of y to (n_samples, ), for example using ravel().\n",
      "  y = column_or_1d(y, warn=True)\n",
      "c:\\Users\\usuario\\Documents\\MCC\\Thesis\\Project\\2024_Project\\new_election\\venv\\Lib\\site-packages\\sklearn\\neural_network\\_multilayer_perceptron.py:1625: DataConversionWarning: A column-vector y was passed when a 1d array was expected. Please change the shape of y to (n_samples, ), for example using ravel().\n",
      "  y = column_or_1d(y, warn=True)\n"
     ]
    },
    {
     "name": "stdout",
     "output_type": "stream",
     "text": [
      "3 resulting components for this data, which is based on 6 days for candidate 2.\n"
     ]
    },
    {
     "name": "stderr",
     "output_type": "stream",
     "text": [
      "c:\\Users\\usuario\\Documents\\MCC\\Thesis\\Project\\2024_Project\\new_election\\venv\\Lib\\site-packages\\sklearn\\neural_network\\_multilayer_perceptron.py:1625: DataConversionWarning: A column-vector y was passed when a 1d array was expected. Please change the shape of y to (n_samples, ), for example using ravel().\n",
      "  y = column_or_1d(y, warn=True)\n",
      "c:\\Users\\usuario\\Documents\\MCC\\Thesis\\Project\\2024_Project\\new_election\\venv\\Lib\\site-packages\\sklearn\\neural_network\\_multilayer_perceptron.py:1625: DataConversionWarning: A column-vector y was passed when a 1d array was expected. Please change the shape of y to (n_samples, ), for example using ravel().\n",
      "  y = column_or_1d(y, warn=True)\n",
      "c:\\Users\\usuario\\Documents\\MCC\\Thesis\\Project\\2024_Project\\new_election\\venv\\Lib\\site-packages\\sklearn\\neural_network\\_multilayer_perceptron.py:1625: DataConversionWarning: A column-vector y was passed when a 1d array was expected. Please change the shape of y to (n_samples, ), for example using ravel().\n",
      "  y = column_or_1d(y, warn=True)\n",
      "c:\\Users\\usuario\\Documents\\MCC\\Thesis\\Project\\2024_Project\\new_election\\venv\\Lib\\site-packages\\sklearn\\neural_network\\_multilayer_perceptron.py:1625: DataConversionWarning: A column-vector y was passed when a 1d array was expected. Please change the shape of y to (n_samples, ), for example using ravel().\n",
      "  y = column_or_1d(y, warn=True)\n"
     ]
    },
    {
     "name": "stdout",
     "output_type": "stream",
     "text": [
      "3 resulting components for this data, which is based on 7 days for candidate 2.\n"
     ]
    },
    {
     "name": "stderr",
     "output_type": "stream",
     "text": [
      "c:\\Users\\usuario\\Documents\\MCC\\Thesis\\Project\\2024_Project\\new_election\\venv\\Lib\\site-packages\\sklearn\\neural_network\\_multilayer_perceptron.py:1625: DataConversionWarning: A column-vector y was passed when a 1d array was expected. Please change the shape of y to (n_samples, ), for example using ravel().\n",
      "  y = column_or_1d(y, warn=True)\n",
      "c:\\Users\\usuario\\Documents\\MCC\\Thesis\\Project\\2024_Project\\new_election\\venv\\Lib\\site-packages\\sklearn\\neural_network\\_multilayer_perceptron.py:1625: DataConversionWarning: A column-vector y was passed when a 1d array was expected. Please change the shape of y to (n_samples, ), for example using ravel().\n",
      "  y = column_or_1d(y, warn=True)\n",
      "c:\\Users\\usuario\\Documents\\MCC\\Thesis\\Project\\2024_Project\\new_election\\venv\\Lib\\site-packages\\sklearn\\neural_network\\_multilayer_perceptron.py:1625: DataConversionWarning: A column-vector y was passed when a 1d array was expected. Please change the shape of y to (n_samples, ), for example using ravel().\n",
      "  y = column_or_1d(y, warn=True)\n",
      "c:\\Users\\usuario\\Documents\\MCC\\Thesis\\Project\\2024_Project\\new_election\\venv\\Lib\\site-packages\\sklearn\\neural_network\\_multilayer_perceptron.py:1625: DataConversionWarning: A column-vector y was passed when a 1d array was expected. Please change the shape of y to (n_samples, ), for example using ravel().\n",
      "  y = column_or_1d(y, warn=True)\n",
      "c:\\Users\\usuario\\Documents\\MCC\\Thesis\\Project\\2024_Project\\new_election\\venv\\Lib\\site-packages\\sklearn\\neural_network\\_multilayer_perceptron.py:1625: DataConversionWarning: A column-vector y was passed when a 1d array was expected. Please change the shape of y to (n_samples, ), for example using ravel().\n",
      "  y = column_or_1d(y, warn=True)\n"
     ]
    },
    {
     "name": "stdout",
     "output_type": "stream",
     "text": [
      "3 resulting components for this data, which is based on 14 days for candidate 2.\n"
     ]
    },
    {
     "name": "stderr",
     "output_type": "stream",
     "text": [
      "c:\\Users\\usuario\\Documents\\MCC\\Thesis\\Project\\2024_Project\\new_election\\venv\\Lib\\site-packages\\sklearn\\neural_network\\_multilayer_perceptron.py:1625: DataConversionWarning: A column-vector y was passed when a 1d array was expected. Please change the shape of y to (n_samples, ), for example using ravel().\n",
      "  y = column_or_1d(y, warn=True)\n",
      "c:\\Users\\usuario\\Documents\\MCC\\Thesis\\Project\\2024_Project\\new_election\\venv\\Lib\\site-packages\\sklearn\\neural_network\\_multilayer_perceptron.py:1625: DataConversionWarning: A column-vector y was passed when a 1d array was expected. Please change the shape of y to (n_samples, ), for example using ravel().\n",
      "  y = column_or_1d(y, warn=True)\n",
      "c:\\Users\\usuario\\Documents\\MCC\\Thesis\\Project\\2024_Project\\new_election\\venv\\Lib\\site-packages\\sklearn\\neural_network\\_multilayer_perceptron.py:1625: DataConversionWarning: A column-vector y was passed when a 1d array was expected. Please change the shape of y to (n_samples, ), for example using ravel().\n",
      "  y = column_or_1d(y, warn=True)\n",
      "c:\\Users\\usuario\\Documents\\MCC\\Thesis\\Project\\2024_Project\\new_election\\venv\\Lib\\site-packages\\sklearn\\neural_network\\_multilayer_perceptron.py:1625: DataConversionWarning: A column-vector y was passed when a 1d array was expected. Please change the shape of y to (n_samples, ), for example using ravel().\n",
      "  y = column_or_1d(y, warn=True)\n"
     ]
    },
    {
     "name": "stdout",
     "output_type": "stream",
     "text": [
      "3 resulting components for this data, which is based on 21 days for candidate 2.\n"
     ]
    },
    {
     "name": "stderr",
     "output_type": "stream",
     "text": [
      "c:\\Users\\usuario\\Documents\\MCC\\Thesis\\Project\\2024_Project\\new_election\\venv\\Lib\\site-packages\\sklearn\\neural_network\\_multilayer_perceptron.py:1625: DataConversionWarning: A column-vector y was passed when a 1d array was expected. Please change the shape of y to (n_samples, ), for example using ravel().\n",
      "  y = column_or_1d(y, warn=True)\n",
      "c:\\Users\\usuario\\Documents\\MCC\\Thesis\\Project\\2024_Project\\new_election\\venv\\Lib\\site-packages\\sklearn\\neural_network\\_multilayer_perceptron.py:1625: DataConversionWarning: A column-vector y was passed when a 1d array was expected. Please change the shape of y to (n_samples, ), for example using ravel().\n",
      "  y = column_or_1d(y, warn=True)\n",
      "c:\\Users\\usuario\\Documents\\MCC\\Thesis\\Project\\2024_Project\\new_election\\venv\\Lib\\site-packages\\sklearn\\neural_network\\_multilayer_perceptron.py:1625: DataConversionWarning: A column-vector y was passed when a 1d array was expected. Please change the shape of y to (n_samples, ), for example using ravel().\n",
      "  y = column_or_1d(y, warn=True)\n",
      "c:\\Users\\usuario\\Documents\\MCC\\Thesis\\Project\\2024_Project\\new_election\\venv\\Lib\\site-packages\\sklearn\\neural_network\\_multilayer_perceptron.py:1625: DataConversionWarning: A column-vector y was passed when a 1d array was expected. Please change the shape of y to (n_samples, ), for example using ravel().\n",
      "  y = column_or_1d(y, warn=True)\n",
      "c:\\Users\\usuario\\Documents\\MCC\\Thesis\\Project\\2024_Project\\new_election\\venv\\Lib\\site-packages\\sklearn\\neural_network\\_multilayer_perceptron.py:1625: DataConversionWarning: A column-vector y was passed when a 1d array was expected. Please change the shape of y to (n_samples, ), for example using ravel().\n",
      "  y = column_or_1d(y, warn=True)\n",
      "c:\\Users\\usuario\\Documents\\MCC\\Thesis\\Project\\2024_Project\\new_election\\venv\\Lib\\site-packages\\sklearn\\neural_network\\_multilayer_perceptron.py:1625: DataConversionWarning: A column-vector y was passed when a 1d array was expected. Please change the shape of y to (n_samples, ), for example using ravel().\n",
      "  y = column_or_1d(y, warn=True)\n"
     ]
    },
    {
     "name": "stdout",
     "output_type": "stream",
     "text": [
      "3 resulting components for this data, which is based on 28 days for candidate 2.\n"
     ]
    },
    {
     "name": "stderr",
     "output_type": "stream",
     "text": [
      "c:\\Users\\usuario\\Documents\\MCC\\Thesis\\Project\\2024_Project\\new_election\\venv\\Lib\\site-packages\\sklearn\\neural_network\\_multilayer_perceptron.py:1625: DataConversionWarning: A column-vector y was passed when a 1d array was expected. Please change the shape of y to (n_samples, ), for example using ravel().\n",
      "  y = column_or_1d(y, warn=True)\n",
      "c:\\Users\\usuario\\Documents\\MCC\\Thesis\\Project\\2024_Project\\new_election\\venv\\Lib\\site-packages\\sklearn\\neural_network\\_multilayer_perceptron.py:1625: DataConversionWarning: A column-vector y was passed when a 1d array was expected. Please change the shape of y to (n_samples, ), for example using ravel().\n",
      "  y = column_or_1d(y, warn=True)\n",
      "c:\\Users\\usuario\\Documents\\MCC\\Thesis\\Project\\2024_Project\\new_election\\venv\\Lib\\site-packages\\sklearn\\neural_network\\_multilayer_perceptron.py:1625: DataConversionWarning: A column-vector y was passed when a 1d array was expected. Please change the shape of y to (n_samples, ), for example using ravel().\n",
      "  y = column_or_1d(y, warn=True)\n",
      "c:\\Users\\usuario\\Documents\\MCC\\Thesis\\Project\\2024_Project\\new_election\\venv\\Lib\\site-packages\\sklearn\\neural_network\\_multilayer_perceptron.py:1625: DataConversionWarning: A column-vector y was passed when a 1d array was expected. Please change the shape of y to (n_samples, ), for example using ravel().\n",
      "  y = column_or_1d(y, warn=True)\n"
     ]
    }
   ],
   "source": [
    "predictions = []\n",
    "galvez_mlp = []\n",
    "for i in days:\n",
    "  # Scan the file and set data\n",
    "  data = pd.read_csv(f'./galvez/2_{i}.csv', usecols=columns, encoding=\"utf-8\")\n",
    "  # Training and testing data; Remove last row which is the testing row\n",
    "  training_data = data.iloc[:-1]\n",
    "  testing_data = pd.DataFrame(data.iloc[-1])\n",
    "  testing_data = testing_data.T\n",
    "  # Splitting\n",
    "  X_train = training_data[feature_columns]\n",
    "  y_train = training_data[target]\n",
    "\n",
    "  X_test = testing_data[feature_columns]\n",
    "  y_test = testing_data[target]\n",
    "\n",
    "  # Instantiating both the standard scaler and PCA\n",
    "  scaler = StandardScaler()\n",
    "  pca = PCA(n_components=0.95, svd_solver='full')\n",
    "\n",
    "  # Fitting the scaler to the X_train anf transforming both X_train and y-train based on it\n",
    "  scaler.fit(X_train)\n",
    "  X_train = scaler.transform(X_train)\n",
    "  X_test = scaler.transform(X_test)\n",
    "\n",
    "  # Fitting PCA to the X_train anf transforming both X_train and y-train based on it\n",
    "  pca.fit(X_train)\n",
    "  X_train = pca.transform(X_train)\n",
    "  X_test = pca.transform(X_test)\n",
    "\n",
    "  # Details about the PCA instantiation\n",
    "  pca_components = pca.n_components_\n",
    "  pca_variance = pca.explained_variance_ratio_\n",
    "\n",
    "  print(f\"{pca_components} resulting components for this data, which is based on {i} days for candidate 2.\")\n",
    "\n",
    "  # Assign random states (as literature)\n",
    "  for y in seeds:\n",
    "    regr = MLPRegressor(hidden_layer_sizes=(3, ), solver=\"lbfgs\", alpha=0.05, random_state=y, max_iter=500).fit(X_train, y_train)\n",
    "    # Predict\n",
    "    prediction = regr.predict(X_test)\n",
    "    # Append prediction\n",
    "    galvez_mlp.append(prediction[0])\n",
    "  # Append the 5 averaged predictions to a final predictions list\n",
    "  predictions.append(average(galvez_mlp))"
   ]
  },
  {
   "cell_type": "code",
   "execution_count": 126,
   "metadata": {},
   "outputs": [
    {
     "name": "stdout",
     "output_type": "stream",
     "text": [
      "The number of predictions to be averaged is 10 and for that, the predicted result by MLP alone is 25%, the real vote share was 22%\n"
     ]
    }
   ],
   "source": [
    "print(f\"The number of predictions to be averaged is {len(predictions)} and for that, the predicted result by MLP alone is {round(average(predictions))}%, the real vote share was {int(y_test['Target'].iloc[0])}%\");"
   ]
  },
  {
   "cell_type": "markdown",
   "metadata": {},
   "source": [
    "## Linear Regression"
   ]
  },
  {
   "cell_type": "markdown",
   "metadata": {},
   "source": [
    "LinearRegression fits a linear model with coefficients w = (w1, …, wp) to minimize the residual sum of squares between the observed targets in the dataset, and the targets predicted by the linear approximation."
   ]
  },
  {
   "cell_type": "markdown",
   "metadata": {},
   "source": [
    "### LR"
   ]
  },
  {
   "cell_type": "markdown",
   "metadata": {},
   "source": [
    "#### Claudia"
   ]
  },
  {
   "cell_type": "code",
   "execution_count": 127,
   "metadata": {},
   "outputs": [],
   "source": [
    "predictions = []\n",
    "claudia_lr = []\n",
    "for i in days:\n",
    "  # Scan the file and set data\n",
    "  data = pd.read_csv(f'./claudia/1_{i}.csv', usecols=columns, encoding=\"utf-8\")\n",
    "  # Training and testing data; Remove last row which is the testing row\n",
    "  training_data = data.iloc[:-1]\n",
    "  testing_data = pd.DataFrame(data.iloc[-1])\n",
    "  testing_data = testing_data.T\n",
    "  # Splitting\n",
    "  X_train = training_data[feature_columns]\n",
    "  y_train = training_data[target]\n",
    "\n",
    "  X_test = testing_data[feature_columns]\n",
    "  y_test = testing_data[target]\n",
    "  # Assign random states (as literature)\n",
    "  for y in seeds:\n",
    "    regr = LinearRegression().fit(X_train, y_train)\n",
    "    # Predict\n",
    "    prediction = regr.predict(X_test)\n",
    "    # Append prediction\n",
    "    claudia_lr.append(prediction[0][0])\n",
    "  # Append the 5 averaged predictions to a final predictions list\n",
    "  predictions.append(average(claudia_lr))"
   ]
  },
  {
   "cell_type": "code",
   "execution_count": 128,
   "metadata": {},
   "outputs": [
    {
     "name": "stdout",
     "output_type": "stream",
     "text": [
      "The number of predictions to be averaged is 10 and for that, the predicted result by LR alone is 56%, the real vote share was 63%\n"
     ]
    }
   ],
   "source": [
    "print(f\"The number of predictions to be averaged is {len(predictions)} and for that, the predicted result by LR alone is {round(average(predictions))}%, the real vote share was {int(y_test['Target'].iloc[0])}%\");"
   ]
  },
  {
   "cell_type": "markdown",
   "metadata": {},
   "source": [
    "#### Gálvez"
   ]
  },
  {
   "cell_type": "code",
   "execution_count": 129,
   "metadata": {},
   "outputs": [],
   "source": [
    "predictions = []\n",
    "galvez_lr = []\n",
    "for i in days:\n",
    "  # Scan the file and set data\n",
    "  data = pd.read_csv(f'./galvez/2_{i}.csv', usecols=columns, encoding=\"utf-8\")\n",
    "  # Training and testing data; Remove last row which is the testing row\n",
    "  training_data = data.iloc[:-1]\n",
    "  testing_data = pd.DataFrame(data.iloc[-1])\n",
    "  testing_data = testing_data.T\n",
    "  # Splitting\n",
    "  X_train = training_data[feature_columns]\n",
    "  y_train = training_data[target]\n",
    "\n",
    "  X_test = testing_data[feature_columns]\n",
    "  y_test = testing_data[target]\n",
    "  # Assign random states (as literature)\n",
    "  for y in seeds:\n",
    "    regr = LinearRegression().fit(X_train, y_train)\n",
    "    # Predict\n",
    "    prediction = regr.predict(X_test)\n",
    "    # Append prediction\n",
    "    galvez_lr.append(prediction[0][0])\n",
    "  # Append the 5 averaged predictions to a final predictions list\n",
    "  predictions.append(average(galvez_lr))"
   ]
  },
  {
   "cell_type": "code",
   "execution_count": 130,
   "metadata": {},
   "outputs": [
    {
     "name": "stdout",
     "output_type": "stream",
     "text": [
      "The number of predictions to be averaged is 10 and for that, the predicted result by LR alone is 25%, the real vote share was 22%\n"
     ]
    }
   ],
   "source": [
    "print(f\"The number of predictions to be averaged is {len(predictions)} and for that, the predicted result by LR alone is {round(average(predictions))}%, the real vote share was {int(y_test['Target'].iloc[0])}%\");"
   ]
  },
  {
   "cell_type": "markdown",
   "metadata": {},
   "source": [
    "Once again.. there is a noticeable difference between standarizing the data and not doing so like above, perhaps something to dig into in the EDA notebook. Much more variance in Galvez´s information?"
   ]
  },
  {
   "cell_type": "markdown",
   "metadata": {},
   "source": [
    "### LR Scaled"
   ]
  },
  {
   "cell_type": "code",
   "execution_count": 131,
   "metadata": {},
   "outputs": [],
   "source": [
    "from sklearn.preprocessing import StandardScaler\n",
    "scaler = StandardScaler()\n",
    "from sklearn.preprocessing import MinMaxScaler\n",
    "minmaxer = MinMaxScaler()"
   ]
  },
  {
   "cell_type": "markdown",
   "metadata": {},
   "source": [
    "#### Claudia"
   ]
  },
  {
   "cell_type": "code",
   "execution_count": 132,
   "metadata": {},
   "outputs": [],
   "source": [
    "predictions = []\n",
    "claudia_lr = []\n",
    "for i in days:\n",
    "  # Scan the file and set data\n",
    "  data = pd.read_csv(f'./claudia/1_{i}.csv', usecols=columns, encoding=\"utf-8\")\n",
    "  # Training and testing data; Remove last row which is the testing row\n",
    "  training_data = data.iloc[:-1]\n",
    "  testing_data = pd.DataFrame(data.iloc[-1])\n",
    "  testing_data = testing_data.T\n",
    "  # Splitting\n",
    "  X_train = training_data[feature_columns]\n",
    "  y_train = training_data[target]\n",
    "\n",
    "  X_test = testing_data[feature_columns]\n",
    "  y_test = testing_data[target]\n",
    "\n",
    "  # Fitting the scaler to the X_train anf transforming both X_train and y-train based on it\n",
    "  scaler.fit(X_train)\n",
    "  X_train = scaler.transform(X_train)\n",
    "  X_test = scaler.transform(X_test)\n",
    "  \n",
    "  # Assign random states (as literature)\n",
    "  for y in seeds:\n",
    "    regr = LinearRegression().fit(X_train, y_train)\n",
    "    # Predict\n",
    "    prediction = regr.predict(X_test)\n",
    "    # Append prediction\n",
    "    claudia_lr.append(prediction[0][0])\n",
    "  # Append the 5 averaged predictions to a final predictions list\n",
    "  predictions.append(average(claudia_lr))"
   ]
  },
  {
   "cell_type": "code",
   "execution_count": 133,
   "metadata": {},
   "outputs": [
    {
     "name": "stdout",
     "output_type": "stream",
     "text": [
      "The number of predictions to be averaged is 10 and for that, the predicted result by LR alone is 56%, the real vote share was 63%\n"
     ]
    }
   ],
   "source": [
    "print(f\"The number of predictions to be averaged is {len(predictions)} and for that, the predicted result by LR alone is {round(average(predictions))}%, the real vote share was {int(y_test['Target'].iloc[0])}%\");"
   ]
  },
  {
   "cell_type": "markdown",
   "metadata": {},
   "source": [
    "#### Galvez"
   ]
  },
  {
   "cell_type": "code",
   "execution_count": 135,
   "metadata": {},
   "outputs": [],
   "source": [
    "predictions = []\n",
    "galvez_lr = []\n",
    "for i in days:\n",
    "  # Scan the file and set data\n",
    "  data = pd.read_csv(f'./galvez/2_{i}.csv', usecols=columns, encoding=\"utf-8\")\n",
    "  # Training and testing data; Remove last row which is the testing row\n",
    "  training_data = data.iloc[:-1]\n",
    "  testing_data = pd.DataFrame(data.iloc[-1])\n",
    "  testing_data = testing_data.T\n",
    "  # Splitting\n",
    "  X_train = training_data[feature_columns]\n",
    "  y_train = training_data[target]\n",
    "\n",
    "  X_test = testing_data[feature_columns]\n",
    "  y_test = testing_data[target]\n",
    "\n",
    "  # Fitting the scaler to the X_train anf transforming both X_train and y-train based on it\n",
    "  scaler.fit(X_train)\n",
    "  X_train = scaler.transform(X_train)\n",
    "  X_test = scaler.transform(X_test)\n",
    "  \n",
    "  # Assign random states (as literature)\n",
    "  for y in seeds:\n",
    "    regr = LinearRegression().fit(X_train, y_train)\n",
    "    # Predict\n",
    "    prediction = regr.predict(X_test)\n",
    "    # Append prediction\n",
    "    galvez_lr.append(prediction[0][0])\n",
    "  # Append the 5 averaged predictions to a final predictions list\n",
    "  predictions.append(average(galvez_lr))"
   ]
  },
  {
   "cell_type": "code",
   "execution_count": 136,
   "metadata": {},
   "outputs": [
    {
     "name": "stdout",
     "output_type": "stream",
     "text": [
      "The number of predictions to be averaged is 10 and for that, the predicted result by LR alone is 25%, the real vote share was 22%\n"
     ]
    }
   ],
   "source": [
    "print(f\"The number of predictions to be averaged is {len(predictions)} and for that, the predicted result by LR alone is {round(average(predictions))}%, the real vote share was {int(y_test['Target'].iloc[0])}%\");"
   ]
  },
  {
   "cell_type": "markdown",
   "metadata": {},
   "source": [
    "Once again, the importance of scaling..."
   ]
  },
  {
   "cell_type": "markdown",
   "metadata": {},
   "source": [
    "### LR w/ PCA"
   ]
  },
  {
   "cell_type": "code",
   "execution_count": 137,
   "metadata": {},
   "outputs": [],
   "source": [
    "from sklearn.decomposition import PCA\n",
    "from sklearn.preprocessing import StandardScaler"
   ]
  },
  {
   "cell_type": "markdown",
   "metadata": {},
   "source": [
    "#### Claudia"
   ]
  },
  {
   "cell_type": "code",
   "execution_count": 138,
   "metadata": {},
   "outputs": [
    {
     "name": "stdout",
     "output_type": "stream",
     "text": [
      "3 resulting components for this data, which is based on 1 days for candidate 1.\n",
      "3 resulting components for this data, which is based on 2 days for candidate 1.\n",
      "4 resulting components for this data, which is based on 3 days for candidate 1.\n",
      "4 resulting components for this data, which is based on 4 days for candidate 1.\n",
      "4 resulting components for this data, which is based on 5 days for candidate 1.\n",
      "4 resulting components for this data, which is based on 6 days for candidate 1.\n",
      "4 resulting components for this data, which is based on 7 days for candidate 1.\n",
      "4 resulting components for this data, which is based on 14 days for candidate 1.\n",
      "4 resulting components for this data, which is based on 21 days for candidate 1.\n",
      "4 resulting components for this data, which is based on 28 days for candidate 1.\n"
     ]
    }
   ],
   "source": [
    "predictions = []\n",
    "claudia_lr = []\n",
    "for i in days:\n",
    "  # Scan the file and set data\n",
    "  data = pd.read_csv(f'./claudia/1_{i}.csv', usecols=columns, encoding=\"utf-8\")\n",
    "  # Training and testing data; Remove last row which is the testing row\n",
    "  training_data = data.iloc[:-1]\n",
    "  testing_data = pd.DataFrame(data.iloc[-1])\n",
    "  testing_data = testing_data.T\n",
    "  # Splitting\n",
    "  X_train = training_data[feature_columns]\n",
    "  y_train = training_data[target]\n",
    "\n",
    "  X_test = testing_data[feature_columns]\n",
    "  y_test = testing_data[target]\n",
    "\n",
    "  # Instantiating both the standard scaler and PCA\n",
    "  scaler = StandardScaler()\n",
    "  pca = PCA(n_components=0.95, svd_solver='full')\n",
    "\n",
    "  # Fitting the scaler to the X_train anf transforming both X_train and y-train based on it\n",
    "  scaler.fit(X_train)\n",
    "  X_train = scaler.transform(X_train)\n",
    "  X_test = scaler.transform(X_test)\n",
    "\n",
    "  # Fitting PCA to the X_train anf transforming both X_train and y-train based on it\n",
    "  pca.fit(X_train)\n",
    "  X_train = pca.transform(X_train)\n",
    "  X_test = pca.transform(X_test)\n",
    "\n",
    "  # Details about the PCA instantiation\n",
    "  pca_components = pca.n_components_\n",
    "  pca_variance = pca.explained_variance_ratio_\n",
    "\n",
    "  print(f\"{pca_components} resulting components for this data, which is based on {i} days for candidate 1.\")\n",
    "  \n",
    "  # Assign random states (as literature)\n",
    "  for y in seeds:\n",
    "    regr = LinearRegression().fit(X_train, y_train)\n",
    "    # Predict\n",
    "    prediction = regr.predict(X_test)\n",
    "    # Append prediction\n",
    "    claudia_lr.append(prediction[0][0])\n",
    "  # Append the 5 averaged predictions to a final predictions list\n",
    "  predictions.append(average(claudia_lr))"
   ]
  },
  {
   "cell_type": "code",
   "execution_count": 139,
   "metadata": {},
   "outputs": [
    {
     "name": "stdout",
     "output_type": "stream",
     "text": [
      "The number of predictions to be averaged is 10 and for that, the predicted result by LR alone is 55%, the real vote share was 63%\n"
     ]
    }
   ],
   "source": [
    "print(f\"The number of predictions to be averaged is {len(predictions)} and for that, the predicted result by LR alone is {round(average(predictions))}%, the real vote share was {int(y_test['Target'].iloc[0])}%\");"
   ]
  },
  {
   "cell_type": "markdown",
   "metadata": {},
   "source": [
    "#### Galvez"
   ]
  },
  {
   "cell_type": "code",
   "execution_count": 140,
   "metadata": {},
   "outputs": [
    {
     "name": "stdout",
     "output_type": "stream",
     "text": [
      "3 resulting componentns for this data, which is based on 1 days for candidate 2.\n",
      "3 resulting componentns for this data, which is based on 2 days for candidate 2.\n",
      "3 resulting componentns for this data, which is based on 3 days for candidate 2.\n",
      "3 resulting componentns for this data, which is based on 4 days for candidate 2.\n",
      "3 resulting componentns for this data, which is based on 5 days for candidate 2.\n",
      "3 resulting componentns for this data, which is based on 6 days for candidate 2.\n",
      "3 resulting componentns for this data, which is based on 7 days for candidate 2.\n",
      "3 resulting componentns for this data, which is based on 14 days for candidate 2.\n",
      "3 resulting componentns for this data, which is based on 21 days for candidate 2.\n",
      "3 resulting componentns for this data, which is based on 28 days for candidate 2.\n"
     ]
    }
   ],
   "source": [
    "predictions = []\n",
    "galvez_lr = []\n",
    "for i in days:\n",
    "  # Scan the file and set data\n",
    "  data = pd.read_csv(f'./galvez/2_{i}.csv', usecols=columns, encoding=\"utf-8\")\n",
    "  # Training and testing data; Remove last row which is the testing row\n",
    "  training_data = data.iloc[:-1]\n",
    "  testing_data = pd.DataFrame(data.iloc[-1])\n",
    "  testing_data = testing_data.T\n",
    "  # Splitting\n",
    "  X_train = training_data[feature_columns]\n",
    "  y_train = training_data[target]\n",
    "\n",
    "  X_test = testing_data[feature_columns]\n",
    "  y_test = testing_data[target]\n",
    "\n",
    "  # Instantiating both the standard scaler and PCA\n",
    "  scaler = StandardScaler()\n",
    "  pca = PCA(n_components=0.95, svd_solver='full')\n",
    "\n",
    "  # Fitting the scaler to the X_train anf transforming both X_train and y-train based on it\n",
    "  scaler.fit(X_train)\n",
    "  X_train = scaler.transform(X_train)\n",
    "  X_test = scaler.transform(X_test)\n",
    "\n",
    "  # Fitting PCA to the X_train anf transforming both X_train and y-train based on it\n",
    "  pca.fit(X_train)\n",
    "  X_train = pca.transform(X_train)\n",
    "  X_test = pca.transform(X_test)\n",
    "\n",
    "  # Details about the PCA instantiation\n",
    "  pca_components = pca.n_components_\n",
    "  pca_variance = pca.explained_variance_ratio_\n",
    "\n",
    "  print(f\"{pca_components} resulting componentns for this data, which is based on {i} days for candidate 2.\")\n",
    "  \n",
    "  # Assign random states (as literature)\n",
    "  for y in seeds:\n",
    "    regr = LinearRegression().fit(X_train, y_train)\n",
    "    # Predict\n",
    "    prediction = regr.predict(X_test)\n",
    "    # Append prediction\n",
    "    galvez_lr.append(prediction[0][0])\n",
    "  # Append the 5 averaged predictions to a final predictions list\n",
    "  predictions.append(average(galvez_lr))"
   ]
  },
  {
   "cell_type": "code",
   "execution_count": 141,
   "metadata": {},
   "outputs": [
    {
     "name": "stdout",
     "output_type": "stream",
     "text": [
      "The number of predictions to be averaged is 10 and for that, the predicted result by LR alone is 25%, the real vote share was 22%\n"
     ]
    }
   ],
   "source": [
    "print(f\"The number of predictions to be averaged is {len(predictions)} and for that, the predicted result by LR alone is {round(average(predictions))}%, the real vote share was {int(y_test['Target'].iloc[0])}%\");"
   ]
  },
  {
   "cell_type": "markdown",
   "metadata": {},
   "source": [
    "## General Regression NN (GRNN)"
   ]
  },
  {
   "cell_type": "markdown",
   "metadata": {},
   "source": [
    "The GRNN also uses the supervised training approach, and falls into the category of probabilistic neural networks. The use of probabilistic neural networks is especially advantageous because the network learns in one pass through the data and is able to generalize from examples the moment they have been stored."
   ]
  },
  {
   "cell_type": "code",
   "execution_count": 5,
   "metadata": {},
   "outputs": [],
   "source": [
    "import numpy as np\n",
    "from sklearn import preprocessing\n",
    "from sklearn.model_selection import GridSearchCV\n",
    "from sklearn.metrics import mean_squared_error as MSE\n",
    "from sklearn.model_selection import train_test_split\n",
    "from pyGRNN import GRNN"
   ]
  },
  {
   "cell_type": "markdown",
   "metadata": {},
   "source": [
    "#### Claudia"
   ]
  },
  {
   "cell_type": "code",
   "execution_count": 6,
   "metadata": {},
   "outputs": [
    {
     "name": "stdout",
     "output_type": "stream",
     "text": [
      "Fitting 5 folds for each of 20 candidates, totalling 100 fits\n"
     ]
    }
   ],
   "source": [
    "# Scan the file and set data\n",
    "data = pd.read_csv(f'./claudia/1_1.csv', usecols=columns, encoding=\"utf-8\")\n",
    "# Splitting\n",
    "X = np.array(data[feature_columns])\n",
    "y = np.array(data[target])\n",
    "# Splitting data into training and testing\n",
    "X_train, X_test, y_train, y_test = train_test_split(preprocessing.minmax_scale(X),\n",
    "                                                    preprocessing.minmax_scale(y.reshape((-1, 1))),\n",
    "                                                    test_size=0.05)\n",
    "# Example 1: use Isotropic GRNN with a Grid Search Cross validation to select the optimal bandwidth\n",
    "IGRNN = GRNN()\n",
    "params_IGRNN = {'kernel':[\"RBF\"],\n",
    "                'sigma' : list(np.arange(0.1, 4, 0.2)),\n",
    "                'calibration' : ['None']\n",
    "                 }\n",
    "grid_IGRNN = GridSearchCV(estimator=IGRNN,\n",
    "                          param_grid=params_IGRNN,\n",
    "                          scoring='neg_mean_squared_error',\n",
    "                          cv=5,\n",
    "                          verbose=1\n",
    "                          )\n",
    "grid_IGRNN.fit(X_train, y_train.ravel())\n",
    "best_model = grid_IGRNN.best_estimator_\n",
    "y_pred = best_model.predict(X_test)\n",
    "mse_IGRNN = MSE(y_test, y_pred)"
   ]
  },
  {
   "cell_type": "markdown",
   "metadata": {},
   "source": [
    "## SVMs (Support Vector Machine)"
   ]
  },
  {
   "cell_type": "code",
   "execution_count": null,
   "metadata": {},
   "outputs": [],
   "source": []
  }
 ],
 "metadata": {
  "kernelspec": {
   "display_name": "venv",
   "language": "python",
   "name": "python3"
  },
  "language_info": {
   "codemirror_mode": {
    "name": "ipython",
    "version": 3
   },
   "file_extension": ".py",
   "mimetype": "text/x-python",
   "name": "python",
   "nbconvert_exporter": "python",
   "pygments_lexer": "ipython3",
   "version": "3.11.2"
  }
 },
 "nbformat": 4,
 "nbformat_minor": 2
}
